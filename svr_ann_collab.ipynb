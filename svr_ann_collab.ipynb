{
  "nbformat": 4,
  "nbformat_minor": 0,
  "metadata": {
    "colab": {
      "name": "svr_ann_collab.ipynb",
      "provenance": [],
      "collapsed_sections": [],
      "authorship_tag": "ABX9TyNVcXQnez34cfrNe8wVaf1+",
      "include_colab_link": true
    },
    "kernelspec": {
      "name": "python3",
      "display_name": "Python 3"
    }
  },
  "cells": [
    {
      "cell_type": "markdown",
      "metadata": {
        "id": "view-in-github",
        "colab_type": "text"
      },
      "source": [
        "<a href=\"https://colab.research.google.com/github/kashfay110/stock-market-python/blob/main/svr_ann_collab.ipynb\" target=\"_parent\"><img src=\"https://colab.research.google.com/assets/colab-badge.svg\" alt=\"Open In Colab\"/></a>"
      ]
    },
    {
      "cell_type": "code",
      "metadata": {
        "colab": {
          "base_uri": "https://localhost:8080/"
        },
        "id": "MQK3NVSPpP3d",
        "outputId": "f237996e-0fe9-4c1f-c97a-849fd0dbcb93"
      },
      "source": [
        "pip install mplfinance\n"
      ],
      "execution_count": null,
      "outputs": [
        {
          "output_type": "stream",
          "text": [
            "Collecting mplfinance\n",
            "\u001b[?25l  Downloading https://files.pythonhosted.org/packages/3f/4e/a3de915df8d112579beb3df22e47b3929670b10e9c5dfd4a2b31bf1a34a7/mplfinance-0.12.7a17-py3-none-any.whl (62kB)\n",
            "\u001b[K     |████████████████████████████████| 71kB 4.4MB/s \n",
            "\u001b[?25hRequirement already satisfied: pandas in /usr/local/lib/python3.7/dist-packages (from mplfinance) (1.1.5)\n",
            "Requirement already satisfied: matplotlib in /usr/local/lib/python3.7/dist-packages (from mplfinance) (3.2.2)\n",
            "Requirement already satisfied: pytz>=2017.2 in /usr/local/lib/python3.7/dist-packages (from pandas->mplfinance) (2018.9)\n",
            "Requirement already satisfied: numpy>=1.15.4 in /usr/local/lib/python3.7/dist-packages (from pandas->mplfinance) (1.19.5)\n",
            "Requirement already satisfied: python-dateutil>=2.7.3 in /usr/local/lib/python3.7/dist-packages (from pandas->mplfinance) (2.8.1)\n",
            "Requirement already satisfied: kiwisolver>=1.0.1 in /usr/local/lib/python3.7/dist-packages (from matplotlib->mplfinance) (1.3.1)\n",
            "Requirement already satisfied: pyparsing!=2.0.4,!=2.1.2,!=2.1.6,>=2.0.1 in /usr/local/lib/python3.7/dist-packages (from matplotlib->mplfinance) (2.4.7)\n",
            "Requirement already satisfied: cycler>=0.10 in /usr/local/lib/python3.7/dist-packages (from matplotlib->mplfinance) (0.10.0)\n",
            "Requirement already satisfied: six>=1.5 in /usr/local/lib/python3.7/dist-packages (from python-dateutil>=2.7.3->pandas->mplfinance) (1.15.0)\n",
            "Installing collected packages: mplfinance\n",
            "Successfully installed mplfinance-0.12.7a17\n"
          ],
          "name": "stdout"
        }
      ]
    },
    {
      "cell_type": "code",
      "metadata": {
        "colab": {
          "base_uri": "https://localhost:8080/"
        },
        "id": "c0VoFhrbAdqb",
        "outputId": "4882cfa2-2a6b-4eb0-cf65-d8a85457d0a1"
      },
      "source": [
        "pip install -U scikit-learn"
      ],
      "execution_count": null,
      "outputs": [
        {
          "output_type": "stream",
          "text": [
            "Collecting scikit-learn\n",
            "\u001b[?25l  Downloading https://files.pythonhosted.org/packages/a8/eb/a48f25c967526b66d5f1fa7a984594f0bf0a5afafa94a8c4dbc317744620/scikit_learn-0.24.2-cp37-cp37m-manylinux2010_x86_64.whl (22.3MB)\n",
            "\u001b[K     |████████████████████████████████| 22.3MB 1.5MB/s \n",
            "\u001b[?25hCollecting threadpoolctl>=2.0.0\n",
            "  Downloading https://files.pythonhosted.org/packages/f7/12/ec3f2e203afa394a149911729357aa48affc59c20e2c1c8297a60f33f133/threadpoolctl-2.1.0-py3-none-any.whl\n",
            "Requirement already satisfied, skipping upgrade: numpy>=1.13.3 in /usr/local/lib/python3.7/dist-packages (from scikit-learn) (1.19.5)\n",
            "Requirement already satisfied, skipping upgrade: scipy>=0.19.1 in /usr/local/lib/python3.7/dist-packages (from scikit-learn) (1.4.1)\n",
            "Requirement already satisfied, skipping upgrade: joblib>=0.11 in /usr/local/lib/python3.7/dist-packages (from scikit-learn) (1.0.1)\n",
            "Installing collected packages: threadpoolctl, scikit-learn\n",
            "  Found existing installation: scikit-learn 0.22.2.post1\n",
            "    Uninstalling scikit-learn-0.22.2.post1:\n",
            "      Successfully uninstalled scikit-learn-0.22.2.post1\n",
            "Successfully installed scikit-learn-0.24.2 threadpoolctl-2.1.0\n"
          ],
          "name": "stdout"
        }
      ]
    },
    {
      "cell_type": "code",
      "metadata": {
        "id": "8syOrDK7o9Ma"
      },
      "source": [
        "# import quandl\n",
        "import numpy as np\n",
        "from sklearn.linear_model import LinearRegression\n",
        "from sklearn.svm import SVR\n",
        "from sklearn.model_selection import train_test_split\n",
        "import pandas as pd\n",
        "from sklearn.metrics import mean_squared_error, mean_absolute_error, mean_absolute_percentage_error\n",
        "from sklearn.datasets import make_classification\n",
        "from sklearn.model_selection import KFold\n",
        "from sklearn.model_selection import cross_val_score\n",
        "import matplotlib.pyplot as plt\n",
        "plt.style.use('fivethirtyeight')\n",
        "import mplfinance as mpf\n",
        "import keras\n",
        "from keras.models import Sequential\n",
        "from keras.layers import Dense\n",
        "import os\n"
      ],
      "execution_count": null,
      "outputs": []
    },
    {
      "cell_type": "code",
      "metadata": {
        "id": "V4fGC34l372V",
        "colab": {
          "base_uri": "https://localhost:8080/"
        },
        "outputId": "3fee2ca0-1a4d-4f5d-b69b-55b6139c669c"
      },
      "source": [
        "from google.colab import drive\n",
        "drive.mount('/content/gdrive')\n"
      ],
      "execution_count": null,
      "outputs": [
        {
          "output_type": "stream",
          "text": [
            "Mounted at /content/gdrive\n"
          ],
          "name": "stdout"
        }
      ]
    },
    {
      "cell_type": "code",
      "metadata": {
        "id": "S8h3Og4H1ZVE"
      },
      "source": [
        "sectorname = 'Utilities'\n",
        "stockname = ['AWK','D','DUK','ES','NEE','PEG','SO','SRE','WEC','XEL']"
      ],
      "execution_count": null,
      "outputs": []
    },
    {
      "cell_type": "code",
      "metadata": {
        "id": "q45yAzWN4QKm",
        "colab": {
          "base_uri": "https://localhost:8080/"
        },
        "outputId": "6842cb45-110c-4b08-dec6-1aa28d340902"
      },
      "source": [
        "for s in stockname:\n",
        "  pathname = (f'/content/gdrive/My Drive/Colab Notebooks/dataset/Sectors/{sectorname}/{s}.csv')\n",
        "  df = pd.read_csv (pathname)\n",
        "  filename = os.path.basename(pathname)\n",
        "  filename_grab = os.path.splitext(filename)[0]\n",
        "\n",
        "  df = df[['Adj Close']]\n",
        "\n",
        "  # A variable for predicting 'forecast_out' days out in future\n",
        "  for i in [1,2,3,4,5,10,15,30]:\n",
        "    forecast_out = i\n",
        "    # Create another column (dependent variable) shifted 'forecast_out' units up\n",
        "    df['Prediction'] = df[[\"Adj Close\"]].shift(-forecast_out)\n",
        "\n",
        "    # Create the independent dataset\n",
        "    # Convert the dataframe to numpy array\n",
        "    X = np.array(df.drop(['Prediction'],1))\n",
        "    # Remove the last 'forecast_out' rows\n",
        "    X = X[:-forecast_out]\n",
        "    #print(X)\n",
        "    y = np.array(df['Prediction'])\n",
        "    # Get all of the y values except the last 'forecast_out' rows\n",
        "    y = y[:-forecast_out] \n",
        "\n",
        "    x_train, x_test, y_train, y_test = train_test_split(X, y, test_size=0.2)\n",
        "    x_forecast = np.array(df.drop(['Prediction'],1))[-forecast_out:]\n",
        "\n",
        "    ann_relu = Sequential()\n",
        "    ann_relu.add(Dense(200, input_dim=1, activation='relu'))\n",
        "    ann_relu.add(Dense(200, input_dim=200, activation='relu'))\n",
        "    ann_relu.add(Dense(200, input_dim=200, activation='relu'))\n",
        "    ann_relu.add(Dense(1, activation='linear'))\n",
        "\n",
        "    keras.optimizers.Adam(lr=0.1, beta_1=0.9, beta_2=0.999, amsgrad=False)\n",
        "    ann_relu.compile(loss='mean_squared_error', optimizer='RMSprop', metrics=['mean_absolute_percentage_error'])\n",
        "\n",
        "    ann_relu.summary()\n",
        "\n",
        "    history = ann_relu.fit(x_train, y_train, epochs=200, batch_size=32,validation_split=0.15,verbose=1)\n",
        "\n",
        "    y_pred_ann = ann_relu.predict(x_test)\n",
        "\n",
        "    mse_ann = mean_squared_error(y_test, y_pred_ann)\n",
        "    print(f'The MSE for the ANN algorithm is: {mse_ann}')\n",
        "\n",
        "    rmse_ann = mean_squared_error(y_test, y_pred_ann, squared=False)\n",
        "    print(f'The RMSE for the ANN algorithm is: {rmse_ann}')\n",
        "\n",
        "    mae_ann = mean_absolute_error(y_test, y_pred_ann)\n",
        "    print(f'The MAE for the ANN algorithm is: {mae_ann}')\n",
        "\n",
        "    mape_ann = mean_absolute_percentage_error(y_test, y_pred_ann)\n",
        "    print(f'The MAPE for the ANN algorithm is: {mape_ann}')\n",
        "\n",
        "    n_array = np.array([])\n",
        "    new_array = np.append(n_array, [mse_ann, rmse_ann, mae_ann, mape_ann])\n",
        "    print(new_array)\n",
        "\n",
        "    new_df = pd.DataFrame(new_array)\n",
        "\n",
        "    filepath = f'/content/gdrive/My Drive/Colab Notebooks/results/Sectors/{sectorname}/{forecast_out}Days/{filename_grab}_ann_results.xlsx'\n",
        "    new_df.to_excel(filepath, index=False)\n",
        "\n",
        "    keras.backend.clear_session()\n"
      ],
      "execution_count": null,
      "outputs": [
        {
          "output_type": "stream",
          "text": [
            "61/61 [==============================] - 0s 7ms/step - loss: 4.6930 - mean_absolute_percentage_error: 3.0118 - val_loss: 40.5083 - val_mean_absolute_percentage_error: 11.5446\n",
            "Epoch 56/200\n",
            "61/61 [==============================] - 0s 6ms/step - loss: 7.6370 - mean_absolute_percentage_error: 3.4287 - val_loss: 4.0134 - val_mean_absolute_percentage_error: 2.3383\n",
            "Epoch 57/200\n",
            "61/61 [==============================] - 0s 5ms/step - loss: 6.6155 - mean_absolute_percentage_error: 3.2699 - val_loss: 3.4990 - val_mean_absolute_percentage_error: 1.8768\n",
            "Epoch 58/200\n",
            "61/61 [==============================] - 0s 5ms/step - loss: 6.3157 - mean_absolute_percentage_error: 3.3295 - val_loss: 10.5392 - val_mean_absolute_percentage_error: 4.8460\n",
            "Epoch 59/200\n",
            "61/61 [==============================] - 0s 6ms/step - loss: 6.9861 - mean_absolute_percentage_error: 3.5012 - val_loss: 4.4835 - val_mean_absolute_percentage_error: 2.6641\n",
            "Epoch 60/200\n",
            "61/61 [==============================] - 0s 7ms/step - loss: 4.9869 - mean_absolute_percentage_error: 3.0644 - val_loss: 8.7334 - val_mean_absolute_percentage_error: 4.6294\n",
            "Epoch 61/200\n",
            "61/61 [==============================] - 0s 6ms/step - loss: 6.8992 - mean_absolute_percentage_error: 2.9095 - val_loss: 10.8415 - val_mean_absolute_percentage_error: 5.3782\n",
            "Epoch 62/200\n",
            "61/61 [==============================] - 0s 6ms/step - loss: 6.2057 - mean_absolute_percentage_error: 3.4074 - val_loss: 4.7192 - val_mean_absolute_percentage_error: 2.3844\n",
            "Epoch 63/200\n",
            "61/61 [==============================] - 0s 5ms/step - loss: 5.6722 - mean_absolute_percentage_error: 2.9190 - val_loss: 5.0773 - val_mean_absolute_percentage_error: 2.9955\n",
            "Epoch 64/200\n",
            "61/61 [==============================] - 0s 6ms/step - loss: 6.2715 - mean_absolute_percentage_error: 3.2743 - val_loss: 3.5881 - val_mean_absolute_percentage_error: 1.9790\n",
            "Epoch 65/200\n",
            "61/61 [==============================] - 0s 5ms/step - loss: 7.2842 - mean_absolute_percentage_error: 3.0813 - val_loss: 3.6923 - val_mean_absolute_percentage_error: 2.0741\n",
            "Epoch 66/200\n",
            "61/61 [==============================] - 0s 6ms/step - loss: 4.8376 - mean_absolute_percentage_error: 2.9160 - val_loss: 4.5863 - val_mean_absolute_percentage_error: 2.7206\n",
            "Epoch 67/200\n",
            "61/61 [==============================] - 0s 6ms/step - loss: 4.8897 - mean_absolute_percentage_error: 2.9858 - val_loss: 4.5210 - val_mean_absolute_percentage_error: 2.6857\n",
            "Epoch 68/200\n",
            "61/61 [==============================] - 0s 7ms/step - loss: 5.0737 - mean_absolute_percentage_error: 3.0085 - val_loss: 3.7191 - val_mean_absolute_percentage_error: 1.8814\n",
            "Epoch 69/200\n",
            "61/61 [==============================] - 0s 5ms/step - loss: 3.8768 - mean_absolute_percentage_error: 2.4292 - val_loss: 11.4484 - val_mean_absolute_percentage_error: 5.5646\n",
            "Epoch 70/200\n",
            "61/61 [==============================] - 0s 5ms/step - loss: 6.8113 - mean_absolute_percentage_error: 3.2900 - val_loss: 4.8366 - val_mean_absolute_percentage_error: 2.8652\n",
            "Epoch 71/200\n",
            "61/61 [==============================] - 0s 5ms/step - loss: 6.3832 - mean_absolute_percentage_error: 3.1310 - val_loss: 9.6763 - val_mean_absolute_percentage_error: 4.5445\n",
            "Epoch 72/200\n",
            "61/61 [==============================] - 0s 6ms/step - loss: 3.5894 - mean_absolute_percentage_error: 2.5141 - val_loss: 3.6692 - val_mean_absolute_percentage_error: 1.8644\n",
            "Epoch 73/200\n",
            "61/61 [==============================] - 0s 6ms/step - loss: 4.7522 - mean_absolute_percentage_error: 2.6737 - val_loss: 3.7897 - val_mean_absolute_percentage_error: 2.1713\n",
            "Epoch 74/200\n",
            "61/61 [==============================] - 0s 5ms/step - loss: 5.4301 - mean_absolute_percentage_error: 2.9079 - val_loss: 3.6007 - val_mean_absolute_percentage_error: 1.8390\n",
            "Epoch 75/200\n",
            "61/61 [==============================] - 0s 5ms/step - loss: 4.4544 - mean_absolute_percentage_error: 2.8581 - val_loss: 3.4835 - val_mean_absolute_percentage_error: 1.8471\n",
            "Epoch 76/200\n",
            "61/61 [==============================] - 0s 5ms/step - loss: 3.9112 - mean_absolute_percentage_error: 2.6543 - val_loss: 3.5039 - val_mean_absolute_percentage_error: 1.8203\n",
            "Epoch 77/200\n",
            "61/61 [==============================] - 0s 8ms/step - loss: 3.6802 - mean_absolute_percentage_error: 2.4195 - val_loss: 4.2507 - val_mean_absolute_percentage_error: 2.1247\n",
            "Epoch 78/200\n",
            "61/61 [==============================] - 0s 7ms/step - loss: 4.1130 - mean_absolute_percentage_error: 2.5044 - val_loss: 21.5759 - val_mean_absolute_percentage_error: 7.7814\n",
            "Epoch 79/200\n",
            "61/61 [==============================] - 0s 6ms/step - loss: 6.8580 - mean_absolute_percentage_error: 3.1431 - val_loss: 17.8928 - val_mean_absolute_percentage_error: 6.9434\n",
            "Epoch 80/200\n",
            "61/61 [==============================] - 0s 6ms/step - loss: 4.4900 - mean_absolute_percentage_error: 2.8407 - val_loss: 13.0282 - val_mean_absolute_percentage_error: 5.6502\n",
            "Epoch 81/200\n",
            "61/61 [==============================] - 0s 8ms/step - loss: 5.5122 - mean_absolute_percentage_error: 3.2097 - val_loss: 5.0498 - val_mean_absolute_percentage_error: 2.9796\n",
            "Epoch 82/200\n",
            "61/61 [==============================] - 0s 6ms/step - loss: 5.0152 - mean_absolute_percentage_error: 2.8123 - val_loss: 9.4934 - val_mean_absolute_percentage_error: 4.9156\n",
            "Epoch 83/200\n",
            "61/61 [==============================] - 0s 5ms/step - loss: 4.8216 - mean_absolute_percentage_error: 2.5933 - val_loss: 4.4712 - val_mean_absolute_percentage_error: 2.6578\n",
            "Epoch 84/200\n",
            "61/61 [==============================] - 0s 6ms/step - loss: 5.7716 - mean_absolute_percentage_error: 3.2612 - val_loss: 4.4253 - val_mean_absolute_percentage_error: 2.2131\n",
            "Epoch 85/200\n",
            "61/61 [==============================] - 0s 6ms/step - loss: 5.6302 - mean_absolute_percentage_error: 2.7184 - val_loss: 5.3645 - val_mean_absolute_percentage_error: 2.7061\n",
            "Epoch 86/200\n",
            "61/61 [==============================] - 0s 5ms/step - loss: 4.5417 - mean_absolute_percentage_error: 2.7101 - val_loss: 4.5578 - val_mean_absolute_percentage_error: 2.2886\n",
            "Epoch 87/200\n",
            "61/61 [==============================] - 0s 5ms/step - loss: 4.5303 - mean_absolute_percentage_error: 2.8114 - val_loss: 3.5523 - val_mean_absolute_percentage_error: 1.9399\n",
            "Epoch 88/200\n",
            "61/61 [==============================] - 0s 7ms/step - loss: 4.0628 - mean_absolute_percentage_error: 2.7330 - val_loss: 6.3931 - val_mean_absolute_percentage_error: 3.6295\n",
            "Epoch 89/200\n",
            "61/61 [==============================] - 0s 7ms/step - loss: 5.6497 - mean_absolute_percentage_error: 2.9555 - val_loss: 4.9419 - val_mean_absolute_percentage_error: 2.5101\n",
            "Epoch 90/200\n",
            "61/61 [==============================] - 1s 9ms/step - loss: 4.0903 - mean_absolute_percentage_error: 2.7134 - val_loss: 3.5497 - val_mean_absolute_percentage_error: 1.8269\n",
            "Epoch 91/200\n",
            "61/61 [==============================] - 0s 6ms/step - loss: 5.8960 - mean_absolute_percentage_error: 2.6966 - val_loss: 4.1817 - val_mean_absolute_percentage_error: 2.4635\n",
            "Epoch 92/200\n",
            "61/61 [==============================] - 0s 6ms/step - loss: 4.6930 - mean_absolute_percentage_error: 2.8417 - val_loss: 17.1593 - val_mean_absolute_percentage_error: 6.7602\n",
            "Epoch 93/200\n",
            "61/61 [==============================] - 0s 7ms/step - loss: 5.4979 - mean_absolute_percentage_error: 2.8087 - val_loss: 6.4895 - val_mean_absolute_percentage_error: 3.2523\n",
            "Epoch 94/200\n",
            "61/61 [==============================] - 0s 7ms/step - loss: 6.1811 - mean_absolute_percentage_error: 2.8759 - val_loss: 7.5311 - val_mean_absolute_percentage_error: 3.7073\n",
            "Epoch 95/200\n",
            "61/61 [==============================] - 0s 6ms/step - loss: 4.9793 - mean_absolute_percentage_error: 2.8485 - val_loss: 5.9319 - val_mean_absolute_percentage_error: 2.9996\n",
            "Epoch 96/200\n",
            "61/61 [==============================] - 0s 7ms/step - loss: 4.6707 - mean_absolute_percentage_error: 2.7263 - val_loss: 12.3938 - val_mean_absolute_percentage_error: 5.8416\n",
            "Epoch 97/200\n",
            "61/61 [==============================] - 0s 7ms/step - loss: 5.7316 - mean_absolute_percentage_error: 2.9497 - val_loss: 4.6234 - val_mean_absolute_percentage_error: 2.3468\n",
            "Epoch 98/200\n",
            "61/61 [==============================] - 0s 7ms/step - loss: 3.9104 - mean_absolute_percentage_error: 2.6490 - val_loss: 10.4666 - val_mean_absolute_percentage_error: 4.8699\n",
            "Epoch 99/200\n",
            "61/61 [==============================] - 0s 6ms/step - loss: 7.7061 - mean_absolute_percentage_error: 3.0087 - val_loss: 4.2129 - val_mean_absolute_percentage_error: 2.1239\n",
            "Epoch 100/200\n",
            "61/61 [==============================] - 0s 5ms/step - loss: 7.0390 - mean_absolute_percentage_error: 2.9564 - val_loss: 5.4305 - val_mean_absolute_percentage_error: 2.7591\n",
            "Epoch 101/200\n",
            "61/61 [==============================] - 0s 6ms/step - loss: 6.9230 - mean_absolute_percentage_error: 2.9300 - val_loss: 4.3041 - val_mean_absolute_percentage_error: 2.5364\n",
            "Epoch 102/200\n",
            "61/61 [==============================] - 0s 6ms/step - loss: 4.2498 - mean_absolute_percentage_error: 2.7073 - val_loss: 19.5510 - val_mean_absolute_percentage_error: 7.3508\n",
            "Epoch 103/200\n",
            "61/61 [==============================] - 0s 6ms/step - loss: 6.4839 - mean_absolute_percentage_error: 3.3226 - val_loss: 5.0840 - val_mean_absolute_percentage_error: 2.6019\n",
            "Epoch 104/200\n",
            "61/61 [==============================] - 0s 6ms/step - loss: 3.8101 - mean_absolute_percentage_error: 2.6557 - val_loss: 7.0728 - val_mean_absolute_percentage_error: 3.9046\n",
            "Epoch 105/200\n",
            "61/61 [==============================] - 0s 6ms/step - loss: 5.9392 - mean_absolute_percentage_error: 2.9531 - val_loss: 6.8701 - val_mean_absolute_percentage_error: 3.4530\n",
            "Epoch 106/200\n",
            "61/61 [==============================] - 1s 8ms/step - loss: 4.0526 - mean_absolute_percentage_error: 2.6939 - val_loss: 3.4809 - val_mean_absolute_percentage_error: 1.8437\n",
            "Epoch 107/200\n",
            "61/61 [==============================] - 0s 6ms/step - loss: 5.1840 - mean_absolute_percentage_error: 2.8597 - val_loss: 3.6038 - val_mean_absolute_percentage_error: 1.9899\n",
            "Epoch 108/200\n",
            "61/61 [==============================] - 0s 5ms/step - loss: 4.8511 - mean_absolute_percentage_error: 2.5268 - val_loss: 3.9929 - val_mean_absolute_percentage_error: 2.0045\n",
            "Epoch 109/200\n",
            " 1/61 [..............................] - ETA: 0s - loss: 1.3763 - mean_absolute_percentage_error: 1.5734"
          ],
          "name": "stdout"
        }
      ]
    },
    {
      "cell_type": "code",
      "metadata": {
        "id": "4QbJhsvt5Q1p"
      },
      "source": [
        "# import pandas as pd\n",
        "# xyz = pd.read_csv('/content/gdrive/My Drive/Colab Notebooks/dataset/Sectors/Utilities/AWK.csv') \n",
        "# print(xyz.head(1))"
      ],
      "execution_count": null,
      "outputs": []
    },
    {
      "cell_type": "code",
      "metadata": {
        "id": "1sEFBUZipBVm"
      },
      "source": [
        "# # Get the stock data\n",
        "# #df = quandl.get(\"WIKI/FB\")\n",
        "# #df = pd.read_csv (r'dataset/FB.csv')\n",
        "# # Take a look at data\n",
        "# #print(df.head())\n",
        "\n",
        "# pathname = r'AML.L.csv'\n",
        "\n",
        "# from google.colab import files\n",
        "# uploaded = files.upload()\n",
        "# import io\n",
        "# df = pd.read_csv(io.BytesIO(uploaded[pathname]))\n",
        "# df.head()\n",
        "\n",
        "# #print(df2.head())\n",
        "# # Get the Adjusted Close\n",
        "# df = df[['Adj Close']]\n",
        "# # Take a look at new data\n",
        "# #print(df.head())"
      ],
      "execution_count": null,
      "outputs": []
    },
    {
      "cell_type": "code",
      "metadata": {
        "id": "rNTLpNyke-GE"
      },
      "source": [
        "# filename = os.path.basename(pathname)\n",
        "# filename_grab = os.path.splitext(filename)[0]"
      ],
      "execution_count": null,
      "outputs": []
    },
    {
      "cell_type": "code",
      "metadata": {
        "id": "hh2AGR1_qAZ8"
      },
      "source": [
        "# # A variable for predicting 'forecast_out' days out in future\n",
        "# forecast_out = 5"
      ],
      "execution_count": null,
      "outputs": []
    },
    {
      "cell_type": "code",
      "metadata": {
        "id": "mVVK0AlfqC3_"
      },
      "source": [
        "# # Create another column (dependent variable) shifted 'forecast_out' units up\n",
        "# df['Prediction'] = df[[\"Adj Close\"]].shift(-forecast_out)\n",
        "# # print(df.tail())"
      ],
      "execution_count": null,
      "outputs": []
    },
    {
      "cell_type": "code",
      "metadata": {
        "id": "7QlKbQKNqGE5"
      },
      "source": [
        "# # Create the independent dataset\n",
        "# # Convert the dataframe to numpy array\n",
        "# X = np.array(df.drop(['Prediction'],1))\n",
        "# # Remove the last 'forecast_out' rows\n",
        "# X = X[:-forecast_out]\n",
        "# #print(X)"
      ],
      "execution_count": null,
      "outputs": []
    },
    {
      "cell_type": "code",
      "metadata": {
        "id": "AEO7kFYtqIbV"
      },
      "source": [
        "# # Create the dependent dataset\n",
        "# # Convert the dataframe to numpy array (All of the values including the NaNs)\n",
        "# y = np.array(df['Prediction'])\n",
        "# # Get all of the y values except the last 'forecast_out' rows\n",
        "# y = y[:-forecast_out]\n",
        "# #print(y)"
      ],
      "execution_count": null,
      "outputs": []
    },
    {
      "cell_type": "code",
      "metadata": {
        "id": "Spa6ZNahqOR7"
      },
      "source": [
        "# # Split the data into 80% training and 20% testing\n",
        "# x_train, x_test, y_train, y_test = train_test_split(X, y, test_size=0.2)\n",
        "# # print(x_train.shape, x_test.shape, y_train.shape, y_test.shape)\n",
        "# # train_set = x_train + y_train\n",
        "# # test_set = x_test + y_test"
      ],
      "execution_count": null,
      "outputs": []
    },
    {
      "cell_type": "code",
      "metadata": {
        "id": "HS3hgjfvqVlP"
      },
      "source": [
        "# #Set x_forecast equal to the last forecast_out rows of the original dat set from Adj. Close column\n",
        "# x_forecast = np.array(df.drop(['Prediction'],1))[-forecast_out:]\n",
        "# #print(x_forecast)"
      ],
      "execution_count": null,
      "outputs": []
    },
    {
      "cell_type": "code",
      "metadata": {
        "id": "ooukC4Lmqm9s"
      },
      "source": [
        "# ann_relu = Sequential()\n",
        "# ann_relu.add(Dense(200, input_dim=1, activation='relu'))\n",
        "# ann_relu.add(Dense(200, input_dim=200, activation='relu'))\n",
        "# ann_relu.add(Dense(200, input_dim=200, activation='relu'))\n",
        "# ann_relu.add(Dense(1, activation='linear'))"
      ],
      "execution_count": null,
      "outputs": []
    },
    {
      "cell_type": "code",
      "metadata": {
        "id": "uosVICCCqvYW"
      },
      "source": [
        "# keras.optimizers.Adam(lr=0.1, beta_1=0.9, beta_2=0.999, amsgrad=False)\n",
        "# ann_relu.compile(loss='mean_squared_error', optimizer='RMSprop', metrics=['mean_absolute_percentage_error'])"
      ],
      "execution_count": null,
      "outputs": []
    },
    {
      "cell_type": "code",
      "metadata": {
        "id": "wkxxGMlYqyaE"
      },
      "source": [
        "# ann_relu.summary()"
      ],
      "execution_count": null,
      "outputs": []
    },
    {
      "cell_type": "code",
      "metadata": {
        "id": "O8-sCx_fqzh-"
      },
      "source": [
        "# history = ann_relu.fit(x_train, y_train, epochs=200, batch_size=32,validation_split=0.15,verbose=1)"
      ],
      "execution_count": null,
      "outputs": []
    },
    {
      "cell_type": "code",
      "metadata": {
        "id": "SW4Ke8IJ8T3t"
      },
      "source": [
        "# y_pred_ann = ann_relu.predict(x_test)"
      ],
      "execution_count": null,
      "outputs": []
    },
    {
      "cell_type": "code",
      "metadata": {
        "id": "r7_QQ8eIJtCm"
      },
      "source": [
        "# mse_ann = mean_squared_error(y_test, y_pred_ann)\n",
        "# print(f'The MSE for the ANN algorithm is: {mse_ann}')"
      ],
      "execution_count": null,
      "outputs": []
    },
    {
      "cell_type": "code",
      "metadata": {
        "id": "huHSrX_Rj__q"
      },
      "source": [
        "# rmse_ann = mean_squared_error(y_test, y_pred_ann, squared=False)\n",
        "# print(f'The RMSE for the ANN algorithm is: {rmse_ann}')"
      ],
      "execution_count": null,
      "outputs": []
    },
    {
      "cell_type": "code",
      "metadata": {
        "id": "fWUgMAAUkfWI"
      },
      "source": [
        "# mae_ann = mean_absolute_error(y_test, y_pred_ann)\n",
        "# print(f'The MAE for the ANN algorithm is: {mae_ann}')"
      ],
      "execution_count": null,
      "outputs": []
    },
    {
      "cell_type": "code",
      "metadata": {
        "id": "LT-DXkxCAAQq"
      },
      "source": [
        "# mape_ann = mean_absolute_percentage_error(y_test, y_pred_ann)\n",
        "# print(f'The MAPE for the ANN algorithm is: {mape_ann}')"
      ],
      "execution_count": null,
      "outputs": []
    },
    {
      "cell_type": "code",
      "metadata": {
        "id": "Uw5kxUEaflY8"
      },
      "source": [
        "# n_array = np.array([])\n",
        "# new_array = np.append(n_array, [mse_ann, rmse_ann, mae_ann, mape_ann])\n",
        "# print(new_array)"
      ],
      "execution_count": null,
      "outputs": []
    },
    {
      "cell_type": "code",
      "metadata": {
        "id": "vHM1EmmDglwC"
      },
      "source": [
        "# new_df = pd.DataFrame(new_array)"
      ],
      "execution_count": null,
      "outputs": []
    },
    {
      "cell_type": "code",
      "metadata": {
        "id": "2TVHpsgVgms9"
      },
      "source": [
        "# filepath = f'{filename_grab}_ann_results.xlsx'\n",
        "# new_df.to_excel(filepath, index=False)"
      ],
      "execution_count": null,
      "outputs": []
    },
    {
      "cell_type": "code",
      "metadata": {
        "id": "vGpJlAnprhKj"
      },
      "source": [
        "# keras.backend.clear_session()"
      ],
      "execution_count": null,
      "outputs": []
    }
  ]
}