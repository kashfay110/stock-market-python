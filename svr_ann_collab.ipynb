{
  "nbformat": 4,
  "nbformat_minor": 0,
  "metadata": {
    "colab": {
      "name": "svr_ann_collab.ipynb",
      "provenance": [],
      "collapsed_sections": [],
      "authorship_tag": "ABX9TyOiKlPR5qaf4r27oC/K8PdW",
      "include_colab_link": true
    },
    "kernelspec": {
      "name": "python3",
      "display_name": "Python 3"
    }
  },
  "cells": [
    {
      "cell_type": "markdown",
      "metadata": {
        "id": "view-in-github",
        "colab_type": "text"
      },
      "source": [
        "<a href=\"https://colab.research.google.com/github/kashfay110/stock-market-python/blob/main/svr_ann_collab.ipynb\" target=\"_parent\"><img src=\"https://colab.research.google.com/assets/colab-badge.svg\" alt=\"Open In Colab\"/></a>"
      ]
    },
    {
      "cell_type": "code",
      "metadata": {
        "colab": {
          "base_uri": "https://localhost:8080/"
        },
        "id": "MQK3NVSPpP3d",
        "outputId": "1a3bf4c8-7696-48e7-d290-8a8085dfd597"
      },
      "source": [
        "pip install mplfinance\n"
      ],
      "execution_count": 103,
      "outputs": [
        {
          "output_type": "stream",
          "text": [
            "Requirement already satisfied: mplfinance in /usr/local/lib/python3.7/dist-packages (0.12.7a10)\n",
            "Requirement already satisfied: matplotlib in /usr/local/lib/python3.7/dist-packages (from mplfinance) (3.2.2)\n",
            "Requirement already satisfied: pandas in /usr/local/lib/python3.7/dist-packages (from mplfinance) (1.1.5)\n",
            "Requirement already satisfied: pyparsing!=2.0.4,!=2.1.2,!=2.1.6,>=2.0.1 in /usr/local/lib/python3.7/dist-packages (from matplotlib->mplfinance) (2.4.7)\n",
            "Requirement already satisfied: kiwisolver>=1.0.1 in /usr/local/lib/python3.7/dist-packages (from matplotlib->mplfinance) (1.3.1)\n",
            "Requirement already satisfied: cycler>=0.10 in /usr/local/lib/python3.7/dist-packages (from matplotlib->mplfinance) (0.10.0)\n",
            "Requirement already satisfied: numpy>=1.11 in /usr/local/lib/python3.7/dist-packages (from matplotlib->mplfinance) (1.19.5)\n",
            "Requirement already satisfied: python-dateutil>=2.1 in /usr/local/lib/python3.7/dist-packages (from matplotlib->mplfinance) (2.8.1)\n",
            "Requirement already satisfied: pytz>=2017.2 in /usr/local/lib/python3.7/dist-packages (from pandas->mplfinance) (2018.9)\n",
            "Requirement already satisfied: six in /usr/local/lib/python3.7/dist-packages (from cycler>=0.10->matplotlib->mplfinance) (1.15.0)\n"
          ],
          "name": "stdout"
        }
      ]
    },
    {
      "cell_type": "code",
      "metadata": {
        "id": "8syOrDK7o9Ma"
      },
      "source": [
        "# import quandl\n",
        "import numpy as np\n",
        "from sklearn.linear_model import LinearRegression\n",
        "from sklearn.svm import SVR\n",
        "from sklearn.model_selection import train_test_split\n",
        "import pandas as pd\n",
        "from sklearn.metrics import mean_squared_error, mean_absolute_error\n",
        "import matplotlib.pyplot as plt\n",
        "plt.style.use('fivethirtyeight')\n",
        "import mplfinance as mpf\n",
        "import keras\n",
        "from keras.models import Sequential\n",
        "from keras.layers import Dense"
      ],
      "execution_count": 104,
      "outputs": []
    },
    {
      "cell_type": "code",
      "metadata": {
        "colab": {
          "resources": {
            "http://localhost:8080/nbextensions/google.colab/files.js": {
              "data": "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",
              "ok": true,
              "headers": [
                [
                  "content-type",
                  "application/javascript"
                ]
              ],
              "status": 200,
              "status_text": ""
            }
          },
          "base_uri": "https://localhost:8080/",
          "height": 72
        },
        "id": "1sEFBUZipBVm",
        "outputId": "6f6339f1-b69c-4c0c-da23-85dcbe1e6031"
      },
      "source": [
        "# Get the stock data\n",
        "#df = quandl.get(\"WIKI/FB\")\n",
        "#df = pd.read_csv (r'dataset/FB.csv')\n",
        "# Take a look at data\n",
        "#print(df.head())\n",
        "\n",
        "from google.colab import files\n",
        "uploaded = files.upload()\n",
        "import io\n",
        "df = pd.read_csv(io.BytesIO(uploaded['FB.csv']))\n",
        "df.head()\n",
        "\n",
        "df2 = pd.read_csv(io.BytesIO(uploaded['FB.csv']))\n",
        "#print(df2.head())\n",
        "# Get the Adjusted Close\n",
        "df = df[['Adj Close']]\n",
        "# Take a look at new data\n",
        "#print(df.head())"
      ],
      "execution_count": 105,
      "outputs": [
        {
          "output_type": "display_data",
          "data": {
            "text/html": [
              "\n",
              "     <input type=\"file\" id=\"files-e3f9816a-4040-4a3e-9c22-c8f2ecb3b77a\" name=\"files[]\" multiple disabled\n",
              "        style=\"border:none\" />\n",
              "     <output id=\"result-e3f9816a-4040-4a3e-9c22-c8f2ecb3b77a\">\n",
              "      Upload widget is only available when the cell has been executed in the\n",
              "      current browser session. Please rerun this cell to enable.\n",
              "      </output>\n",
              "      <script src=\"/nbextensions/google.colab/files.js\"></script> "
            ],
            "text/plain": [
              "<IPython.core.display.HTML object>"
            ]
          },
          "metadata": {
            "tags": []
          }
        },
        {
          "output_type": "stream",
          "text": [
            "Saving FB.csv to FB (3).csv\n"
          ],
          "name": "stdout"
        }
      ]
    },
    {
      "cell_type": "code",
      "metadata": {
        "id": "hh2AGR1_qAZ8"
      },
      "source": [
        "# A variable for predicting 'forecast_out' days out in future\n",
        "forecast_out = 1"
      ],
      "execution_count": 106,
      "outputs": []
    },
    {
      "cell_type": "code",
      "metadata": {
        "id": "mVVK0AlfqC3_"
      },
      "source": [
        "# Create another column (dependent variable) shifted 'forecast_out' units up\n",
        "df['Prediction'] = df[[\"Adj Close\"]].shift(-forecast_out)\n",
        "#print(df.tail())"
      ],
      "execution_count": 107,
      "outputs": []
    },
    {
      "cell_type": "code",
      "metadata": {
        "id": "7QlKbQKNqGE5"
      },
      "source": [
        "# Create the independent dataset\n",
        "# Convert the dataframe to numpy array\n",
        "X = np.array(df.drop(['Prediction'],1))\n",
        "# Remove the last 'forecast_out' rows\n",
        "X = X[:-forecast_out]\n",
        "#print(X)"
      ],
      "execution_count": 108,
      "outputs": []
    },
    {
      "cell_type": "code",
      "metadata": {
        "id": "AEO7kFYtqIbV"
      },
      "source": [
        "# Create the dependent dataset\n",
        "# Convert the dataframe to numpy array (All of the values including the NaNs)\n",
        "y = np.array(df['Prediction'])\n",
        "# Get all of the y values except the last 'forecast_out' rows\n",
        "y = y[:-forecast_out]\n",
        "#print(y)"
      ],
      "execution_count": 109,
      "outputs": []
    },
    {
      "cell_type": "code",
      "metadata": {
        "id": "EUuTkpvBqJm1",
        "colab": {
          "base_uri": "https://localhost:8080/"
        },
        "outputId": "8b6e7950-95aa-4329-ff56-603ffd15294f"
      },
      "source": [
        "z = np.array(df2)\n",
        "z = z[:-forecast_out]\n",
        "print(z)"
      ],
      "execution_count": 110,
      "outputs": [
        {
          "output_type": "stream",
          "text": [
            "[['2012-05-21' 36.529999 36.66 ... 34.029999 34.029999 168192700]\n",
            " ['2012-05-22' 32.610001000000004 33.59 ... 31.0 31.0 101786600]\n",
            " ['2012-05-23' 31.370001000000002 32.5 ... 32.0 32.0 73600000]\n",
            " ...\n",
            " ['2021-02-19' 269.859985 270.269989 ... 261.559998 261.559998 25549900]\n",
            " ['2021-02-22' 257.950012 263.070007 ... 260.329987 260.329987 17382300]\n",
            " ['2021-02-23' 259.5 267.459991 ... 265.859985 265.859985 21905400]]\n"
          ],
          "name": "stdout"
        }
      ]
    },
    {
      "cell_type": "code",
      "metadata": {
        "id": "Spa6ZNahqOR7"
      },
      "source": [
        "# Split the data into 80% training and 20% testing\n",
        "x_train, x_test, y_train, y_test = train_test_split(X, y, test_size=0.2)\n",
        "# print(x_train.shape, x_test.shape, y_train.shape, y_test.shape)\n",
        "# train_set = x_train + y_train\n",
        "# test_set = x_test + y_test"
      ],
      "execution_count": 111,
      "outputs": []
    },
    {
      "cell_type": "code",
      "metadata": {
        "id": "GiQ4Oc8mqRLr",
        "colab": {
          "base_uri": "https://localhost:8080/"
        },
        "outputId": "4af98267-bc74-4556-cb29-2169ac00c075"
      },
      "source": [
        "# Create and train the Support Vector Machine (Regressor)\n",
        "svr_rbf = SVR(kernel='rbf', C=1e3, gamma=0.1)\n",
        "svr_rbf.fit(x_train, y_train)"
      ],
      "execution_count": 112,
      "outputs": [
        {
          "output_type": "execute_result",
          "data": {
            "text/plain": [
              "SVR(C=1000.0, cache_size=200, coef0=0.0, degree=3, epsilon=0.1, gamma=0.1,\n",
              "    kernel='rbf', max_iter=-1, shrinking=True, tol=0.001, verbose=False)"
            ]
          },
          "metadata": {
            "tags": []
          },
          "execution_count": 112
        }
      ]
    },
    {
      "cell_type": "code",
      "metadata": {
        "id": "5bWGgk1AqUw1",
        "colab": {
          "base_uri": "https://localhost:8080/"
        },
        "outputId": "16f7757a-8f64-48cd-f2fe-f6939d1707f6"
      },
      "source": [
        "# Create and train the Linear Regression model\n",
        "lr = LinearRegression()\n",
        "# Train model\n",
        "lr.fit(x_train, y_train)"
      ],
      "execution_count": 113,
      "outputs": [
        {
          "output_type": "execute_result",
          "data": {
            "text/plain": [
              "LinearRegression(copy_X=True, fit_intercept=True, n_jobs=None, normalize=False)"
            ]
          },
          "metadata": {
            "tags": []
          },
          "execution_count": 113
        }
      ]
    },
    {
      "cell_type": "code",
      "metadata": {
        "id": "HS3hgjfvqVlP"
      },
      "source": [
        "#Set x_forecast equal to the last forecast_out rows of the original dat set from Adj. Close column\n",
        "x_forecast = np.array(df.drop(['Prediction'],1))[-forecast_out:]\n",
        "#print(x_forecast)"
      ],
      "execution_count": 114,
      "outputs": []
    },
    {
      "cell_type": "code",
      "metadata": {
        "id": "qrSbK5bEqXm7",
        "colab": {
          "base_uri": "https://localhost:8080/"
        },
        "outputId": "11ace06c-6cde-4566-dec3-76e3906ddcf0"
      },
      "source": [
        "# Print the SVR prediction for the next forecast_out days\n",
        "svm_prediction = svr_rbf.predict(x_forecast)\n",
        "print(f'The next {forecast_out} days by the SVR model: \\n{svm_prediction}')\n",
        "\n",
        "# Print the Linear Regression prediction for the next forecast_out days\n",
        "lr_prediction = lr.predict(x_forecast)\n",
        "print(f'The next {forecast_out} days by the LR model: \\n{lr_prediction}')"
      ],
      "execution_count": 115,
      "outputs": [
        {
          "output_type": "stream",
          "text": [
            "The next 1 days by the SVR model: \n",
            "[258.58239171]\n",
            "The next 1 days by the LR model: \n",
            "[264.23042795]\n"
          ],
          "name": "stdout"
        }
      ]
    },
    {
      "cell_type": "code",
      "metadata": {
        "id": "gHDx_uM-qevz",
        "colab": {
          "base_uri": "https://localhost:8080/"
        },
        "outputId": "40cc5609-f27d-43ae-c0f0-d094bc718026"
      },
      "source": [
        "# Testing Model: Score returns the coefficient of determination R^2 of the prediction\n",
        "# Best possible score is 1.0\n",
        "svm_confidence = svr_rbf.score(x_test, y_test)\n",
        "print(\"svr confidence: \", svm_confidence)\n",
        "\n",
        "# Testing Model: Score returns the coefficient of determination R^2 of the prediction\n",
        "# It provides a measure of how well observed outcomes are replicated by the model, based on the proportion of total variation of outcomes explained by the model\n",
        "# Best possible score is 1.0\n",
        "lr_confidence = lr.score(x_test, y_test)\n",
        "print(\"lr confidence: \", lr_confidence)"
      ],
      "execution_count": 116,
      "outputs": [
        {
          "output_type": "stream",
          "text": [
            "svr confidence:  0.9977828161971034\n",
            "lr confidence:  0.998107833754886\n"
          ],
          "name": "stdout"
        }
      ]
    },
    {
      "cell_type": "code",
      "metadata": {
        "id": "zFdQM9GZqkkw"
      },
      "source": [
        "## Creating predicted values for both models\n",
        "y_pred_svr = svr_rbf.predict(x_test)\n",
        "y_pred_lr = lr.predict(x_test)"
      ],
      "execution_count": 117,
      "outputs": []
    },
    {
      "cell_type": "code",
      "metadata": {
        "id": "ooukC4Lmqm9s"
      },
      "source": [
        "ann_relu = Sequential()\n",
        "ann_relu.add(Dense(200, input_dim=1, activation='relu'))\n",
        "ann_relu.add(Dense(200, input_dim=200, activation='relu'))\n",
        "ann_relu.add(Dense(200, input_dim=200, activation='relu'))\n",
        "ann_relu.add(Dense(1, activation='linear'))"
      ],
      "execution_count": 118,
      "outputs": []
    },
    {
      "cell_type": "code",
      "metadata": {
        "id": "uosVICCCqvYW"
      },
      "source": [
        "keras.optimizers.Adam(lr=0.1, beta_1=0.9, beta_2=0.999, amsgrad=False)\n",
        "ann_relu.compile(loss='mean_squared_error', optimizer='RMSprop', metrics=['mean_absolute_percentage_error'])"
      ],
      "execution_count": 127,
      "outputs": []
    },
    {
      "cell_type": "code",
      "metadata": {
        "id": "wkxxGMlYqyaE",
        "colab": {
          "base_uri": "https://localhost:8080/"
        },
        "outputId": "ae3c25a5-91de-4eed-ab0f-edaf49064be9"
      },
      "source": [
        "ann_relu.summary()"
      ],
      "execution_count": 128,
      "outputs": [
        {
          "output_type": "stream",
          "text": [
            "Model: \"sequential_2\"\n",
            "_________________________________________________________________\n",
            "Layer (type)                 Output Shape              Param #   \n",
            "=================================================================\n",
            "dense_8 (Dense)              (None, 200)               400       \n",
            "_________________________________________________________________\n",
            "dense_9 (Dense)              (None, 200)               40200     \n",
            "_________________________________________________________________\n",
            "dense_10 (Dense)             (None, 200)               40200     \n",
            "_________________________________________________________________\n",
            "dense_11 (Dense)             (None, 1)                 201       \n",
            "=================================================================\n",
            "Total params: 81,001\n",
            "Trainable params: 81,001\n",
            "Non-trainable params: 0\n",
            "_________________________________________________________________\n"
          ],
          "name": "stdout"
        }
      ]
    },
    {
      "cell_type": "code",
      "metadata": {
        "id": "O8-sCx_fqzh-",
        "colab": {
          "base_uri": "https://localhost:8080/"
        },
        "outputId": "50cf8767-8e5a-4237-fe4e-44d1e38d748c"
      },
      "source": [
        "history = ann_relu.fit(x_train, y_train, epochs=100, batch_size=32,validation_split=0.15,verbose=1)"
      ],
      "execution_count": 129,
      "outputs": [
        {
          "output_type": "stream",
          "text": [
            "Epoch 1/100\n",
            "47/47 [==============================] - 1s 6ms/step - loss: 47.3980 - mean_absolute_percentage_error: 3.2880 - val_loss: 12.6339 - val_mean_absolute_percentage_error: 2.2617\n",
            "Epoch 2/100\n",
            "47/47 [==============================] - 0s 3ms/step - loss: 23.5342 - mean_absolute_percentage_error: 2.7320 - val_loss: 21.2419 - val_mean_absolute_percentage_error: 3.0091\n",
            "Epoch 3/100\n",
            "47/47 [==============================] - 0s 3ms/step - loss: 19.3384 - mean_absolute_percentage_error: 2.3894 - val_loss: 27.5077 - val_mean_absolute_percentage_error: 3.4839\n",
            "Epoch 4/100\n",
            "47/47 [==============================] - 0s 3ms/step - loss: 32.0259 - mean_absolute_percentage_error: 3.1207 - val_loss: 20.5085 - val_mean_absolute_percentage_error: 2.9405\n",
            "Epoch 5/100\n",
            "47/47 [==============================] - 0s 3ms/step - loss: 28.3367 - mean_absolute_percentage_error: 2.8063 - val_loss: 11.1324 - val_mean_absolute_percentage_error: 2.0426\n",
            "Epoch 6/100\n",
            "47/47 [==============================] - 0s 3ms/step - loss: 23.7668 - mean_absolute_percentage_error: 2.6533 - val_loss: 8.9865 - val_mean_absolute_percentage_error: 1.8682\n",
            "Epoch 7/100\n",
            "47/47 [==============================] - 0s 3ms/step - loss: 22.3981 - mean_absolute_percentage_error: 2.4797 - val_loss: 7.7045 - val_mean_absolute_percentage_error: 1.6975\n",
            "Epoch 8/100\n",
            "47/47 [==============================] - 0s 3ms/step - loss: 31.7130 - mean_absolute_percentage_error: 2.9591 - val_loss: 22.2260 - val_mean_absolute_percentage_error: 3.0801\n",
            "Epoch 9/100\n",
            "47/47 [==============================] - 0s 3ms/step - loss: 17.7461 - mean_absolute_percentage_error: 2.3957 - val_loss: 58.8669 - val_mean_absolute_percentage_error: 4.9943\n",
            "Epoch 10/100\n",
            "47/47 [==============================] - 0s 3ms/step - loss: 23.4901 - mean_absolute_percentage_error: 2.7209 - val_loss: 45.6792 - val_mean_absolute_percentage_error: 4.6116\n",
            "Epoch 11/100\n",
            "47/47 [==============================] - 0s 3ms/step - loss: 29.6525 - mean_absolute_percentage_error: 3.0927 - val_loss: 12.2382 - val_mean_absolute_percentage_error: 2.1984\n",
            "Epoch 12/100\n",
            "47/47 [==============================] - 0s 3ms/step - loss: 21.4667 - mean_absolute_percentage_error: 2.5437 - val_loss: 39.6815 - val_mean_absolute_percentage_error: 4.0520\n",
            "Epoch 13/100\n",
            "47/47 [==============================] - 0s 3ms/step - loss: 29.0948 - mean_absolute_percentage_error: 3.0763 - val_loss: 34.5454 - val_mean_absolute_percentage_error: 3.7602\n",
            "Epoch 14/100\n",
            "47/47 [==============================] - 0s 3ms/step - loss: 26.4110 - mean_absolute_percentage_error: 3.0171 - val_loss: 14.6935 - val_mean_absolute_percentage_error: 2.3900\n",
            "Epoch 15/100\n",
            "47/47 [==============================] - 0s 3ms/step - loss: 23.3853 - mean_absolute_percentage_error: 2.7702 - val_loss: 6.2777 - val_mean_absolute_percentage_error: 1.5243\n",
            "Epoch 16/100\n",
            "47/47 [==============================] - 0s 3ms/step - loss: 27.0463 - mean_absolute_percentage_error: 2.6178 - val_loss: 13.4239 - val_mean_absolute_percentage_error: 2.2748\n",
            "Epoch 17/100\n",
            "47/47 [==============================] - 0s 3ms/step - loss: 23.6784 - mean_absolute_percentage_error: 2.7260 - val_loss: 18.0206 - val_mean_absolute_percentage_error: 2.6971\n",
            "Epoch 18/100\n",
            "47/47 [==============================] - 0s 3ms/step - loss: 26.7319 - mean_absolute_percentage_error: 2.7977 - val_loss: 17.5520 - val_mean_absolute_percentage_error: 2.6510\n",
            "Epoch 19/100\n",
            "47/47 [==============================] - 0s 3ms/step - loss: 23.8607 - mean_absolute_percentage_error: 2.7141 - val_loss: 35.0248 - val_mean_absolute_percentage_error: 3.8033\n",
            "Epoch 20/100\n",
            "47/47 [==============================] - 0s 3ms/step - loss: 24.2258 - mean_absolute_percentage_error: 2.7789 - val_loss: 10.8365 - val_mean_absolute_percentage_error: 2.0282\n",
            "Epoch 21/100\n",
            "47/47 [==============================] - 0s 3ms/step - loss: 18.6053 - mean_absolute_percentage_error: 2.3909 - val_loss: 10.9687 - val_mean_absolute_percentage_error: 2.0432\n",
            "Epoch 22/100\n",
            "47/47 [==============================] - 0s 3ms/step - loss: 22.6207 - mean_absolute_percentage_error: 2.6615 - val_loss: 13.2042 - val_mean_absolute_percentage_error: 2.2631\n",
            "Epoch 23/100\n",
            "47/47 [==============================] - 0s 3ms/step - loss: 26.2681 - mean_absolute_percentage_error: 2.9647 - val_loss: 6.8314 - val_mean_absolute_percentage_error: 1.5920\n",
            "Epoch 24/100\n",
            "47/47 [==============================] - 0s 3ms/step - loss: 22.7881 - mean_absolute_percentage_error: 2.7532 - val_loss: 24.0584 - val_mean_absolute_percentage_error: 3.1675\n",
            "Epoch 25/100\n",
            "47/47 [==============================] - 0s 3ms/step - loss: 27.8626 - mean_absolute_percentage_error: 2.9437 - val_loss: 11.3216 - val_mean_absolute_percentage_error: 2.0765\n",
            "Epoch 26/100\n",
            "47/47 [==============================] - 0s 3ms/step - loss: 24.6401 - mean_absolute_percentage_error: 2.4486 - val_loss: 11.1692 - val_mean_absolute_percentage_error: 2.0658\n",
            "Epoch 27/100\n",
            "47/47 [==============================] - 0s 3ms/step - loss: 22.3215 - mean_absolute_percentage_error: 2.7474 - val_loss: 25.4079 - val_mean_absolute_percentage_error: 3.2096\n",
            "Epoch 28/100\n",
            "47/47 [==============================] - 0s 3ms/step - loss: 26.9604 - mean_absolute_percentage_error: 2.9123 - val_loss: 24.3034 - val_mean_absolute_percentage_error: 3.1902\n",
            "Epoch 29/100\n",
            "47/47 [==============================] - 0s 3ms/step - loss: 25.1627 - mean_absolute_percentage_error: 2.9225 - val_loss: 14.2414 - val_mean_absolute_percentage_error: 2.3497\n",
            "Epoch 30/100\n",
            "47/47 [==============================] - 0s 3ms/step - loss: 18.7973 - mean_absolute_percentage_error: 2.3470 - val_loss: 15.6643 - val_mean_absolute_percentage_error: 2.4868\n",
            "Epoch 31/100\n",
            "47/47 [==============================] - 0s 3ms/step - loss: 33.3711 - mean_absolute_percentage_error: 2.9834 - val_loss: 22.5964 - val_mean_absolute_percentage_error: 3.0595\n",
            "Epoch 32/100\n",
            "47/47 [==============================] - 0s 3ms/step - loss: 26.2405 - mean_absolute_percentage_error: 2.9368 - val_loss: 19.2247 - val_mean_absolute_percentage_error: 2.7845\n",
            "Epoch 33/100\n",
            "47/47 [==============================] - 0s 3ms/step - loss: 20.9229 - mean_absolute_percentage_error: 2.6660 - val_loss: 9.1999 - val_mean_absolute_percentage_error: 1.8527\n",
            "Epoch 34/100\n",
            "47/47 [==============================] - 0s 3ms/step - loss: 22.7795 - mean_absolute_percentage_error: 2.4518 - val_loss: 26.6883 - val_mean_absolute_percentage_error: 3.2890\n",
            "Epoch 35/100\n",
            "47/47 [==============================] - 0s 3ms/step - loss: 31.0670 - mean_absolute_percentage_error: 3.0017 - val_loss: 88.4166 - val_mean_absolute_percentage_error: 6.5175\n",
            "Epoch 36/100\n",
            "47/47 [==============================] - 0s 3ms/step - loss: 29.4468 - mean_absolute_percentage_error: 2.9549 - val_loss: 9.2896 - val_mean_absolute_percentage_error: 1.8589\n",
            "Epoch 37/100\n",
            "47/47 [==============================] - 0s 3ms/step - loss: 21.3734 - mean_absolute_percentage_error: 2.5047 - val_loss: 12.8480 - val_mean_absolute_percentage_error: 2.2450\n",
            "Epoch 38/100\n",
            "47/47 [==============================] - 0s 3ms/step - loss: 18.8273 - mean_absolute_percentage_error: 2.5272 - val_loss: 51.3811 - val_mean_absolute_percentage_error: 4.6593\n",
            "Epoch 39/100\n",
            "47/47 [==============================] - 0s 3ms/step - loss: 20.2683 - mean_absolute_percentage_error: 2.3760 - val_loss: 9.1239 - val_mean_absolute_percentage_error: 1.8712\n",
            "Epoch 40/100\n",
            "47/47 [==============================] - 0s 3ms/step - loss: 23.8795 - mean_absolute_percentage_error: 2.3998 - val_loss: 7.6023 - val_mean_absolute_percentage_error: 1.6850\n",
            "Epoch 41/100\n",
            "47/47 [==============================] - 0s 3ms/step - loss: 26.1272 - mean_absolute_percentage_error: 2.7312 - val_loss: 7.6915 - val_mean_absolute_percentage_error: 1.7035\n",
            "Epoch 42/100\n",
            "47/47 [==============================] - 0s 3ms/step - loss: 20.4874 - mean_absolute_percentage_error: 2.5215 - val_loss: 19.5110 - val_mean_absolute_percentage_error: 2.7765\n",
            "Epoch 43/100\n",
            "47/47 [==============================] - 0s 3ms/step - loss: 30.1852 - mean_absolute_percentage_error: 3.0966 - val_loss: 67.6115 - val_mean_absolute_percentage_error: 5.4031\n",
            "Epoch 44/100\n",
            "47/47 [==============================] - 0s 3ms/step - loss: 23.7427 - mean_absolute_percentage_error: 2.9119 - val_loss: 15.1314 - val_mean_absolute_percentage_error: 2.4250\n",
            "Epoch 45/100\n",
            "47/47 [==============================] - 0s 3ms/step - loss: 26.7336 - mean_absolute_percentage_error: 2.7422 - val_loss: 21.9210 - val_mean_absolute_percentage_error: 2.9542\n",
            "Epoch 46/100\n",
            "47/47 [==============================] - 0s 3ms/step - loss: 22.3920 - mean_absolute_percentage_error: 2.5636 - val_loss: 45.4332 - val_mean_absolute_percentage_error: 4.5956\n",
            "Epoch 47/100\n",
            "47/47 [==============================] - 0s 3ms/step - loss: 22.8994 - mean_absolute_percentage_error: 2.6870 - val_loss: 14.3334 - val_mean_absolute_percentage_error: 2.3508\n",
            "Epoch 48/100\n",
            "47/47 [==============================] - 0s 3ms/step - loss: 26.6807 - mean_absolute_percentage_error: 2.7342 - val_loss: 10.2466 - val_mean_absolute_percentage_error: 1.9545\n",
            "Epoch 49/100\n",
            "47/47 [==============================] - 0s 3ms/step - loss: 25.0891 - mean_absolute_percentage_error: 2.6859 - val_loss: 10.4103 - val_mean_absolute_percentage_error: 2.0106\n",
            "Epoch 50/100\n",
            "47/47 [==============================] - 0s 3ms/step - loss: 22.7295 - mean_absolute_percentage_error: 2.5946 - val_loss: 18.4462 - val_mean_absolute_percentage_error: 2.7499\n",
            "Epoch 51/100\n",
            "47/47 [==============================] - 0s 3ms/step - loss: 26.0182 - mean_absolute_percentage_error: 2.8538 - val_loss: 18.0267 - val_mean_absolute_percentage_error: 2.7150\n",
            "Epoch 52/100\n",
            "47/47 [==============================] - 0s 3ms/step - loss: 22.9339 - mean_absolute_percentage_error: 2.8847 - val_loss: 14.7296 - val_mean_absolute_percentage_error: 2.4200\n",
            "Epoch 53/100\n",
            "47/47 [==============================] - 0s 3ms/step - loss: 19.0506 - mean_absolute_percentage_error: 2.3827 - val_loss: 38.1868 - val_mean_absolute_percentage_error: 3.9696\n",
            "Epoch 54/100\n",
            "47/47 [==============================] - 0s 3ms/step - loss: 25.7322 - mean_absolute_percentage_error: 2.7476 - val_loss: 7.2975 - val_mean_absolute_percentage_error: 1.6529\n",
            "Epoch 55/100\n",
            "47/47 [==============================] - 0s 3ms/step - loss: 24.0307 - mean_absolute_percentage_error: 2.6708 - val_loss: 13.9611 - val_mean_absolute_percentage_error: 2.3420\n",
            "Epoch 56/100\n",
            "47/47 [==============================] - 0s 3ms/step - loss: 25.1042 - mean_absolute_percentage_error: 2.7283 - val_loss: 6.6353 - val_mean_absolute_percentage_error: 1.5632\n",
            "Epoch 57/100\n",
            "47/47 [==============================] - 0s 3ms/step - loss: 21.6680 - mean_absolute_percentage_error: 2.5453 - val_loss: 9.5207 - val_mean_absolute_percentage_error: 1.9103\n",
            "Epoch 58/100\n",
            "47/47 [==============================] - 0s 3ms/step - loss: 20.4905 - mean_absolute_percentage_error: 2.5474 - val_loss: 6.3190 - val_mean_absolute_percentage_error: 1.5183\n",
            "Epoch 59/100\n",
            "47/47 [==============================] - 0s 3ms/step - loss: 22.2275 - mean_absolute_percentage_error: 2.6331 - val_loss: 13.9704 - val_mean_absolute_percentage_error: 2.3430\n",
            "Epoch 60/100\n",
            "47/47 [==============================] - 0s 3ms/step - loss: 24.5426 - mean_absolute_percentage_error: 2.7681 - val_loss: 6.2018 - val_mean_absolute_percentage_error: 1.5080\n",
            "Epoch 61/100\n",
            "47/47 [==============================] - 0s 3ms/step - loss: 20.5695 - mean_absolute_percentage_error: 2.6488 - val_loss: 9.2812 - val_mean_absolute_percentage_error: 1.8759\n",
            "Epoch 62/100\n",
            "47/47 [==============================] - 0s 3ms/step - loss: 17.4137 - mean_absolute_percentage_error: 2.4388 - val_loss: 27.6423 - val_mean_absolute_percentage_error: 3.4530\n",
            "Epoch 63/100\n",
            "47/47 [==============================] - 0s 3ms/step - loss: 21.3573 - mean_absolute_percentage_error: 2.6256 - val_loss: 7.4169 - val_mean_absolute_percentage_error: 1.6695\n",
            "Epoch 64/100\n",
            "47/47 [==============================] - 0s 3ms/step - loss: 18.5136 - mean_absolute_percentage_error: 2.4787 - val_loss: 33.4867 - val_mean_absolute_percentage_error: 3.8544\n",
            "Epoch 65/100\n",
            "47/47 [==============================] - 0s 3ms/step - loss: 25.0884 - mean_absolute_percentage_error: 2.8744 - val_loss: 6.3725 - val_mean_absolute_percentage_error: 1.5323\n",
            "Epoch 66/100\n",
            "47/47 [==============================] - 0s 3ms/step - loss: 17.5904 - mean_absolute_percentage_error: 2.2758 - val_loss: 37.1533 - val_mean_absolute_percentage_error: 3.9064\n",
            "Epoch 67/100\n",
            "47/47 [==============================] - 0s 3ms/step - loss: 25.4064 - mean_absolute_percentage_error: 2.7245 - val_loss: 35.4650 - val_mean_absolute_percentage_error: 3.9837\n",
            "Epoch 68/100\n",
            "47/47 [==============================] - 0s 3ms/step - loss: 25.9630 - mean_absolute_percentage_error: 2.8708 - val_loss: 8.1279 - val_mean_absolute_percentage_error: 1.7403\n",
            "Epoch 69/100\n",
            "47/47 [==============================] - 0s 3ms/step - loss: 28.4173 - mean_absolute_percentage_error: 2.7447 - val_loss: 15.0227 - val_mean_absolute_percentage_error: 2.4390\n",
            "Epoch 70/100\n",
            "47/47 [==============================] - 0s 3ms/step - loss: 25.8031 - mean_absolute_percentage_error: 2.6055 - val_loss: 8.5730 - val_mean_absolute_percentage_error: 1.7853\n",
            "Epoch 71/100\n",
            "47/47 [==============================] - 0s 3ms/step - loss: 23.1033 - mean_absolute_percentage_error: 2.7048 - val_loss: 6.3884 - val_mean_absolute_percentage_error: 1.5367\n",
            "Epoch 72/100\n",
            "47/47 [==============================] - 0s 3ms/step - loss: 16.7434 - mean_absolute_percentage_error: 2.2729 - val_loss: 16.8788 - val_mean_absolute_percentage_error: 2.5914\n",
            "Epoch 73/100\n",
            "47/47 [==============================] - 0s 3ms/step - loss: 19.5247 - mean_absolute_percentage_error: 2.4781 - val_loss: 19.2083 - val_mean_absolute_percentage_error: 2.7904\n",
            "Epoch 74/100\n",
            "47/47 [==============================] - 0s 3ms/step - loss: 21.4638 - mean_absolute_percentage_error: 2.8869 - val_loss: 6.7488 - val_mean_absolute_percentage_error: 1.5742\n",
            "Epoch 75/100\n",
            "47/47 [==============================] - 0s 3ms/step - loss: 19.6031 - mean_absolute_percentage_error: 2.4013 - val_loss: 14.2236 - val_mean_absolute_percentage_error: 2.3533\n",
            "Epoch 76/100\n",
            "47/47 [==============================] - 0s 3ms/step - loss: 21.0384 - mean_absolute_percentage_error: 2.6303 - val_loss: 6.3760 - val_mean_absolute_percentage_error: 1.5261\n",
            "Epoch 77/100\n",
            "47/47 [==============================] - 0s 3ms/step - loss: 15.0923 - mean_absolute_percentage_error: 2.2003 - val_loss: 31.8181 - val_mean_absolute_percentage_error: 3.7298\n",
            "Epoch 78/100\n",
            "47/47 [==============================] - 0s 3ms/step - loss: 18.2802 - mean_absolute_percentage_error: 2.3309 - val_loss: 9.0630 - val_mean_absolute_percentage_error: 1.8348\n",
            "Epoch 79/100\n",
            "47/47 [==============================] - 0s 3ms/step - loss: 17.9856 - mean_absolute_percentage_error: 2.4139 - val_loss: 6.2432 - val_mean_absolute_percentage_error: 1.5129\n",
            "Epoch 80/100\n",
            "47/47 [==============================] - 0s 3ms/step - loss: 18.5298 - mean_absolute_percentage_error: 2.3746 - val_loss: 17.9497 - val_mean_absolute_percentage_error: 2.6883\n",
            "Epoch 81/100\n",
            "47/47 [==============================] - 0s 3ms/step - loss: 20.5270 - mean_absolute_percentage_error: 2.6674 - val_loss: 22.1078 - val_mean_absolute_percentage_error: 3.0322\n",
            "Epoch 82/100\n",
            "47/47 [==============================] - 0s 3ms/step - loss: 18.7777 - mean_absolute_percentage_error: 2.4554 - val_loss: 44.7457 - val_mean_absolute_percentage_error: 4.5253\n",
            "Epoch 83/100\n",
            "47/47 [==============================] - 0s 3ms/step - loss: 20.4831 - mean_absolute_percentage_error: 2.5704 - val_loss: 60.0595 - val_mean_absolute_percentage_error: 5.3227\n",
            "Epoch 84/100\n",
            "47/47 [==============================] - 0s 3ms/step - loss: 20.6340 - mean_absolute_percentage_error: 2.7070 - val_loss: 15.3010 - val_mean_absolute_percentage_error: 2.4674\n",
            "Epoch 85/100\n",
            "47/47 [==============================] - 0s 3ms/step - loss: 19.8486 - mean_absolute_percentage_error: 2.4820 - val_loss: 46.3561 - val_mean_absolute_percentage_error: 4.6249\n",
            "Epoch 86/100\n",
            "47/47 [==============================] - 0s 3ms/step - loss: 21.3934 - mean_absolute_percentage_error: 2.7445 - val_loss: 10.5751 - val_mean_absolute_percentage_error: 1.9923\n",
            "Epoch 87/100\n",
            "47/47 [==============================] - 0s 3ms/step - loss: 17.9665 - mean_absolute_percentage_error: 2.2716 - val_loss: 7.5595 - val_mean_absolute_percentage_error: 1.6800\n",
            "Epoch 88/100\n",
            "47/47 [==============================] - 0s 3ms/step - loss: 25.6569 - mean_absolute_percentage_error: 2.5704 - val_loss: 6.3041 - val_mean_absolute_percentage_error: 1.5213\n",
            "Epoch 89/100\n",
            "47/47 [==============================] - 0s 3ms/step - loss: 21.6593 - mean_absolute_percentage_error: 2.4843 - val_loss: 6.3719 - val_mean_absolute_percentage_error: 1.5316\n",
            "Epoch 90/100\n",
            "47/47 [==============================] - 0s 3ms/step - loss: 20.1069 - mean_absolute_percentage_error: 2.2127 - val_loss: 20.9827 - val_mean_absolute_percentage_error: 2.8903\n",
            "Epoch 91/100\n",
            "47/47 [==============================] - 0s 3ms/step - loss: 24.1018 - mean_absolute_percentage_error: 2.6665 - val_loss: 9.7988 - val_mean_absolute_percentage_error: 1.9094\n",
            "Epoch 92/100\n",
            "47/47 [==============================] - 0s 3ms/step - loss: 25.1159 - mean_absolute_percentage_error: 2.7700 - val_loss: 36.5849 - val_mean_absolute_percentage_error: 4.0515\n",
            "Epoch 93/100\n",
            "47/47 [==============================] - 0s 3ms/step - loss: 24.5636 - mean_absolute_percentage_error: 2.7786 - val_loss: 11.6039 - val_mean_absolute_percentage_error: 2.1260\n",
            "Epoch 94/100\n",
            "47/47 [==============================] - 0s 3ms/step - loss: 22.6230 - mean_absolute_percentage_error: 2.5036 - val_loss: 22.9095 - val_mean_absolute_percentage_error: 3.0301\n",
            "Epoch 95/100\n",
            "47/47 [==============================] - 0s 3ms/step - loss: 19.8856 - mean_absolute_percentage_error: 2.4614 - val_loss: 6.8822 - val_mean_absolute_percentage_error: 1.6001\n",
            "Epoch 96/100\n",
            "47/47 [==============================] - 0s 3ms/step - loss: 20.3935 - mean_absolute_percentage_error: 2.5590 - val_loss: 7.2564 - val_mean_absolute_percentage_error: 1.6462\n",
            "Epoch 97/100\n",
            "47/47 [==============================] - 0s 3ms/step - loss: 17.8003 - mean_absolute_percentage_error: 2.1975 - val_loss: 49.2701 - val_mean_absolute_percentage_error: 4.5578\n",
            "Epoch 98/100\n",
            "47/47 [==============================] - 0s 3ms/step - loss: 24.8203 - mean_absolute_percentage_error: 2.6912 - val_loss: 17.6853 - val_mean_absolute_percentage_error: 2.6678\n",
            "Epoch 99/100\n",
            "47/47 [==============================] - 0s 3ms/step - loss: 21.2566 - mean_absolute_percentage_error: 2.4323 - val_loss: 23.5715 - val_mean_absolute_percentage_error: 3.0756\n",
            "Epoch 100/100\n",
            "47/47 [==============================] - 0s 3ms/step - loss: 26.4099 - mean_absolute_percentage_error: 2.7452 - val_loss: 9.3208 - val_mean_absolute_percentage_error: 1.8939\n"
          ],
          "name": "stdout"
        }
      ]
    },
    {
      "cell_type": "code",
      "metadata": {
        "id": "SW4Ke8IJ8T3t"
      },
      "source": [
        "y_pred_ann = ann_relu.predict(x_test)"
      ],
      "execution_count": 130,
      "outputs": []
    },
    {
      "cell_type": "code",
      "metadata": {
        "id": "Hj2yGn8z9Z-L"
      },
      "source": [
        "print(y_pred_ann)"
      ],
      "execution_count": null,
      "outputs": []
    },
    {
      "cell_type": "code",
      "metadata": {
        "colab": {
          "base_uri": "https://localhost:8080/"
        },
        "id": "r7_QQ8eIJtCm",
        "outputId": "7d03c61f-4f5d-41c6-89c3-092eeb59fdd1"
      },
      "source": [
        "mse_ann = mean_squared_error(y_test, y_pred_ann)\n",
        "print(f'The MSE for the ANN algorithm is: {mse_ann}')"
      ],
      "execution_count": 132,
      "outputs": [
        {
          "output_type": "stream",
          "text": [
            "The MSE for the ANN algorithm is: 11.536910792190524\n"
          ],
          "name": "stdout"
        }
      ]
    },
    {
      "cell_type": "code",
      "metadata": {
        "colab": {
          "base_uri": "https://localhost:8080/"
        },
        "id": "huHSrX_Rj__q",
        "outputId": "7049dbc1-dd77-40d6-a57c-acd2b3c258b7"
      },
      "source": [
        "rmse_ann = mean_squared_error(y_test, y_pred_ann, squared=False)\n",
        "print(f'The RMSE for the ANN algorithm is: {rmse_ann}')"
      ],
      "execution_count": 134,
      "outputs": [
        {
          "output_type": "stream",
          "text": [
            "The RMSE for the ANN algorithm is: 3.396602831093227\n"
          ],
          "name": "stdout"
        }
      ]
    },
    {
      "cell_type": "code",
      "metadata": {
        "colab": {
          "base_uri": "https://localhost:8080/"
        },
        "id": "fWUgMAAUkfWI",
        "outputId": "0b4ef3cc-66d4-4348-ee32-de3675a3f359"
      },
      "source": [
        "mae_ann = mean_absolute_error(y_test, y_pred_ann)\n",
        "print(f'The MAE for the ANN algorithm is: {mae_ann}')"
      ],
      "execution_count": 135,
      "outputs": [
        {
          "output_type": "stream",
          "text": [
            "The MAE for the ANN algorithm is: 2.185119562237867\n"
          ],
          "name": "stdout"
        }
      ]
    },
    {
      "cell_type": "code",
      "metadata": {
        "id": "vGpJlAnprhKj"
      },
      "source": [
        "keras.backend.clear_session()"
      ],
      "execution_count": 126,
      "outputs": []
    }
  ]
}