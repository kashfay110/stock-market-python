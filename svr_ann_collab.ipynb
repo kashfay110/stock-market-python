{
  "nbformat": 4,
  "nbformat_minor": 0,
  "metadata": {
    "colab": {
      "name": "svr_ann_collab.ipynb",
      "provenance": [],
      "collapsed_sections": [],
      "authorship_tag": "ABX9TyNwgMNxouyWgiovChpUQyQd",
      "include_colab_link": true
    },
    "kernelspec": {
      "name": "python3",
      "display_name": "Python 3"
    }
  },
  "cells": [
    {
      "cell_type": "markdown",
      "metadata": {
        "id": "view-in-github",
        "colab_type": "text"
      },
      "source": [
        "<a href=\"https://colab.research.google.com/github/kashfay110/stock-market-python/blob/main/svr_ann_collab.ipynb\" target=\"_parent\"><img src=\"https://colab.research.google.com/assets/colab-badge.svg\" alt=\"Open In Colab\"/></a>"
      ]
    },
    {
      "cell_type": "code",
      "metadata": {
        "colab": {
          "base_uri": "https://localhost:8080/"
        },
        "id": "MQK3NVSPpP3d",
        "outputId": "c8446326-f99a-4b44-e7ed-2c8368479604"
      },
      "source": [
        "pip install mplfinance\n"
      ],
      "execution_count": 42,
      "outputs": [
        {
          "output_type": "stream",
          "text": [
            "Requirement already satisfied: mplfinance in /usr/local/lib/python3.7/dist-packages (0.12.7a10)\n",
            "Requirement already satisfied: pandas in /usr/local/lib/python3.7/dist-packages (from mplfinance) (1.1.5)\n",
            "Requirement already satisfied: matplotlib in /usr/local/lib/python3.7/dist-packages (from mplfinance) (3.2.2)\n",
            "Requirement already satisfied: numpy>=1.15.4 in /usr/local/lib/python3.7/dist-packages (from pandas->mplfinance) (1.19.5)\n",
            "Requirement already satisfied: python-dateutil>=2.7.3 in /usr/local/lib/python3.7/dist-packages (from pandas->mplfinance) (2.8.1)\n",
            "Requirement already satisfied: pytz>=2017.2 in /usr/local/lib/python3.7/dist-packages (from pandas->mplfinance) (2018.9)\n",
            "Requirement already satisfied: pyparsing!=2.0.4,!=2.1.2,!=2.1.6,>=2.0.1 in /usr/local/lib/python3.7/dist-packages (from matplotlib->mplfinance) (2.4.7)\n",
            "Requirement already satisfied: kiwisolver>=1.0.1 in /usr/local/lib/python3.7/dist-packages (from matplotlib->mplfinance) (1.3.1)\n",
            "Requirement already satisfied: cycler>=0.10 in /usr/local/lib/python3.7/dist-packages (from matplotlib->mplfinance) (0.10.0)\n",
            "Requirement already satisfied: six>=1.5 in /usr/local/lib/python3.7/dist-packages (from python-dateutil>=2.7.3->pandas->mplfinance) (1.15.0)\n"
          ],
          "name": "stdout"
        }
      ]
    },
    {
      "cell_type": "code",
      "metadata": {
        "id": "8syOrDK7o9Ma"
      },
      "source": [
        "# import quandl\n",
        "import numpy as np\n",
        "from sklearn.linear_model import LinearRegression\n",
        "from sklearn.svm import SVR\n",
        "from sklearn.model_selection import train_test_split\n",
        "import pandas as pd\n",
        "from sklearn.metrics import mean_squared_error, mean_absolute_error\n",
        "from sklearn.datasets import make_classification\n",
        "from sklearn.model_selection import KFold\n",
        "from sklearn.model_selection import cross_val_score\n",
        "import matplotlib.pyplot as plt\n",
        "plt.style.use('fivethirtyeight')\n",
        "import mplfinance as mpf\n",
        "import keras\n",
        "from keras.models import Sequential\n",
        "from keras.layers import Dense"
      ],
      "execution_count": 43,
      "outputs": []
    },
    {
      "cell_type": "code",
      "metadata": {
        "colab": {
          "resources": {
            "http://localhost:8080/nbextensions/google.colab/files.js": {
              "data": "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",
              "ok": true,
              "headers": [
                [
                  "content-type",
                  "application/javascript"
                ]
              ],
              "status": 200,
              "status_text": ""
            }
          },
          "base_uri": "https://localhost:8080/",
          "height": 72
        },
        "id": "1sEFBUZipBVm",
        "outputId": "30804ab1-2bce-463c-bff1-6febd718dfde"
      },
      "source": [
        "# Get the stock data\n",
        "#df = quandl.get(\"WIKI/FB\")\n",
        "#df = pd.read_csv (r'dataset/FB.csv')\n",
        "# Take a look at data\n",
        "#print(df.head())\n",
        "\n",
        "from google.colab import files\n",
        "uploaded = files.upload()\n",
        "import io\n",
        "df = pd.read_csv(io.BytesIO(uploaded['FB.csv']))\n",
        "df.head()\n",
        "\n",
        "df2 = pd.read_csv(io.BytesIO(uploaded['FB.csv']))\n",
        "#print(df2.head())\n",
        "# Get the Adjusted Close\n",
        "df = df[['Adj Close']]\n",
        "# Take a look at new data\n",
        "#print(df.head())"
      ],
      "execution_count": 44,
      "outputs": [
        {
          "output_type": "display_data",
          "data": {
            "text/html": [
              "\n",
              "     <input type=\"file\" id=\"files-85fa9df3-98ee-4408-a07c-32ff50a4e9bc\" name=\"files[]\" multiple disabled\n",
              "        style=\"border:none\" />\n",
              "     <output id=\"result-85fa9df3-98ee-4408-a07c-32ff50a4e9bc\">\n",
              "      Upload widget is only available when the cell has been executed in the\n",
              "      current browser session. Please rerun this cell to enable.\n",
              "      </output>\n",
              "      <script src=\"/nbextensions/google.colab/files.js\"></script> "
            ],
            "text/plain": [
              "<IPython.core.display.HTML object>"
            ]
          },
          "metadata": {
            "tags": []
          }
        },
        {
          "output_type": "stream",
          "text": [
            "Saving FB.csv to FB (2).csv\n"
          ],
          "name": "stdout"
        }
      ]
    },
    {
      "cell_type": "code",
      "metadata": {
        "id": "hh2AGR1_qAZ8"
      },
      "source": [
        "# A variable for predicting 'forecast_out' days out in future\n",
        "forecast_out = 1"
      ],
      "execution_count": 45,
      "outputs": []
    },
    {
      "cell_type": "code",
      "metadata": {
        "id": "mVVK0AlfqC3_"
      },
      "source": [
        "# Create another column (dependent variable) shifted 'forecast_out' units up\n",
        "df['Prediction'] = df[[\"Adj Close\"]].shift(-forecast_out)\n",
        "#print(df.tail())"
      ],
      "execution_count": 46,
      "outputs": []
    },
    {
      "cell_type": "code",
      "metadata": {
        "id": "7QlKbQKNqGE5"
      },
      "source": [
        "# Create the independent dataset\n",
        "# Convert the dataframe to numpy array\n",
        "X = np.array(df.drop(['Prediction'],1))\n",
        "# Remove the last 'forecast_out' rows\n",
        "X = X[:-forecast_out]\n",
        "#print(X)"
      ],
      "execution_count": 47,
      "outputs": []
    },
    {
      "cell_type": "code",
      "metadata": {
        "id": "AEO7kFYtqIbV"
      },
      "source": [
        "# Create the dependent dataset\n",
        "# Convert the dataframe to numpy array (All of the values including the NaNs)\n",
        "y = np.array(df['Prediction'])\n",
        "# Get all of the y values except the last 'forecast_out' rows\n",
        "y = y[:-forecast_out]\n",
        "#print(y)"
      ],
      "execution_count": 48,
      "outputs": []
    },
    {
      "cell_type": "code",
      "metadata": {
        "id": "EUuTkpvBqJm1",
        "colab": {
          "base_uri": "https://localhost:8080/"
        },
        "outputId": "0b91939a-8d71-440d-be8d-a0414202052f"
      },
      "source": [
        "z = np.array(df2)\n",
        "z = z[:-forecast_out]\n",
        "print(z)"
      ],
      "execution_count": 49,
      "outputs": [
        {
          "output_type": "stream",
          "text": [
            "[['2012-05-21' 36.529999 36.66 ... 34.029999 34.029999 168192700]\n",
            " ['2012-05-22' 32.610001000000004 33.59 ... 31.0 31.0 101786600]\n",
            " ['2012-05-23' 31.370001000000002 32.5 ... 32.0 32.0 73600000]\n",
            " ...\n",
            " ['2021-02-19' 269.859985 270.269989 ... 261.559998 261.559998 25549900]\n",
            " ['2021-02-22' 257.950012 263.070007 ... 260.329987 260.329987 17382300]\n",
            " ['2021-02-23' 259.5 267.459991 ... 265.859985 265.859985 21905400]]\n"
          ],
          "name": "stdout"
        }
      ]
    },
    {
      "cell_type": "code",
      "metadata": {
        "id": "Spa6ZNahqOR7"
      },
      "source": [
        "# Split the data into 80% training and 20% testing\n",
        "x_train, x_test, y_train, y_test = train_test_split(X, y, test_size=0.2)\n",
        "# print(x_train.shape, x_test.shape, y_train.shape, y_test.shape)\n",
        "# train_set = x_train + y_train\n",
        "# test_set = x_test + y_test"
      ],
      "execution_count": 50,
      "outputs": []
    },
    {
      "cell_type": "code",
      "metadata": {
        "id": "nfM4dwZcXjfn"
      },
      "source": [
        "X, y = make_classification(n_samples=100, n_features=20, n_informative=15, n_redundant=5, random_state=1)\n",
        "cv = KFold(n_splits=10, random_state=1, shuffle=True)"
      ],
      "execution_count": 51,
      "outputs": []
    },
    {
      "cell_type": "code",
      "metadata": {
        "id": "GiQ4Oc8mqRLr",
        "colab": {
          "base_uri": "https://localhost:8080/"
        },
        "outputId": "ab94d2e0-5363-4748-b556-a7092c70cdcb"
      },
      "source": [
        "# Create and train the Support Vector Machine (Regressor)\n",
        "svr_rbf = SVR(kernel='rbf', C=1e3, gamma=0.1)\n",
        "svr_rbf.fit(x_train, y_train)"
      ],
      "execution_count": 52,
      "outputs": [
        {
          "output_type": "execute_result",
          "data": {
            "text/plain": [
              "SVR(C=1000.0, cache_size=200, coef0=0.0, degree=3, epsilon=0.1, gamma=0.1,\n",
              "    kernel='rbf', max_iter=-1, shrinking=True, tol=0.001, verbose=False)"
            ]
          },
          "metadata": {
            "tags": []
          },
          "execution_count": 52
        }
      ]
    },
    {
      "cell_type": "code",
      "metadata": {
        "id": "5bWGgk1AqUw1",
        "colab": {
          "base_uri": "https://localhost:8080/"
        },
        "outputId": "d0d3de6b-4b35-4b34-e231-57409ff36863"
      },
      "source": [
        "# Create and train the Linear Regression model\n",
        "lr = LinearRegression()\n",
        "# Train model\n",
        "lr.fit(x_train, y_train)"
      ],
      "execution_count": 53,
      "outputs": [
        {
          "output_type": "execute_result",
          "data": {
            "text/plain": [
              "LinearRegression(copy_X=True, fit_intercept=True, n_jobs=None, normalize=False)"
            ]
          },
          "metadata": {
            "tags": []
          },
          "execution_count": 53
        }
      ]
    },
    {
      "cell_type": "code",
      "metadata": {
        "colab": {
          "base_uri": "https://localhost:8080/"
        },
        "id": "grznzVrKX6m2",
        "outputId": "eb39465c-2cfd-4b2c-8244-233a98c2f3a6"
      },
      "source": [
        "# Find a different 'scoring' metric as accuracy is for classification whereas this is regression\n",
        "scores = cross_val_score(svr_rbf, X, y, cv=cv, n_jobs=-1)\n",
        "print(scores)"
      ],
      "execution_count": 70,
      "outputs": [
        {
          "output_type": "stream",
          "text": [
            "[-5.56590335e-02 -3.93263527e-02 -4.21398258e-02 -3.46726831e-04\n",
            " -4.07945614e-02 -4.16294534e-02 -4.09477431e-02 -2.47486403e-02\n",
            " -2.44805773e-01 -1.44809485e-04]\n"
          ],
          "name": "stdout"
        }
      ]
    },
    {
      "cell_type": "code",
      "metadata": {
        "id": "HS3hgjfvqVlP"
      },
      "source": [
        "#Set x_forecast equal to the last forecast_out rows of the original dat set from Adj. Close column\n",
        "x_forecast = np.array(df.drop(['Prediction'],1))[-forecast_out:]\n",
        "#print(x_forecast)"
      ],
      "execution_count": 55,
      "outputs": []
    },
    {
      "cell_type": "code",
      "metadata": {
        "id": "qrSbK5bEqXm7",
        "colab": {
          "base_uri": "https://localhost:8080/"
        },
        "outputId": "f9213896-db8b-4de2-b594-d1fed7b4c2a8"
      },
      "source": [
        "# Print the SVR prediction for the next forecast_out days\n",
        "svm_prediction = svr_rbf.predict(x_forecast)\n",
        "print(f'The next {forecast_out} days by the SVR model: \\n{svm_prediction}')\n",
        "\n",
        "# Print the Linear Regression prediction for the next forecast_out days\n",
        "lr_prediction = lr.predict(x_forecast)\n",
        "print(f'The next {forecast_out} days by the LR model: \\n{lr_prediction}')"
      ],
      "execution_count": 56,
      "outputs": [
        {
          "output_type": "stream",
          "text": [
            "The next 1 days by the SVR model: \n",
            "[260.62107019]\n",
            "The next 1 days by the LR model: \n",
            "[264.35033855]\n"
          ],
          "name": "stdout"
        }
      ]
    },
    {
      "cell_type": "code",
      "metadata": {
        "id": "gHDx_uM-qevz",
        "colab": {
          "base_uri": "https://localhost:8080/"
        },
        "outputId": "43f362a8-305b-48ef-8bd6-9ed5db97d239"
      },
      "source": [
        "# Testing Model: Score returns the coefficient of determination R^2 of the prediction\n",
        "# Best possible score is 1.0\n",
        "svm_confidence = svr_rbf.score(x_test, y_test)\n",
        "print(\"svr confidence: \", svm_confidence)\n",
        "\n",
        "# Testing Model: Score returns the coefficient of determination R^2 of the prediction\n",
        "# It provides a measure of how well observed outcomes are replicated by the model, based on the proportion of total variation of outcomes explained by the model\n",
        "# Best possible score is 1.0\n",
        "lr_confidence = lr.score(x_test, y_test)\n",
        "print(\"lr confidence: \", lr_confidence)"
      ],
      "execution_count": 57,
      "outputs": [
        {
          "output_type": "stream",
          "text": [
            "svr confidence:  0.9973987334525288\n",
            "lr confidence:  0.9980078844279239\n"
          ],
          "name": "stdout"
        }
      ]
    },
    {
      "cell_type": "code",
      "metadata": {
        "id": "zFdQM9GZqkkw"
      },
      "source": [
        "## Creating predicted values for both models\n",
        "y_pred_svr = svr_rbf.predict(x_test)\n",
        "y_pred_lr = lr.predict(x_test)"
      ],
      "execution_count": 58,
      "outputs": []
    },
    {
      "cell_type": "code",
      "metadata": {
        "id": "Y4TOdloqX4I2"
      },
      "source": [
        ""
      ],
      "execution_count": 58,
      "outputs": []
    },
    {
      "cell_type": "code",
      "metadata": {
        "id": "ooukC4Lmqm9s"
      },
      "source": [
        "ann_relu = Sequential()\n",
        "ann_relu.add(Dense(200, input_dim=1, activation='relu'))\n",
        "ann_relu.add(Dense(200, input_dim=200, activation='relu'))\n",
        "ann_relu.add(Dense(200, input_dim=200, activation='relu'))\n",
        "ann_relu.add(Dense(1, activation='linear'))"
      ],
      "execution_count": 59,
      "outputs": []
    },
    {
      "cell_type": "code",
      "metadata": {
        "id": "uosVICCCqvYW"
      },
      "source": [
        "keras.optimizers.Adam(lr=0.1, beta_1=0.9, beta_2=0.999, amsgrad=False)\n",
        "ann_relu.compile(loss='mean_squared_error', optimizer='RMSprop', metrics=['mean_absolute_percentage_error'])"
      ],
      "execution_count": 60,
      "outputs": []
    },
    {
      "cell_type": "code",
      "metadata": {
        "id": "wkxxGMlYqyaE",
        "colab": {
          "base_uri": "https://localhost:8080/"
        },
        "outputId": "789454bc-c6dc-4dd3-8ecb-6d540816f44a"
      },
      "source": [
        "ann_relu.summary()"
      ],
      "execution_count": 61,
      "outputs": [
        {
          "output_type": "stream",
          "text": [
            "Model: \"sequential\"\n",
            "_________________________________________________________________\n",
            "Layer (type)                 Output Shape              Param #   \n",
            "=================================================================\n",
            "dense (Dense)                (None, 200)               400       \n",
            "_________________________________________________________________\n",
            "dense_1 (Dense)              (None, 200)               40200     \n",
            "_________________________________________________________________\n",
            "dense_2 (Dense)              (None, 200)               40200     \n",
            "_________________________________________________________________\n",
            "dense_3 (Dense)              (None, 1)                 201       \n",
            "=================================================================\n",
            "Total params: 81,001\n",
            "Trainable params: 81,001\n",
            "Non-trainable params: 0\n",
            "_________________________________________________________________\n"
          ],
          "name": "stdout"
        }
      ]
    },
    {
      "cell_type": "code",
      "metadata": {
        "id": "O8-sCx_fqzh-",
        "colab": {
          "base_uri": "https://localhost:8080/"
        },
        "outputId": "741d6a55-6420-48db-9a51-36bd0dddf5ee"
      },
      "source": [
        "history = ann_relu.fit(x_train, y_train, epochs=200, batch_size=32,validation_split=0.15,verbose=1)"
      ],
      "execution_count": 62,
      "outputs": [
        {
          "output_type": "stream",
          "text": [
            "Epoch 1/200\n",
            "47/47 [==============================] - 1s 6ms/step - loss: 2862.2940 - mean_absolute_percentage_error: 22.3108 - val_loss: 200.0624 - val_mean_absolute_percentage_error: 9.9957\n",
            "Epoch 2/200\n",
            "47/47 [==============================] - 0s 3ms/step - loss: 90.9322 - mean_absolute_percentage_error: 5.6444 - val_loss: 172.7009 - val_mean_absolute_percentage_error: 8.9894\n",
            "Epoch 3/200\n",
            "47/47 [==============================] - 0s 3ms/step - loss: 113.0822 - mean_absolute_percentage_error: 6.5496 - val_loss: 143.9727 - val_mean_absolute_percentage_error: 8.4449\n",
            "Epoch 4/200\n",
            "47/47 [==============================] - 0s 3ms/step - loss: 85.8907 - mean_absolute_percentage_error: 5.2601 - val_loss: 87.0984 - val_mean_absolute_percentage_error: 6.1702\n",
            "Epoch 5/200\n",
            "47/47 [==============================] - 0s 3ms/step - loss: 110.4080 - mean_absolute_percentage_error: 5.9489 - val_loss: 11.3613 - val_mean_absolute_percentage_error: 1.7497\n",
            "Epoch 6/200\n",
            "47/47 [==============================] - 0s 3ms/step - loss: 76.0937 - mean_absolute_percentage_error: 4.4836 - val_loss: 116.2317 - val_mean_absolute_percentage_error: 7.2324\n",
            "Epoch 7/200\n",
            "47/47 [==============================] - 0s 3ms/step - loss: 76.4634 - mean_absolute_percentage_error: 5.3500 - val_loss: 166.2962 - val_mean_absolute_percentage_error: 8.7884\n",
            "Epoch 8/200\n",
            "47/47 [==============================] - 0s 3ms/step - loss: 97.3833 - mean_absolute_percentage_error: 5.1286 - val_loss: 17.1514 - val_mean_absolute_percentage_error: 2.5712\n",
            "Epoch 9/200\n",
            "47/47 [==============================] - 0s 3ms/step - loss: 47.1129 - mean_absolute_percentage_error: 3.5347 - val_loss: 11.3611 - val_mean_absolute_percentage_error: 1.7458\n",
            "Epoch 10/200\n",
            "47/47 [==============================] - 0s 4ms/step - loss: 51.5022 - mean_absolute_percentage_error: 4.2005 - val_loss: 35.4975 - val_mean_absolute_percentage_error: 3.6090\n",
            "Epoch 11/200\n",
            "47/47 [==============================] - 0s 3ms/step - loss: 55.7011 - mean_absolute_percentage_error: 3.9541 - val_loss: 24.4233 - val_mean_absolute_percentage_error: 2.8733\n",
            "Epoch 12/200\n",
            "47/47 [==============================] - 0s 3ms/step - loss: 62.2210 - mean_absolute_percentage_error: 4.5069 - val_loss: 325.2160 - val_mean_absolute_percentage_error: 12.8112\n",
            "Epoch 13/200\n",
            "47/47 [==============================] - 0s 3ms/step - loss: 76.4974 - mean_absolute_percentage_error: 4.4495 - val_loss: 18.3094 - val_mean_absolute_percentage_error: 2.4082\n",
            "Epoch 14/200\n",
            "47/47 [==============================] - 0s 3ms/step - loss: 57.1022 - mean_absolute_percentage_error: 4.4202 - val_loss: 16.8696 - val_mean_absolute_percentage_error: 2.2843\n",
            "Epoch 15/200\n",
            "47/47 [==============================] - 0s 3ms/step - loss: 47.1044 - mean_absolute_percentage_error: 4.0296 - val_loss: 53.9770 - val_mean_absolute_percentage_error: 5.0334\n",
            "Epoch 16/200\n",
            "47/47 [==============================] - 0s 3ms/step - loss: 55.7046 - mean_absolute_percentage_error: 4.7358 - val_loss: 9.9010 - val_mean_absolute_percentage_error: 1.6606\n",
            "Epoch 17/200\n",
            "47/47 [==============================] - 0s 4ms/step - loss: 47.2837 - mean_absolute_percentage_error: 3.7233 - val_loss: 78.8015 - val_mean_absolute_percentage_error: 5.8149\n",
            "Epoch 18/200\n",
            "47/47 [==============================] - 0s 6ms/step - loss: 54.2724 - mean_absolute_percentage_error: 4.6311 - val_loss: 10.0567 - val_mean_absolute_percentage_error: 1.6942\n",
            "Epoch 19/200\n",
            "47/47 [==============================] - 0s 3ms/step - loss: 38.6743 - mean_absolute_percentage_error: 3.4625 - val_loss: 9.3258 - val_mean_absolute_percentage_error: 1.5499\n",
            "Epoch 20/200\n",
            "47/47 [==============================] - 0s 4ms/step - loss: 47.3760 - mean_absolute_percentage_error: 4.0519 - val_loss: 21.9129 - val_mean_absolute_percentage_error: 3.0129\n",
            "Epoch 21/200\n",
            "47/47 [==============================] - 0s 3ms/step - loss: 61.0757 - mean_absolute_percentage_error: 4.4487 - val_loss: 9.8870 - val_mean_absolute_percentage_error: 1.6625\n",
            "Epoch 22/200\n",
            "47/47 [==============================] - 0s 3ms/step - loss: 32.8511 - mean_absolute_percentage_error: 3.1510 - val_loss: 36.8117 - val_mean_absolute_percentage_error: 3.6855\n",
            "Epoch 23/200\n",
            "47/47 [==============================] - 0s 3ms/step - loss: 31.3706 - mean_absolute_percentage_error: 3.2358 - val_loss: 11.0274 - val_mean_absolute_percentage_error: 1.8394\n",
            "Epoch 24/200\n",
            "47/47 [==============================] - 0s 3ms/step - loss: 41.7998 - mean_absolute_percentage_error: 3.4921 - val_loss: 29.6793 - val_mean_absolute_percentage_error: 3.2407\n",
            "Epoch 25/200\n",
            "47/47 [==============================] - 0s 3ms/step - loss: 42.1608 - mean_absolute_percentage_error: 3.7133 - val_loss: 9.3410 - val_mean_absolute_percentage_error: 1.5545\n",
            "Epoch 26/200\n",
            "47/47 [==============================] - 0s 3ms/step - loss: 35.4529 - mean_absolute_percentage_error: 3.2737 - val_loss: 21.2393 - val_mean_absolute_percentage_error: 2.9533\n",
            "Epoch 27/200\n",
            "47/47 [==============================] - 0s 3ms/step - loss: 51.2681 - mean_absolute_percentage_error: 4.0770 - val_loss: 9.3437 - val_mean_absolute_percentage_error: 1.5590\n",
            "Epoch 28/200\n",
            "47/47 [==============================] - 0s 3ms/step - loss: 32.4707 - mean_absolute_percentage_error: 2.7061 - val_loss: 113.0398 - val_mean_absolute_percentage_error: 7.4714\n",
            "Epoch 29/200\n",
            "47/47 [==============================] - 0s 3ms/step - loss: 56.3024 - mean_absolute_percentage_error: 3.6978 - val_loss: 37.2385 - val_mean_absolute_percentage_error: 4.1159\n",
            "Epoch 30/200\n",
            "47/47 [==============================] - 0s 3ms/step - loss: 34.0277 - mean_absolute_percentage_error: 3.7035 - val_loss: 20.1900 - val_mean_absolute_percentage_error: 2.5399\n",
            "Epoch 31/200\n",
            "47/47 [==============================] - 0s 3ms/step - loss: 52.2738 - mean_absolute_percentage_error: 4.2223 - val_loss: 21.6045 - val_mean_absolute_percentage_error: 2.6590\n",
            "Epoch 32/200\n",
            "47/47 [==============================] - 0s 3ms/step - loss: 34.6488 - mean_absolute_percentage_error: 3.1536 - val_loss: 10.2379 - val_mean_absolute_percentage_error: 1.6136\n",
            "Epoch 33/200\n",
            "47/47 [==============================] - 0s 3ms/step - loss: 42.8865 - mean_absolute_percentage_error: 3.3406 - val_loss: 14.0127 - val_mean_absolute_percentage_error: 2.2554\n",
            "Epoch 34/200\n",
            "47/47 [==============================] - 0s 3ms/step - loss: 47.4162 - mean_absolute_percentage_error: 3.9753 - val_loss: 9.3215 - val_mean_absolute_percentage_error: 1.5508\n",
            "Epoch 35/200\n",
            "47/47 [==============================] - 0s 3ms/step - loss: 27.7343 - mean_absolute_percentage_error: 2.9336 - val_loss: 9.3782 - val_mean_absolute_percentage_error: 1.5278\n",
            "Epoch 36/200\n",
            "47/47 [==============================] - 0s 3ms/step - loss: 39.2201 - mean_absolute_percentage_error: 3.3999 - val_loss: 11.0348 - val_mean_absolute_percentage_error: 1.7055\n",
            "Epoch 37/200\n",
            "47/47 [==============================] - 0s 3ms/step - loss: 36.0863 - mean_absolute_percentage_error: 3.0211 - val_loss: 13.2123 - val_mean_absolute_percentage_error: 2.1468\n",
            "Epoch 38/200\n",
            "47/47 [==============================] - 0s 3ms/step - loss: 33.1587 - mean_absolute_percentage_error: 3.0318 - val_loss: 115.9312 - val_mean_absolute_percentage_error: 7.2239\n",
            "Epoch 39/200\n",
            "47/47 [==============================] - 0s 3ms/step - loss: 48.0269 - mean_absolute_percentage_error: 3.9788 - val_loss: 9.3154 - val_mean_absolute_percentage_error: 1.5278\n",
            "Epoch 40/200\n",
            "47/47 [==============================] - 0s 3ms/step - loss: 32.7343 - mean_absolute_percentage_error: 3.0396 - val_loss: 15.0271 - val_mean_absolute_percentage_error: 2.1277\n",
            "Epoch 41/200\n",
            "47/47 [==============================] - 0s 3ms/step - loss: 24.9577 - mean_absolute_percentage_error: 2.7442 - val_loss: 10.0355 - val_mean_absolute_percentage_error: 1.6715\n",
            "Epoch 42/200\n",
            "47/47 [==============================] - 0s 4ms/step - loss: 23.2841 - mean_absolute_percentage_error: 2.9280 - val_loss: 13.9612 - val_mean_absolute_percentage_error: 2.0332\n",
            "Epoch 43/200\n",
            "47/47 [==============================] - 0s 3ms/step - loss: 29.8912 - mean_absolute_percentage_error: 3.1101 - val_loss: 27.3610 - val_mean_absolute_percentage_error: 3.3969\n",
            "Epoch 44/200\n",
            "47/47 [==============================] - 0s 3ms/step - loss: 38.0095 - mean_absolute_percentage_error: 3.3413 - val_loss: 16.7912 - val_mean_absolute_percentage_error: 2.2923\n",
            "Epoch 45/200\n",
            "47/47 [==============================] - 0s 3ms/step - loss: 36.1354 - mean_absolute_percentage_error: 3.4436 - val_loss: 9.3850 - val_mean_absolute_percentage_error: 1.5522\n",
            "Epoch 46/200\n",
            "47/47 [==============================] - 0s 3ms/step - loss: 30.1162 - mean_absolute_percentage_error: 2.8414 - val_loss: 29.2957 - val_mean_absolute_percentage_error: 3.2352\n",
            "Epoch 47/200\n",
            "47/47 [==============================] - 0s 3ms/step - loss: 30.0530 - mean_absolute_percentage_error: 3.0874 - val_loss: 108.2618 - val_mean_absolute_percentage_error: 6.9773\n",
            "Epoch 48/200\n",
            "47/47 [==============================] - 0s 4ms/step - loss: 46.5389 - mean_absolute_percentage_error: 3.9601 - val_loss: 9.8884 - val_mean_absolute_percentage_error: 1.6451\n",
            "Epoch 49/200\n",
            "47/47 [==============================] - 0s 3ms/step - loss: 28.5791 - mean_absolute_percentage_error: 3.0258 - val_loss: 30.4641 - val_mean_absolute_percentage_error: 3.3132\n",
            "Epoch 50/200\n",
            "47/47 [==============================] - 0s 3ms/step - loss: 34.4579 - mean_absolute_percentage_error: 3.2536 - val_loss: 9.7154 - val_mean_absolute_percentage_error: 1.5562\n",
            "Epoch 51/200\n",
            "47/47 [==============================] - 0s 3ms/step - loss: 23.8729 - mean_absolute_percentage_error: 2.5799 - val_loss: 44.0373 - val_mean_absolute_percentage_error: 4.4732\n",
            "Epoch 52/200\n",
            "47/47 [==============================] - 0s 4ms/step - loss: 27.9278 - mean_absolute_percentage_error: 2.8837 - val_loss: 30.1832 - val_mean_absolute_percentage_error: 3.2899\n",
            "Epoch 53/200\n",
            "47/47 [==============================] - 0s 3ms/step - loss: 30.8793 - mean_absolute_percentage_error: 2.9063 - val_loss: 25.3833 - val_mean_absolute_percentage_error: 3.2595\n",
            "Epoch 54/200\n",
            "47/47 [==============================] - 0s 3ms/step - loss: 31.6588 - mean_absolute_percentage_error: 3.3939 - val_loss: 32.1963 - val_mean_absolute_percentage_error: 3.4165\n",
            "Epoch 55/200\n",
            "47/47 [==============================] - 0s 4ms/step - loss: 42.2016 - mean_absolute_percentage_error: 3.7294 - val_loss: 10.4774 - val_mean_absolute_percentage_error: 1.6441\n",
            "Epoch 56/200\n",
            "47/47 [==============================] - 0s 3ms/step - loss: 22.5195 - mean_absolute_percentage_error: 2.6432 - val_loss: 99.9328 - val_mean_absolute_percentage_error: 6.6815\n",
            "Epoch 57/200\n",
            "47/47 [==============================] - 0s 3ms/step - loss: 39.3052 - mean_absolute_percentage_error: 3.2671 - val_loss: 29.7377 - val_mean_absolute_percentage_error: 3.2602\n",
            "Epoch 58/200\n",
            "47/47 [==============================] - 0s 3ms/step - loss: 26.1511 - mean_absolute_percentage_error: 2.9430 - val_loss: 80.0394 - val_mean_absolute_percentage_error: 6.1717\n",
            "Epoch 59/200\n",
            "47/47 [==============================] - 0s 4ms/step - loss: 36.4191 - mean_absolute_percentage_error: 3.6421 - val_loss: 85.8880 - val_mean_absolute_percentage_error: 6.1398\n",
            "Epoch 60/200\n",
            "47/47 [==============================] - 0s 4ms/step - loss: 29.0721 - mean_absolute_percentage_error: 3.2156 - val_loss: 17.2131 - val_mean_absolute_percentage_error: 2.3288\n",
            "Epoch 61/200\n",
            "47/47 [==============================] - 0s 3ms/step - loss: 38.5089 - mean_absolute_percentage_error: 3.4649 - val_loss: 22.5570 - val_mean_absolute_percentage_error: 2.7643\n",
            "Epoch 62/200\n",
            "47/47 [==============================] - 0s 4ms/step - loss: 27.5941 - mean_absolute_percentage_error: 2.8286 - val_loss: 41.1802 - val_mean_absolute_percentage_error: 3.9840\n",
            "Epoch 63/200\n",
            "47/47 [==============================] - 0s 3ms/step - loss: 33.1581 - mean_absolute_percentage_error: 3.0369 - val_loss: 24.8867 - val_mean_absolute_percentage_error: 3.2160\n",
            "Epoch 64/200\n",
            "47/47 [==============================] - 0s 3ms/step - loss: 37.7001 - mean_absolute_percentage_error: 3.4583 - val_loss: 13.9484 - val_mean_absolute_percentage_error: 2.0325\n",
            "Epoch 65/200\n",
            "47/47 [==============================] - 0s 3ms/step - loss: 33.7493 - mean_absolute_percentage_error: 3.2157 - val_loss: 63.6130 - val_mean_absolute_percentage_error: 5.4584\n",
            "Epoch 66/200\n",
            "47/47 [==============================] - 0s 3ms/step - loss: 28.2434 - mean_absolute_percentage_error: 3.1239 - val_loss: 9.5240 - val_mean_absolute_percentage_error: 1.5788\n",
            "Epoch 67/200\n",
            "47/47 [==============================] - 0s 3ms/step - loss: 28.5133 - mean_absolute_percentage_error: 3.1124 - val_loss: 77.8884 - val_mean_absolute_percentage_error: 5.8208\n",
            "Epoch 68/200\n",
            "47/47 [==============================] - 0s 3ms/step - loss: 37.9856 - mean_absolute_percentage_error: 3.2781 - val_loss: 17.9575 - val_mean_absolute_percentage_error: 2.3974\n",
            "Epoch 69/200\n",
            "47/47 [==============================] - 0s 3ms/step - loss: 28.7523 - mean_absolute_percentage_error: 2.7669 - val_loss: 37.9453 - val_mean_absolute_percentage_error: 3.7890\n",
            "Epoch 70/200\n",
            "47/47 [==============================] - 0s 3ms/step - loss: 27.6822 - mean_absolute_percentage_error: 3.0160 - val_loss: 13.0120 - val_mean_absolute_percentage_error: 2.1021\n",
            "Epoch 71/200\n",
            "47/47 [==============================] - 0s 3ms/step - loss: 22.8985 - mean_absolute_percentage_error: 2.7097 - val_loss: 27.6933 - val_mean_absolute_percentage_error: 3.4318\n",
            "Epoch 72/200\n",
            "47/47 [==============================] - 0s 3ms/step - loss: 32.3508 - mean_absolute_percentage_error: 3.2101 - val_loss: 9.5433 - val_mean_absolute_percentage_error: 1.5380\n",
            "Epoch 73/200\n",
            "47/47 [==============================] - 0s 3ms/step - loss: 22.5776 - mean_absolute_percentage_error: 2.7096 - val_loss: 11.3068 - val_mean_absolute_percentage_error: 1.7447\n",
            "Epoch 74/200\n",
            "47/47 [==============================] - 0s 4ms/step - loss: 25.2209 - mean_absolute_percentage_error: 2.7885 - val_loss: 9.6171 - val_mean_absolute_percentage_error: 1.5460\n",
            "Epoch 75/200\n",
            "47/47 [==============================] - 0s 3ms/step - loss: 26.9951 - mean_absolute_percentage_error: 2.6789 - val_loss: 14.5951 - val_mean_absolute_percentage_error: 2.0880\n",
            "Epoch 76/200\n",
            "47/47 [==============================] - 0s 3ms/step - loss: 30.2232 - mean_absolute_percentage_error: 3.1598 - val_loss: 64.0844 - val_mean_absolute_percentage_error: 5.5000\n",
            "Epoch 77/200\n",
            "47/47 [==============================] - 0s 3ms/step - loss: 25.1073 - mean_absolute_percentage_error: 2.8886 - val_loss: 24.1437 - val_mean_absolute_percentage_error: 2.8717\n",
            "Epoch 78/200\n",
            "47/47 [==============================] - 0s 3ms/step - loss: 20.6583 - mean_absolute_percentage_error: 2.7022 - val_loss: 17.5611 - val_mean_absolute_percentage_error: 2.3538\n",
            "Epoch 79/200\n",
            "47/47 [==============================] - 0s 3ms/step - loss: 24.1924 - mean_absolute_percentage_error: 2.5708 - val_loss: 16.3774 - val_mean_absolute_percentage_error: 2.2536\n",
            "Epoch 80/200\n",
            "47/47 [==============================] - 0s 4ms/step - loss: 16.6333 - mean_absolute_percentage_error: 2.2690 - val_loss: 17.2670 - val_mean_absolute_percentage_error: 2.3338\n",
            "Epoch 81/200\n",
            "47/47 [==============================] - 0s 3ms/step - loss: 22.4438 - mean_absolute_percentage_error: 2.6550 - val_loss: 36.3829 - val_mean_absolute_percentage_error: 3.6805\n",
            "Epoch 82/200\n",
            "47/47 [==============================] - 0s 3ms/step - loss: 30.0886 - mean_absolute_percentage_error: 3.1032 - val_loss: 10.3968 - val_mean_absolute_percentage_error: 1.7367\n",
            "Epoch 83/200\n",
            "47/47 [==============================] - 0s 3ms/step - loss: 21.4903 - mean_absolute_percentage_error: 2.5522 - val_loss: 88.5851 - val_mean_absolute_percentage_error: 6.2300\n",
            "Epoch 84/200\n",
            "47/47 [==============================] - 0s 4ms/step - loss: 34.2787 - mean_absolute_percentage_error: 3.2820 - val_loss: 34.4245 - val_mean_absolute_percentage_error: 3.5495\n",
            "Epoch 85/200\n",
            "47/47 [==============================] - 0s 4ms/step - loss: 33.7694 - mean_absolute_percentage_error: 3.2189 - val_loss: 10.1239 - val_mean_absolute_percentage_error: 1.6878\n",
            "Epoch 86/200\n",
            "47/47 [==============================] - 0s 3ms/step - loss: 24.3506 - mean_absolute_percentage_error: 2.7585 - val_loss: 9.8750 - val_mean_absolute_percentage_error: 1.6516\n",
            "Epoch 87/200\n",
            "47/47 [==============================] - 0s 3ms/step - loss: 33.8048 - mean_absolute_percentage_error: 3.0901 - val_loss: 36.4848 - val_mean_absolute_percentage_error: 3.6883\n",
            "Epoch 88/200\n",
            "47/47 [==============================] - 0s 3ms/step - loss: 25.7227 - mean_absolute_percentage_error: 2.8469 - val_loss: 34.1720 - val_mean_absolute_percentage_error: 3.5416\n",
            "Epoch 89/200\n",
            "47/47 [==============================] - 0s 3ms/step - loss: 24.0173 - mean_absolute_percentage_error: 2.7827 - val_loss: 19.9077 - val_mean_absolute_percentage_error: 2.5468\n",
            "Epoch 90/200\n",
            "47/47 [==============================] - 0s 3ms/step - loss: 22.8127 - mean_absolute_percentage_error: 2.6423 - val_loss: 17.4529 - val_mean_absolute_percentage_error: 2.3446\n",
            "Epoch 91/200\n",
            "47/47 [==============================] - 0s 3ms/step - loss: 26.2809 - mean_absolute_percentage_error: 2.9855 - val_loss: 25.8124 - val_mean_absolute_percentage_error: 3.2915\n",
            "Epoch 92/200\n",
            "47/47 [==============================] - 0s 3ms/step - loss: 22.1663 - mean_absolute_percentage_error: 2.7172 - val_loss: 12.2492 - val_mean_absolute_percentage_error: 2.0054\n",
            "Epoch 93/200\n",
            "47/47 [==============================] - 0s 3ms/step - loss: 31.7039 - mean_absolute_percentage_error: 3.0865 - val_loss: 18.4736 - val_mean_absolute_percentage_error: 2.6997\n",
            "Epoch 94/200\n",
            "47/47 [==============================] - 0s 3ms/step - loss: 26.8376 - mean_absolute_percentage_error: 2.9790 - val_loss: 17.6673 - val_mean_absolute_percentage_error: 2.3549\n",
            "Epoch 95/200\n",
            "47/47 [==============================] - 0s 3ms/step - loss: 24.0969 - mean_absolute_percentage_error: 2.7642 - val_loss: 147.0307 - val_mean_absolute_percentage_error: 8.2274\n",
            "Epoch 96/200\n",
            "47/47 [==============================] - 0s 4ms/step - loss: 30.5124 - mean_absolute_percentage_error: 2.8569 - val_loss: 9.8321 - val_mean_absolute_percentage_error: 1.5691\n",
            "Epoch 97/200\n",
            "47/47 [==============================] - 0s 3ms/step - loss: 18.8519 - mean_absolute_percentage_error: 2.3251 - val_loss: 14.8832 - val_mean_absolute_percentage_error: 2.1112\n",
            "Epoch 98/200\n",
            "47/47 [==============================] - 0s 4ms/step - loss: 27.8420 - mean_absolute_percentage_error: 2.9360 - val_loss: 54.6221 - val_mean_absolute_percentage_error: 4.6968\n",
            "Epoch 99/200\n",
            "47/47 [==============================] - 0s 3ms/step - loss: 23.3441 - mean_absolute_percentage_error: 2.7156 - val_loss: 24.9006 - val_mean_absolute_percentage_error: 3.2325\n",
            "Epoch 100/200\n",
            "47/47 [==============================] - 0s 3ms/step - loss: 22.6211 - mean_absolute_percentage_error: 2.8023 - val_loss: 70.0548 - val_mean_absolute_percentage_error: 5.7643\n",
            "Epoch 101/200\n",
            "47/47 [==============================] - 0s 3ms/step - loss: 27.6970 - mean_absolute_percentage_error: 3.1627 - val_loss: 15.8305 - val_mean_absolute_percentage_error: 2.2039\n",
            "Epoch 102/200\n",
            "47/47 [==============================] - 0s 3ms/step - loss: 21.9824 - mean_absolute_percentage_error: 2.7127 - val_loss: 49.3252 - val_mean_absolute_percentage_error: 4.4433\n",
            "Epoch 103/200\n",
            "47/47 [==============================] - 0s 3ms/step - loss: 20.6978 - mean_absolute_percentage_error: 2.6591 - val_loss: 15.0344 - val_mean_absolute_percentage_error: 2.3379\n",
            "Epoch 104/200\n",
            "47/47 [==============================] - 0s 3ms/step - loss: 23.8360 - mean_absolute_percentage_error: 2.7351 - val_loss: 19.4055 - val_mean_absolute_percentage_error: 2.5153\n",
            "Epoch 105/200\n",
            "47/47 [==============================] - 0s 3ms/step - loss: 20.0306 - mean_absolute_percentage_error: 2.3071 - val_loss: 37.6359 - val_mean_absolute_percentage_error: 4.0899\n",
            "Epoch 106/200\n",
            "47/47 [==============================] - 0s 4ms/step - loss: 33.0346 - mean_absolute_percentage_error: 3.0301 - val_loss: 9.4148 - val_mean_absolute_percentage_error: 1.5634\n",
            "Epoch 107/200\n",
            "47/47 [==============================] - 0s 4ms/step - loss: 25.6577 - mean_absolute_percentage_error: 2.6335 - val_loss: 24.1847 - val_mean_absolute_percentage_error: 3.1722\n",
            "Epoch 108/200\n",
            "47/47 [==============================] - 0s 3ms/step - loss: 19.9215 - mean_absolute_percentage_error: 2.6832 - val_loss: 22.5516 - val_mean_absolute_percentage_error: 3.0459\n",
            "Epoch 109/200\n",
            "47/47 [==============================] - 0s 3ms/step - loss: 23.5698 - mean_absolute_percentage_error: 2.7538 - val_loss: 9.4811 - val_mean_absolute_percentage_error: 1.5314\n",
            "Epoch 110/200\n",
            "47/47 [==============================] - 0s 4ms/step - loss: 27.8637 - mean_absolute_percentage_error: 2.8330 - val_loss: 10.7486 - val_mean_absolute_percentage_error: 1.7820\n",
            "Epoch 111/200\n",
            "47/47 [==============================] - 0s 3ms/step - loss: 20.6952 - mean_absolute_percentage_error: 2.6751 - val_loss: 31.2688 - val_mean_absolute_percentage_error: 3.6792\n",
            "Epoch 112/200\n",
            "47/47 [==============================] - 0s 3ms/step - loss: 28.7592 - mean_absolute_percentage_error: 2.7989 - val_loss: 29.2959 - val_mean_absolute_percentage_error: 3.2336\n",
            "Epoch 113/200\n",
            "47/47 [==============================] - 0s 3ms/step - loss: 23.9359 - mean_absolute_percentage_error: 2.7294 - val_loss: 9.6606 - val_mean_absolute_percentage_error: 1.5504\n",
            "Epoch 114/200\n",
            "47/47 [==============================] - 0s 4ms/step - loss: 20.7075 - mean_absolute_percentage_error: 2.3291 - val_loss: 10.2266 - val_mean_absolute_percentage_error: 1.6134\n",
            "Epoch 115/200\n",
            "47/47 [==============================] - 0s 3ms/step - loss: 19.4432 - mean_absolute_percentage_error: 2.4341 - val_loss: 55.9514 - val_mean_absolute_percentage_error: 5.1052\n",
            "Epoch 116/200\n",
            "47/47 [==============================] - 0s 3ms/step - loss: 17.9565 - mean_absolute_percentage_error: 2.5610 - val_loss: 9.3117 - val_mean_absolute_percentage_error: 1.5317\n",
            "Epoch 117/200\n",
            "47/47 [==============================] - 0s 4ms/step - loss: 22.0722 - mean_absolute_percentage_error: 2.6927 - val_loss: 41.9800 - val_mean_absolute_percentage_error: 4.0157\n",
            "Epoch 118/200\n",
            "47/47 [==============================] - 0s 3ms/step - loss: 24.9608 - mean_absolute_percentage_error: 2.7669 - val_loss: 9.7145 - val_mean_absolute_percentage_error: 1.6216\n",
            "Epoch 119/200\n",
            "47/47 [==============================] - 0s 3ms/step - loss: 18.5916 - mean_absolute_percentage_error: 2.5708 - val_loss: 9.6218 - val_mean_absolute_percentage_error: 1.5465\n",
            "Epoch 120/200\n",
            "47/47 [==============================] - 0s 4ms/step - loss: 20.0325 - mean_absolute_percentage_error: 2.4480 - val_loss: 11.9521 - val_mean_absolute_percentage_error: 1.9666\n",
            "Epoch 121/200\n",
            "47/47 [==============================] - 0s 3ms/step - loss: 16.0573 - mean_absolute_percentage_error: 2.2662 - val_loss: 11.5556 - val_mean_absolute_percentage_error: 1.7727\n",
            "Epoch 122/200\n",
            "47/47 [==============================] - 0s 3ms/step - loss: 22.3625 - mean_absolute_percentage_error: 2.5469 - val_loss: 11.4058 - val_mean_absolute_percentage_error: 1.8907\n",
            "Epoch 123/200\n",
            "47/47 [==============================] - 0s 4ms/step - loss: 14.5904 - mean_absolute_percentage_error: 2.1655 - val_loss: 9.5205 - val_mean_absolute_percentage_error: 1.5895\n",
            "Epoch 124/200\n",
            "47/47 [==============================] - 0s 4ms/step - loss: 28.5104 - mean_absolute_percentage_error: 2.6610 - val_loss: 13.8428 - val_mean_absolute_percentage_error: 2.0113\n",
            "Epoch 125/200\n",
            "47/47 [==============================] - 0s 3ms/step - loss: 25.5603 - mean_absolute_percentage_error: 2.6137 - val_loss: 42.8880 - val_mean_absolute_percentage_error: 4.0596\n",
            "Epoch 126/200\n",
            "47/47 [==============================] - 0s 3ms/step - loss: 22.0852 - mean_absolute_percentage_error: 2.6424 - val_loss: 20.7046 - val_mean_absolute_percentage_error: 2.6004\n",
            "Epoch 127/200\n",
            "47/47 [==============================] - 0s 3ms/step - loss: 17.2553 - mean_absolute_percentage_error: 2.4115 - val_loss: 17.8636 - val_mean_absolute_percentage_error: 2.3732\n",
            "Epoch 128/200\n",
            "47/47 [==============================] - 0s 3ms/step - loss: 18.5122 - mean_absolute_percentage_error: 2.5003 - val_loss: 12.7865 - val_mean_absolute_percentage_error: 2.0826\n",
            "Epoch 129/200\n",
            "47/47 [==============================] - 0s 4ms/step - loss: 21.7348 - mean_absolute_percentage_error: 2.4516 - val_loss: 62.0014 - val_mean_absolute_percentage_error: 5.0662\n",
            "Epoch 130/200\n",
            "47/47 [==============================] - 0s 3ms/step - loss: 26.3542 - mean_absolute_percentage_error: 2.9107 - val_loss: 17.9165 - val_mean_absolute_percentage_error: 2.6469\n",
            "Epoch 131/200\n",
            "47/47 [==============================] - 0s 3ms/step - loss: 27.1824 - mean_absolute_percentage_error: 2.9587 - val_loss: 15.3081 - val_mean_absolute_percentage_error: 2.3790\n",
            "Epoch 132/200\n",
            "47/47 [==============================] - 0s 4ms/step - loss: 16.8132 - mean_absolute_percentage_error: 2.3669 - val_loss: 9.5062 - val_mean_absolute_percentage_error: 1.5871\n",
            "Epoch 133/200\n",
            "47/47 [==============================] - 0s 3ms/step - loss: 22.5549 - mean_absolute_percentage_error: 2.6410 - val_loss: 86.0250 - val_mean_absolute_percentage_error: 6.4385\n",
            "Epoch 134/200\n",
            "47/47 [==============================] - 0s 4ms/step - loss: 23.3444 - mean_absolute_percentage_error: 2.8364 - val_loss: 9.5344 - val_mean_absolute_percentage_error: 1.5906\n",
            "Epoch 135/200\n",
            "47/47 [==============================] - 0s 4ms/step - loss: 18.8332 - mean_absolute_percentage_error: 2.2868 - val_loss: 37.2481 - val_mean_absolute_percentage_error: 4.0911\n",
            "Epoch 136/200\n",
            "47/47 [==============================] - 0s 3ms/step - loss: 30.6440 - mean_absolute_percentage_error: 2.9309 - val_loss: 21.6737 - val_mean_absolute_percentage_error: 2.6728\n",
            "Epoch 137/200\n",
            "47/47 [==============================] - 0s 3ms/step - loss: 21.3893 - mean_absolute_percentage_error: 2.5478 - val_loss: 9.8373 - val_mean_absolute_percentage_error: 1.6484\n",
            "Epoch 138/200\n",
            "47/47 [==============================] - 0s 3ms/step - loss: 19.9838 - mean_absolute_percentage_error: 2.5406 - val_loss: 19.6388 - val_mean_absolute_percentage_error: 2.5196\n",
            "Epoch 139/200\n",
            "47/47 [==============================] - 0s 3ms/step - loss: 17.4881 - mean_absolute_percentage_error: 2.2851 - val_loss: 12.3913 - val_mean_absolute_percentage_error: 1.8630\n",
            "Epoch 140/200\n",
            "47/47 [==============================] - 0s 3ms/step - loss: 20.8473 - mean_absolute_percentage_error: 2.6568 - val_loss: 14.6093 - val_mean_absolute_percentage_error: 2.0887\n",
            "Epoch 141/200\n",
            "47/47 [==============================] - 0s 4ms/step - loss: 20.2745 - mean_absolute_percentage_error: 2.5719 - val_loss: 26.2982 - val_mean_absolute_percentage_error: 3.0222\n",
            "Epoch 142/200\n",
            "47/47 [==============================] - 0s 4ms/step - loss: 24.0886 - mean_absolute_percentage_error: 2.7019 - val_loss: 12.2698 - val_mean_absolute_percentage_error: 2.0087\n",
            "Epoch 143/200\n",
            "47/47 [==============================] - 0s 3ms/step - loss: 19.3152 - mean_absolute_percentage_error: 2.4556 - val_loss: 9.4927 - val_mean_absolute_percentage_error: 1.5844\n",
            "Epoch 144/200\n",
            "47/47 [==============================] - 0s 3ms/step - loss: 16.7817 - mean_absolute_percentage_error: 2.2359 - val_loss: 12.8697 - val_mean_absolute_percentage_error: 1.9121\n",
            "Epoch 145/200\n",
            "47/47 [==============================] - 0s 4ms/step - loss: 18.2981 - mean_absolute_percentage_error: 2.4389 - val_loss: 13.4743 - val_mean_absolute_percentage_error: 1.9768\n",
            "Epoch 146/200\n",
            "47/47 [==============================] - 0s 3ms/step - loss: 16.0623 - mean_absolute_percentage_error: 2.3236 - val_loss: 9.7288 - val_mean_absolute_percentage_error: 1.6214\n",
            "Epoch 147/200\n",
            "47/47 [==============================] - 0s 4ms/step - loss: 18.9953 - mean_absolute_percentage_error: 2.3561 - val_loss: 17.3724 - val_mean_absolute_percentage_error: 2.3478\n",
            "Epoch 148/200\n",
            "47/47 [==============================] - 0s 3ms/step - loss: 24.2092 - mean_absolute_percentage_error: 2.7411 - val_loss: 18.7731 - val_mean_absolute_percentage_error: 2.4700\n",
            "Epoch 149/200\n",
            "47/47 [==============================] - 0s 4ms/step - loss: 20.3286 - mean_absolute_percentage_error: 2.6200 - val_loss: 10.3930 - val_mean_absolute_percentage_error: 1.6394\n",
            "Epoch 150/200\n",
            "47/47 [==============================] - 0s 3ms/step - loss: 16.9529 - mean_absolute_percentage_error: 2.1801 - val_loss: 9.5156 - val_mean_absolute_percentage_error: 1.5711\n",
            "Epoch 151/200\n",
            "47/47 [==============================] - 0s 3ms/step - loss: 26.3251 - mean_absolute_percentage_error: 2.6951 - val_loss: 12.4363 - val_mean_absolute_percentage_error: 2.0058\n",
            "Epoch 152/200\n",
            "47/47 [==============================] - 0s 3ms/step - loss: 16.8118 - mean_absolute_percentage_error: 2.3400 - val_loss: 9.8495 - val_mean_absolute_percentage_error: 1.5719\n",
            "Epoch 153/200\n",
            "47/47 [==============================] - 0s 4ms/step - loss: 19.7814 - mean_absolute_percentage_error: 2.2542 - val_loss: 9.9869 - val_mean_absolute_percentage_error: 1.6497\n",
            "Epoch 154/200\n",
            "47/47 [==============================] - 0s 4ms/step - loss: 21.9957 - mean_absolute_percentage_error: 2.5806 - val_loss: 17.5268 - val_mean_absolute_percentage_error: 2.3710\n",
            "Epoch 155/200\n",
            "47/47 [==============================] - 0s 4ms/step - loss: 21.5466 - mean_absolute_percentage_error: 2.4919 - val_loss: 16.1439 - val_mean_absolute_percentage_error: 2.4335\n",
            "Epoch 156/200\n",
            "47/47 [==============================] - 0s 4ms/step - loss: 18.5725 - mean_absolute_percentage_error: 2.5197 - val_loss: 17.1477 - val_mean_absolute_percentage_error: 2.3385\n",
            "Epoch 157/200\n",
            "47/47 [==============================] - 0s 3ms/step - loss: 20.3918 - mean_absolute_percentage_error: 2.4682 - val_loss: 36.7245 - val_mean_absolute_percentage_error: 4.0043\n",
            "Epoch 158/200\n",
            "47/47 [==============================] - 0s 4ms/step - loss: 21.9889 - mean_absolute_percentage_error: 2.5492 - val_loss: 18.5761 - val_mean_absolute_percentage_error: 2.6677\n",
            "Epoch 159/200\n",
            "47/47 [==============================] - 0s 4ms/step - loss: 26.3429 - mean_absolute_percentage_error: 2.6512 - val_loss: 43.7201 - val_mean_absolute_percentage_error: 4.4114\n",
            "Epoch 160/200\n",
            "47/47 [==============================] - 0s 4ms/step - loss: 21.0152 - mean_absolute_percentage_error: 2.4396 - val_loss: 78.2053 - val_mean_absolute_percentage_error: 5.8600\n",
            "Epoch 161/200\n",
            "47/47 [==============================] - 0s 3ms/step - loss: 30.7279 - mean_absolute_percentage_error: 2.8873 - val_loss: 27.9362 - val_mean_absolute_percentage_error: 3.4090\n",
            "Epoch 162/200\n",
            "47/47 [==============================] - 0s 3ms/step - loss: 19.6284 - mean_absolute_percentage_error: 2.4501 - val_loss: 9.3222 - val_mean_absolute_percentage_error: 1.5172\n",
            "Epoch 163/200\n",
            "47/47 [==============================] - 0s 4ms/step - loss: 18.1824 - mean_absolute_percentage_error: 2.3672 - val_loss: 61.0030 - val_mean_absolute_percentage_error: 5.0712\n",
            "Epoch 164/200\n",
            "47/47 [==============================] - 0s 3ms/step - loss: 19.2051 - mean_absolute_percentage_error: 2.3335 - val_loss: 13.8024 - val_mean_absolute_percentage_error: 2.1714\n",
            "Epoch 165/200\n",
            "47/47 [==============================] - 0s 4ms/step - loss: 16.3278 - mean_absolute_percentage_error: 2.1561 - val_loss: 34.4235 - val_mean_absolute_percentage_error: 3.8525\n",
            "Epoch 166/200\n",
            "47/47 [==============================] - 0s 3ms/step - loss: 17.9645 - mean_absolute_percentage_error: 2.3764 - val_loss: 66.4280 - val_mean_absolute_percentage_error: 5.3429\n",
            "Epoch 167/200\n",
            "47/47 [==============================] - 0s 3ms/step - loss: 26.9580 - mean_absolute_percentage_error: 2.7765 - val_loss: 9.3131 - val_mean_absolute_percentage_error: 1.5227\n",
            "Epoch 168/200\n",
            "47/47 [==============================] - 0s 3ms/step - loss: 22.2290 - mean_absolute_percentage_error: 2.7071 - val_loss: 38.8704 - val_mean_absolute_percentage_error: 3.8832\n",
            "Epoch 169/200\n",
            "47/47 [==============================] - 0s 4ms/step - loss: 22.0414 - mean_absolute_percentage_error: 2.6279 - val_loss: 11.2457 - val_mean_absolute_percentage_error: 1.8344\n",
            "Epoch 170/200\n",
            "47/47 [==============================] - 0s 4ms/step - loss: 17.9253 - mean_absolute_percentage_error: 2.3020 - val_loss: 9.6778 - val_mean_absolute_percentage_error: 1.5959\n",
            "Epoch 171/200\n",
            "47/47 [==============================] - 0s 4ms/step - loss: 15.3493 - mean_absolute_percentage_error: 2.1513 - val_loss: 13.4100 - val_mean_absolute_percentage_error: 2.1211\n",
            "Epoch 172/200\n",
            "47/47 [==============================] - 0s 3ms/step - loss: 15.9022 - mean_absolute_percentage_error: 2.0998 - val_loss: 10.8019 - val_mean_absolute_percentage_error: 1.6977\n",
            "Epoch 173/200\n",
            "47/47 [==============================] - 0s 4ms/step - loss: 19.0782 - mean_absolute_percentage_error: 2.3202 - val_loss: 16.5584 - val_mean_absolute_percentage_error: 2.4654\n",
            "Epoch 174/200\n",
            "47/47 [==============================] - 0s 4ms/step - loss: 21.9270 - mean_absolute_percentage_error: 2.4091 - val_loss: 12.9904 - val_mean_absolute_percentage_error: 1.9496\n",
            "Epoch 175/200\n",
            "47/47 [==============================] - 0s 4ms/step - loss: 17.3780 - mean_absolute_percentage_error: 2.3315 - val_loss: 9.3633 - val_mean_absolute_percentage_error: 1.5178\n",
            "Epoch 176/200\n",
            "47/47 [==============================] - 0s 4ms/step - loss: 24.4260 - mean_absolute_percentage_error: 2.4064 - val_loss: 20.1301 - val_mean_absolute_percentage_error: 2.5954\n",
            "Epoch 177/200\n",
            "47/47 [==============================] - 0s 4ms/step - loss: 14.9484 - mean_absolute_percentage_error: 2.3007 - val_loss: 22.3830 - val_mean_absolute_percentage_error: 2.7714\n",
            "Epoch 178/200\n",
            "47/47 [==============================] - 0s 4ms/step - loss: 20.0669 - mean_absolute_percentage_error: 2.6450 - val_loss: 38.8493 - val_mean_absolute_percentage_error: 4.1300\n",
            "Epoch 179/200\n",
            "47/47 [==============================] - 0s 4ms/step - loss: 20.7228 - mean_absolute_percentage_error: 2.3506 - val_loss: 54.6270 - val_mean_absolute_percentage_error: 4.7552\n",
            "Epoch 180/200\n",
            "47/47 [==============================] - 0s 4ms/step - loss: 18.6774 - mean_absolute_percentage_error: 2.4713 - val_loss: 18.8621 - val_mean_absolute_percentage_error: 2.4876\n",
            "Epoch 181/200\n",
            "47/47 [==============================] - 0s 3ms/step - loss: 14.6895 - mean_absolute_percentage_error: 2.1476 - val_loss: 11.8270 - val_mean_absolute_percentage_error: 1.9238\n",
            "Epoch 182/200\n",
            "47/47 [==============================] - 0s 4ms/step - loss: 16.9380 - mean_absolute_percentage_error: 2.2979 - val_loss: 9.3154 - val_mean_absolute_percentage_error: 1.5203\n",
            "Epoch 183/200\n",
            "47/47 [==============================] - 0s 3ms/step - loss: 18.8666 - mean_absolute_percentage_error: 2.3916 - val_loss: 9.3224 - val_mean_absolute_percentage_error: 1.5325\n",
            "Epoch 184/200\n",
            "47/47 [==============================] - 0s 3ms/step - loss: 21.9271 - mean_absolute_percentage_error: 2.3664 - val_loss: 9.4766 - val_mean_absolute_percentage_error: 1.5298\n",
            "Epoch 185/200\n",
            "47/47 [==============================] - 0s 4ms/step - loss: 17.7242 - mean_absolute_percentage_error: 2.3991 - val_loss: 95.1253 - val_mean_absolute_percentage_error: 6.5101\n",
            "Epoch 186/200\n",
            "47/47 [==============================] - 0s 3ms/step - loss: 29.0730 - mean_absolute_percentage_error: 2.7748 - val_loss: 17.0296 - val_mean_absolute_percentage_error: 2.5360\n",
            "Epoch 187/200\n",
            "47/47 [==============================] - 0s 3ms/step - loss: 20.7411 - mean_absolute_percentage_error: 2.4770 - val_loss: 16.7530 - val_mean_absolute_percentage_error: 2.2918\n",
            "Epoch 188/200\n",
            "47/47 [==============================] - 0s 4ms/step - loss: 18.5602 - mean_absolute_percentage_error: 2.4020 - val_loss: 44.5056 - val_mean_absolute_percentage_error: 4.1768\n",
            "Epoch 189/200\n",
            "47/47 [==============================] - 0s 4ms/step - loss: 20.7944 - mean_absolute_percentage_error: 2.4540 - val_loss: 23.7849 - val_mean_absolute_percentage_error: 3.1280\n",
            "Epoch 190/200\n",
            "47/47 [==============================] - 0s 4ms/step - loss: 24.2817 - mean_absolute_percentage_error: 2.7431 - val_loss: 33.0343 - val_mean_absolute_percentage_error: 3.4828\n",
            "Epoch 191/200\n",
            "47/47 [==============================] - 0s 3ms/step - loss: 20.0092 - mean_absolute_percentage_error: 2.3893 - val_loss: 32.6319 - val_mean_absolute_percentage_error: 3.4565\n",
            "Epoch 192/200\n",
            "47/47 [==============================] - 0s 4ms/step - loss: 24.4601 - mean_absolute_percentage_error: 2.6420 - val_loss: 9.8531 - val_mean_absolute_percentage_error: 1.6372\n",
            "Epoch 193/200\n",
            "47/47 [==============================] - 0s 4ms/step - loss: 18.7015 - mean_absolute_percentage_error: 2.2054 - val_loss: 30.9954 - val_mean_absolute_percentage_error: 3.6510\n",
            "Epoch 194/200\n",
            "47/47 [==============================] - 0s 3ms/step - loss: 20.3756 - mean_absolute_percentage_error: 2.5846 - val_loss: 20.9814 - val_mean_absolute_percentage_error: 2.9003\n",
            "Epoch 195/200\n",
            "47/47 [==============================] - 0s 4ms/step - loss: 20.0098 - mean_absolute_percentage_error: 2.4056 - val_loss: 13.6821 - val_mean_absolute_percentage_error: 2.1770\n",
            "Epoch 196/200\n",
            "47/47 [==============================] - 0s 3ms/step - loss: 18.9069 - mean_absolute_percentage_error: 2.3666 - val_loss: 12.0262 - val_mean_absolute_percentage_error: 1.8339\n",
            "Epoch 197/200\n",
            "47/47 [==============================] - 0s 4ms/step - loss: 18.8040 - mean_absolute_percentage_error: 2.4084 - val_loss: 10.2801 - val_mean_absolute_percentage_error: 1.6223\n",
            "Epoch 198/200\n",
            "47/47 [==============================] - 0s 4ms/step - loss: 17.8683 - mean_absolute_percentage_error: 2.3209 - val_loss: 13.7031 - val_mean_absolute_percentage_error: 2.1703\n",
            "Epoch 199/200\n",
            "47/47 [==============================] - 0s 4ms/step - loss: 18.7182 - mean_absolute_percentage_error: 2.3772 - val_loss: 15.0710 - val_mean_absolute_percentage_error: 2.3311\n",
            "Epoch 200/200\n",
            "47/47 [==============================] - 0s 4ms/step - loss: 16.6494 - mean_absolute_percentage_error: 2.3377 - val_loss: 9.3103 - val_mean_absolute_percentage_error: 1.5246\n"
          ],
          "name": "stdout"
        }
      ]
    },
    {
      "cell_type": "code",
      "metadata": {
        "id": "SW4Ke8IJ8T3t"
      },
      "source": [
        "y_pred_ann = ann_relu.predict(x_test)\n",
        "#print(y_pred_ann)"
      ],
      "execution_count": 63,
      "outputs": []
    },
    {
      "cell_type": "code",
      "metadata": {
        "id": "r7_QQ8eIJtCm",
        "colab": {
          "base_uri": "https://localhost:8080/"
        },
        "outputId": "99775039-2868-4975-b545-ffaad9c9641c"
      },
      "source": [
        "mse_ann = mean_squared_error(y_test, y_pred_ann)\n",
        "print(f'The MSE for the ANN algorithm is: {mse_ann}')"
      ],
      "execution_count": 64,
      "outputs": [
        {
          "output_type": "stream",
          "text": [
            "The MSE for the ANN algorithm is: 9.993550807359448\n"
          ],
          "name": "stdout"
        }
      ]
    },
    {
      "cell_type": "code",
      "metadata": {
        "id": "huHSrX_Rj__q",
        "colab": {
          "base_uri": "https://localhost:8080/"
        },
        "outputId": "e5ffcea9-0ebe-45d1-ad23-6053f5ea16a4"
      },
      "source": [
        "rmse_ann = mean_squared_error(y_test, y_pred_ann, squared=False)\n",
        "print(f'The RMSE for the ANN algorithm is: {rmse_ann}')"
      ],
      "execution_count": 65,
      "outputs": [
        {
          "output_type": "stream",
          "text": [
            "The RMSE for the ANN algorithm is: 3.161257788817522\n"
          ],
          "name": "stdout"
        }
      ]
    },
    {
      "cell_type": "code",
      "metadata": {
        "id": "fWUgMAAUkfWI",
        "colab": {
          "base_uri": "https://localhost:8080/"
        },
        "outputId": "ecf25cb3-72bb-4648-b5de-1f7903e68c70"
      },
      "source": [
        "mae_ann = mean_absolute_error(y_test, y_pred_ann)\n",
        "print(f'The MAE for the ANN algorithm is: {mae_ann}')"
      ],
      "execution_count": 66,
      "outputs": [
        {
          "output_type": "stream",
          "text": [
            "The MAE for the ANN algorithm is: 1.8866583045208645\n"
          ],
          "name": "stdout"
        }
      ]
    },
    {
      "cell_type": "code",
      "metadata": {
        "id": "xZvOeZGh_K27"
      },
      "source": [
        "def mean_absolute_percentage_error(y_test, y_pred_ann): \n",
        "    y_test, y_pred_ann = np.array(y_test), np.array(y_pred_ann)\n",
        "    return np.mean(np.abs((y_test - y_pred_ann) / y_test)) * 100\n",
        "    return mean_absolute_percentage_error"
      ],
      "execution_count": 67,
      "outputs": []
    },
    {
      "cell_type": "code",
      "metadata": {
        "id": "Kq1_mMuzCVMc",
        "colab": {
          "base_uri": "https://localhost:8080/"
        },
        "outputId": "c7916c18-a3b4-49e9-c664-28e1e9b5be39"
      },
      "source": [
        "mae_ann = mean_absolute_error(y_test, y_pred_ann)\n",
        "print(mae_ann/y_test)"
      ],
      "execution_count": 68,
      "outputs": [
        {
          "output_type": "stream",
          "text": [
            "[0.09720032 0.00865201 0.04438152 0.01101634 0.01182117 0.00790091\n",
            " 0.09675171 0.0250752  0.01510777 0.01334082 0.0104669  0.02424076\n",
            " 0.00932743 0.01023633 0.06918439 0.01328165 0.03734478 0.0104172\n",
            " 0.00855084 0.01118152 0.00747103 0.0170476  0.06512456 0.02000698\n",
            " 0.00937051 0.04505991 0.01059325 0.01126363 0.0158636  0.010792\n",
            " 0.00919783 0.01118285 0.00712888 0.00707355 0.00717061 0.01639432\n",
            " 0.04069582 0.02939178 0.01351184 0.01367838 0.0152285  0.0329893\n",
            " 0.01567252 0.01582236 0.07694365 0.02665525 0.00786534 0.07312629\n",
            " 0.0209396  0.02146857 0.02049602 0.04900411 0.01484389 0.01372914\n",
            " 0.00681178 0.01754868 0.01432107 0.0100536  0.01531627 0.01998367\n",
            " 0.01518804 0.02435655 0.01049835 0.01327791 0.00722028 0.00703741\n",
            " 0.00885506 0.01476605 0.01392985 0.07231347 0.00939243 0.03185309\n",
            " 0.01214144 0.00948928 0.00977543 0.01406065 0.01161521 0.01179383\n",
            " 0.03244468 0.01278484 0.00976582 0.02405531 0.0070887  0.02465898\n",
            " 0.0151966  0.01228373 0.04063447 0.02702949 0.01731038 0.0995073\n",
            " 0.00760289 0.01161449 0.01692829 0.0685559  0.02393022 0.01043102\n",
            " 0.03192855 0.01047794 0.0857572  0.0113853  0.0251588  0.02073023\n",
            " 0.03836231 0.0124294  0.02578459 0.0256235  0.02083324 0.02742236\n",
            " 0.01107974 0.01018054 0.00976784 0.08907735 0.03008065 0.00963367\n",
            " 0.05032431 0.00757329 0.01580513 0.07498642 0.0239454  0.03395102\n",
            " 0.03689203 0.01122009 0.02229302 0.00748793 0.09149652 0.00740592\n",
            " 0.00694084 0.02524971 0.01458343 0.03792278 0.0173072  0.0149533\n",
            " 0.00692555 0.01794596 0.00658405 0.01061411 0.01499252 0.0072131\n",
            " 0.01326111 0.01224705 0.02846068 0.02489652 0.01706457 0.00986024\n",
            " 0.02525985 0.00756085 0.01775511 0.02076674 0.00656503 0.0660826\n",
            " 0.01068202 0.01461733 0.00718481 0.06121539 0.04081026 0.01081056\n",
            " 0.0110869  0.06066425 0.00779514 0.08878392 0.01410902 0.02970648\n",
            " 0.02435026 0.00910593 0.00724718 0.06070329 0.01447712 0.00717361\n",
            " 0.02518231 0.07957226 0.01120809 0.01100285 0.02443225 0.01347709\n",
            " 0.01009718 0.01561803 0.01274166 0.02459148 0.01149911 0.00994234\n",
            " 0.02473009 0.01668871 0.01934241 0.06779225 0.02361866 0.00898451\n",
            " 0.01104924 0.010716   0.06888128 0.01290287 0.02296043 0.05126789\n",
            " 0.01439208 0.01601986 0.01803689 0.0121948  0.0180749  0.03935458\n",
            " 0.01134082 0.01802655 0.01397525 0.00932328 0.01078522 0.07079393\n",
            " 0.01117424 0.02303331 0.01208544 0.02485388 0.01578529 0.01804206\n",
            " 0.07122153 0.01018109 0.02726779 0.011026   0.02663267 0.07809016\n",
            " 0.02374947 0.01240162 0.01778692 0.0161446  0.06676073 0.00709644\n",
            " 0.0718727  0.02292137 0.01608541 0.01022524 0.06977286 0.01104148\n",
            " 0.00992143 0.01850209 0.02327484 0.01146765 0.03267506 0.02143686\n",
            " 0.01248946 0.01646155 0.01014442 0.02797536 0.01917531 0.01009448\n",
            " 0.02430634 0.00919155 0.01686775 0.00931683 0.02526323 0.06885614\n",
            " 0.00977847 0.01849484 0.00991517 0.03631681 0.01147184 0.01720776\n",
            " 0.01027872 0.00996597 0.02340477 0.01114717 0.01136884 0.00700345\n",
            " 0.01035544 0.06716477 0.01070384 0.0109543  0.01231179 0.01345787\n",
            " 0.01006379 0.02358028 0.00933989 0.01409532 0.09495009 0.03203699\n",
            " 0.01997521 0.01101763 0.04013313 0.03257352 0.06843157 0.00853113\n",
            " 0.02202753 0.01136952 0.04292738 0.00950985 0.06430328 0.01386026\n",
            " 0.00923972 0.03849538 0.02397583 0.01568555 0.05708497 0.01121876\n",
            " 0.03223404 0.01181155 0.07016208 0.06793872 0.06167566 0.00703688\n",
            " 0.06738065 0.0178915  0.01784243 0.01326018 0.01180711 0.02294646\n",
            " 0.01241549 0.00800517 0.04958366 0.00985252 0.01663133 0.00695773\n",
            " 0.01341767 0.07691228 0.00804545 0.00702849 0.0363518  0.01708156\n",
            " 0.01087348 0.01349155 0.06806127 0.01409637 0.00722581 0.0118412\n",
            " 0.01465138 0.03523172 0.01517094 0.00973106 0.00931499 0.01187698\n",
            " 0.01650909 0.00901155 0.01683314 0.01490958 0.08979811 0.03269205\n",
            " 0.01344348 0.01106609 0.02444174 0.0711678  0.01496279 0.0111327\n",
            " 0.03862937 0.01114388 0.00965191 0.00926923 0.00895169 0.00702039\n",
            " 0.03280574 0.02346298 0.01454296 0.00879233 0.01846226 0.0139939\n",
            " 0.00955948 0.01055355 0.00938403 0.00648069 0.03143907 0.05864652\n",
            " 0.01088352 0.02460752 0.0250021  0.01813397 0.01063086 0.02313215\n",
            " 0.00715945 0.01002049 0.01434176 0.01707229 0.00706402 0.00681645\n",
            " 0.01352152 0.0257705  0.0096062  0.00643011 0.01194617 0.06046982\n",
            " 0.01110714 0.00729397 0.01625589 0.00686058 0.01200164 0.01093588\n",
            " 0.08238683 0.07242451 0.01758958 0.00774554 0.02907472 0.03171387\n",
            " 0.01106934 0.01158454 0.01151314 0.01032089 0.01634886 0.01516972\n",
            " 0.0903572  0.08650428 0.01391957 0.00898665 0.01424646 0.00970903\n",
            " 0.00662473 0.01052588 0.0108329  0.07184533 0.0096861  0.01659476\n",
            " 0.01050536 0.0087313  0.01680166 0.01649465 0.02292973 0.09710027\n",
            " 0.02843923 0.0113109  0.09022756 0.02460431 0.06664282 0.01047329\n",
            " 0.09765312 0.01026585 0.01766699 0.00687357 0.01048901 0.01441958\n",
            " 0.01013515 0.0711678  0.00992247 0.01262654 0.01187324 0.07087371\n",
            " 0.01048376 0.07389966 0.01008261 0.01122343 0.02534468 0.01601713\n",
            " 0.07754453 0.00955222 0.01639859 0.01141492 0.01088227 0.01652065\n",
            " 0.01097405 0.00984943 0.03421578]\n"
          ],
          "name": "stdout"
        }
      ]
    },
    {
      "cell_type": "code",
      "metadata": {
        "id": "vGpJlAnprhKj"
      },
      "source": [
        "keras.backend.clear_session()"
      ],
      "execution_count": 69,
      "outputs": []
    }
  ]
}