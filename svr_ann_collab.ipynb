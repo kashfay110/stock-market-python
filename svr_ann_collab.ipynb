{
  "nbformat": 4,
  "nbformat_minor": 0,
  "metadata": {
    "colab": {
      "name": "svr_ann_collab.ipynb",
      "provenance": [],
      "collapsed_sections": [],
      "authorship_tag": "ABX9TyPBj5UEQyfO3f9PtgTMxq9L",
      "include_colab_link": true
    },
    "kernelspec": {
      "name": "python3",
      "display_name": "Python 3"
    }
  },
  "cells": [
    {
      "cell_type": "markdown",
      "metadata": {
        "id": "view-in-github",
        "colab_type": "text"
      },
      "source": [
        "<a href=\"https://colab.research.google.com/github/kashfay110/stock-market-python/blob/main/svr_ann_collab.ipynb\" target=\"_parent\"><img src=\"https://colab.research.google.com/assets/colab-badge.svg\" alt=\"Open In Colab\"/></a>"
      ]
    },
    {
      "cell_type": "code",
      "metadata": {
        "colab": {
          "base_uri": "https://localhost:8080/"
        },
        "id": "MQK3NVSPpP3d",
        "outputId": "ca8866b2-91af-43ff-f1f3-582f9893ec9c"
      },
      "source": [
        "pip install mplfinance\n"
      ],
      "execution_count": 1,
      "outputs": [
        {
          "output_type": "stream",
          "text": [
            "Collecting mplfinance\n",
            "\u001b[?25l  Downloading https://files.pythonhosted.org/packages/b3/db/b2546ef2e855a70ad33b00fcc80a2ee4f43116f60d6db1d0186618d8ad95/mplfinance-0.12.7a10-py3-none-any.whl (59kB)\n",
            "\r\u001b[K     |█████▌                          | 10kB 12.7MB/s eta 0:00:01\r\u001b[K     |███████████                     | 20kB 18.6MB/s eta 0:00:01\r\u001b[K     |████████████████▍               | 30kB 16.3MB/s eta 0:00:01\r\u001b[K     |█████████████████████▉          | 40kB 10.9MB/s eta 0:00:01\r\u001b[K     |███████████████████████████▎    | 51kB 7.7MB/s eta 0:00:01\r\u001b[K     |████████████████████████████████| 61kB 3.9MB/s \n",
            "\u001b[?25hRequirement already satisfied: pandas in /usr/local/lib/python3.7/dist-packages (from mplfinance) (1.1.5)\n",
            "Requirement already satisfied: matplotlib in /usr/local/lib/python3.7/dist-packages (from mplfinance) (3.2.2)\n",
            "Requirement already satisfied: numpy>=1.15.4 in /usr/local/lib/python3.7/dist-packages (from pandas->mplfinance) (1.19.5)\n",
            "Requirement already satisfied: python-dateutil>=2.7.3 in /usr/local/lib/python3.7/dist-packages (from pandas->mplfinance) (2.8.1)\n",
            "Requirement already satisfied: pytz>=2017.2 in /usr/local/lib/python3.7/dist-packages (from pandas->mplfinance) (2018.9)\n",
            "Requirement already satisfied: pyparsing!=2.0.4,!=2.1.2,!=2.1.6,>=2.0.1 in /usr/local/lib/python3.7/dist-packages (from matplotlib->mplfinance) (2.4.7)\n",
            "Requirement already satisfied: cycler>=0.10 in /usr/local/lib/python3.7/dist-packages (from matplotlib->mplfinance) (0.10.0)\n",
            "Requirement already satisfied: kiwisolver>=1.0.1 in /usr/local/lib/python3.7/dist-packages (from matplotlib->mplfinance) (1.3.1)\n",
            "Requirement already satisfied: six>=1.5 in /usr/local/lib/python3.7/dist-packages (from python-dateutil>=2.7.3->pandas->mplfinance) (1.15.0)\n",
            "Installing collected packages: mplfinance\n",
            "Successfully installed mplfinance-0.12.7a10\n"
          ],
          "name": "stdout"
        }
      ]
    },
    {
      "cell_type": "code",
      "metadata": {
        "id": "8syOrDK7o9Ma"
      },
      "source": [
        "# import quandl\n",
        "import numpy as np\n",
        "from sklearn.linear_model import LinearRegression\n",
        "from sklearn.svm import SVR\n",
        "from sklearn.model_selection import train_test_split\n",
        "import pandas as pd\n",
        "# from sklearn.metrics import mean_squared_error, mean_absolute_error, mean_absolute_percentage_error\n",
        "import matplotlib.pyplot as plt\n",
        "plt.style.use('fivethirtyeight')\n",
        "import mplfinance as mpf\n",
        "import keras\n",
        "from keras.models import Sequential\n",
        "from keras.layers import Dense"
      ],
      "execution_count": 2,
      "outputs": []
    },
    {
      "cell_type": "code",
      "metadata": {
        "colab": {
          "resources": {
            "http://localhost:8080/nbextensions/google.colab/files.js": {
              "data": "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",
              "ok": true,
              "headers": [
                [
                  "content-type",
                  "application/javascript"
                ]
              ],
              "status": 200,
              "status_text": ""
            }
          },
          "base_uri": "https://localhost:8080/",
          "height": 72
        },
        "id": "1sEFBUZipBVm",
        "outputId": "92517001-9b84-43d2-8ac6-378fdb200ff6"
      },
      "source": [
        "# Get the stock data\n",
        "#df = quandl.get(\"WIKI/FB\")\n",
        "#df = pd.read_csv (r'dataset/FB.csv')\n",
        "# Take a look at data\n",
        "#print(df.head())\n",
        "\n",
        "from google.colab import files\n",
        "uploaded = files.upload()\n",
        "import io\n",
        "df = pd.read_csv(io.BytesIO(uploaded['FB.csv']))\n",
        "df.head()\n",
        "\n",
        "df2 = pd.read_csv(io.BytesIO(uploaded['FB.csv']))\n",
        "#print(df2.head())\n",
        "# Get the Adjusted Close\n",
        "df = df[['Adj Close']]\n",
        "# Take a look at new data\n",
        "#print(df.head())"
      ],
      "execution_count": 3,
      "outputs": [
        {
          "output_type": "display_data",
          "data": {
            "text/html": [
              "\n",
              "     <input type=\"file\" id=\"files-55c4e20e-921e-4395-a854-44b8d2be1055\" name=\"files[]\" multiple disabled\n",
              "        style=\"border:none\" />\n",
              "     <output id=\"result-55c4e20e-921e-4395-a854-44b8d2be1055\">\n",
              "      Upload widget is only available when the cell has been executed in the\n",
              "      current browser session. Please rerun this cell to enable.\n",
              "      </output>\n",
              "      <script src=\"/nbextensions/google.colab/files.js\"></script> "
            ],
            "text/plain": [
              "<IPython.core.display.HTML object>"
            ]
          },
          "metadata": {
            "tags": []
          }
        },
        {
          "output_type": "stream",
          "text": [
            "Saving FB.csv to FB.csv\n"
          ],
          "name": "stdout"
        }
      ]
    },
    {
      "cell_type": "code",
      "metadata": {
        "id": "hh2AGR1_qAZ8"
      },
      "source": [
        "# A variable for predicting 'forecast_out' days out in future\n",
        "forecast_out = 1"
      ],
      "execution_count": 4,
      "outputs": []
    },
    {
      "cell_type": "code",
      "metadata": {
        "id": "mVVK0AlfqC3_"
      },
      "source": [
        "# Create another column (dependent variable) shifted 'forecast_out' units up\n",
        "df['Prediction'] = df[[\"Adj Close\"]].shift(-forecast_out)\n",
        "#print(df.tail())"
      ],
      "execution_count": 5,
      "outputs": []
    },
    {
      "cell_type": "code",
      "metadata": {
        "id": "7QlKbQKNqGE5"
      },
      "source": [
        "# Create the independent dataset\n",
        "# Convert the dataframe to numpy array\n",
        "X = np.array(df.drop(['Prediction'],1))\n",
        "# Remove the last 'forecast_out' rows\n",
        "X = X[:-forecast_out]\n",
        "#print(X)"
      ],
      "execution_count": 6,
      "outputs": []
    },
    {
      "cell_type": "code",
      "metadata": {
        "id": "AEO7kFYtqIbV"
      },
      "source": [
        "# Create the dependent dataset\n",
        "# Convert the dataframe to numpy array (All of the values including the NaNs)\n",
        "y = np.array(df['Prediction'])\n",
        "# Get all of the y values except the last 'forecast_out' rows\n",
        "y = y[:-forecast_out]\n",
        "#print(y)"
      ],
      "execution_count": 7,
      "outputs": []
    },
    {
      "cell_type": "code",
      "metadata": {
        "id": "EUuTkpvBqJm1",
        "colab": {
          "base_uri": "https://localhost:8080/"
        },
        "outputId": "732a99bc-213d-44e3-fbfa-c83a0417713f"
      },
      "source": [
        "z = np.array(df2)\n",
        "z = z[:-forecast_out]\n",
        "print(z)"
      ],
      "execution_count": 8,
      "outputs": [
        {
          "output_type": "stream",
          "text": [
            "[['2012-05-21' 36.529999 36.66 ... 34.029999 34.029999 168192700]\n",
            " ['2012-05-22' 32.610001000000004 33.59 ... 31.0 31.0 101786600]\n",
            " ['2012-05-23' 31.370001000000002 32.5 ... 32.0 32.0 73600000]\n",
            " ...\n",
            " ['2021-02-19' 269.859985 270.269989 ... 261.559998 261.559998 25549900]\n",
            " ['2021-02-22' 257.950012 263.070007 ... 260.329987 260.329987 17382300]\n",
            " ['2021-02-23' 259.5 267.459991 ... 265.859985 265.859985 21905400]]\n"
          ],
          "name": "stdout"
        }
      ]
    },
    {
      "cell_type": "code",
      "metadata": {
        "id": "Spa6ZNahqOR7"
      },
      "source": [
        "# Split the data into 80% training and 20% testing\n",
        "x_train, x_test, y_train, y_test = train_test_split(X, y, test_size=0.2)\n",
        "# print(x_train.shape, x_test.shape, y_train.shape, y_test.shape)\n",
        "# train_set = x_train + y_train\n",
        "# test_set = x_test + y_test"
      ],
      "execution_count": 9,
      "outputs": []
    },
    {
      "cell_type": "code",
      "metadata": {
        "id": "GiQ4Oc8mqRLr",
        "colab": {
          "base_uri": "https://localhost:8080/"
        },
        "outputId": "de3c1492-2469-40ae-e6f9-dbb89f1c31ab"
      },
      "source": [
        "# Create and train the Support Vector Machine (Regressor)\n",
        "svr_rbf = SVR(kernel='rbf', C=1e3, gamma=0.1)\n",
        "svr_rbf.fit(x_train, y_train)"
      ],
      "execution_count": 10,
      "outputs": [
        {
          "output_type": "execute_result",
          "data": {
            "text/plain": [
              "SVR(C=1000.0, cache_size=200, coef0=0.0, degree=3, epsilon=0.1, gamma=0.1,\n",
              "    kernel='rbf', max_iter=-1, shrinking=True, tol=0.001, verbose=False)"
            ]
          },
          "metadata": {
            "tags": []
          },
          "execution_count": 10
        }
      ]
    },
    {
      "cell_type": "code",
      "metadata": {
        "id": "5bWGgk1AqUw1",
        "colab": {
          "base_uri": "https://localhost:8080/"
        },
        "outputId": "0512445c-2c80-44e2-f223-d2c8b7aaa625"
      },
      "source": [
        "# Create and train the Linear Regression model\n",
        "lr = LinearRegression()\n",
        "# Train model\n",
        "lr.fit(x_train, y_train)"
      ],
      "execution_count": 11,
      "outputs": [
        {
          "output_type": "execute_result",
          "data": {
            "text/plain": [
              "LinearRegression(copy_X=True, fit_intercept=True, n_jobs=None, normalize=False)"
            ]
          },
          "metadata": {
            "tags": []
          },
          "execution_count": 11
        }
      ]
    },
    {
      "cell_type": "code",
      "metadata": {
        "id": "HS3hgjfvqVlP"
      },
      "source": [
        "#Set x_forecast equal to the last forecast_out rows of the original dat set from Adj. Close column\n",
        "x_forecast = np.array(df.drop(['Prediction'],1))[-forecast_out:]\n",
        "#print(x_forecast)"
      ],
      "execution_count": 12,
      "outputs": []
    },
    {
      "cell_type": "code",
      "metadata": {
        "id": "qrSbK5bEqXm7",
        "colab": {
          "base_uri": "https://localhost:8080/"
        },
        "outputId": "ee9dfdc6-604f-4c4a-8221-c10c78350407"
      },
      "source": [
        "# Print the SVR prediction for the next forecast_out days\n",
        "svm_prediction = svr_rbf.predict(x_forecast)\n",
        "print(f'The next {forecast_out} days by the SVR model: \\n{svm_prediction}')\n",
        "\n",
        "# Print the Linear Regression prediction for the next forecast_out days\n",
        "lr_prediction = lr.predict(x_forecast)\n",
        "print(f'The next {forecast_out} days by the LR model: \\n{lr_prediction}')"
      ],
      "execution_count": 13,
      "outputs": [
        {
          "output_type": "stream",
          "text": [
            "The next 1 days by the SVR model: \n",
            "[261.89832359]\n",
            "The next 1 days by the LR model: \n",
            "[264.26294377]\n"
          ],
          "name": "stdout"
        }
      ]
    },
    {
      "cell_type": "code",
      "metadata": {
        "id": "gHDx_uM-qevz",
        "colab": {
          "base_uri": "https://localhost:8080/"
        },
        "outputId": "a8425fe5-3d9d-4b0c-f3bd-d6999bdd398f"
      },
      "source": [
        "# Testing Model: Score returns the coefficient of determination R^2 of the prediction\n",
        "# Best possible score is 1.0\n",
        "svm_confidence = svr_rbf.score(x_test, y_test)\n",
        "print(\"svr confidence: \", svm_confidence)\n",
        "\n",
        "# Testing Model: Score returns the coefficient of determination R^2 of the prediction\n",
        "# It provides a measure of how well observed outcomes are replicated by the model, based on the proportion of total variation of outcomes explained by the model\n",
        "# Best possible score is 1.0\n",
        "lr_confidence = lr.score(x_test, y_test)\n",
        "print(\"lr confidence: \", lr_confidence)"
      ],
      "execution_count": 14,
      "outputs": [
        {
          "output_type": "stream",
          "text": [
            "svr confidence:  0.9978131850417562\n",
            "lr confidence:  0.9983191212575176\n"
          ],
          "name": "stdout"
        }
      ]
    },
    {
      "cell_type": "code",
      "metadata": {
        "id": "zFdQM9GZqkkw"
      },
      "source": [
        "## Creating predicted values for both models\n",
        "y_pred_svr = svr_rbf.predict(x_test)\n",
        "y_pred_lr = lr.predict(x_test)"
      ],
      "execution_count": 15,
      "outputs": []
    },
    {
      "cell_type": "code",
      "metadata": {
        "id": "ooukC4Lmqm9s"
      },
      "source": [
        "model = Sequential()\n",
        "model.add(Dense(200, input_dim=1, activation='relu'))\n",
        "model.add(Dense(200, input_dim=200, activation='relu'))\n",
        "model.add(Dense(200, input_dim=200, activation='relu'))\n",
        "model.add(Dense(1, activation='linear'))"
      ],
      "execution_count": 16,
      "outputs": []
    },
    {
      "cell_type": "code",
      "metadata": {
        "id": "uosVICCCqvYW"
      },
      "source": [
        "keras.optimizers.Adam(lr=0.0001, beta_1=0.9, beta_2=0.999, amsgrad=False)\n",
        "model.compile(loss='mean_squared_error', optimizer='RMSprop', metrics=['mean_absolute_percentage_error'])"
      ],
      "execution_count": 17,
      "outputs": []
    },
    {
      "cell_type": "code",
      "metadata": {
        "id": "wkxxGMlYqyaE",
        "colab": {
          "base_uri": "https://localhost:8080/"
        },
        "outputId": "c251a8e1-53fb-4704-d6cd-ae4976f8ed17"
      },
      "source": [
        "model.summary()"
      ],
      "execution_count": 18,
      "outputs": [
        {
          "output_type": "stream",
          "text": [
            "Model: \"sequential\"\n",
            "_________________________________________________________________\n",
            "Layer (type)                 Output Shape              Param #   \n",
            "=================================================================\n",
            "dense (Dense)                (None, 200)               400       \n",
            "_________________________________________________________________\n",
            "dense_1 (Dense)              (None, 200)               40200     \n",
            "_________________________________________________________________\n",
            "dense_2 (Dense)              (None, 200)               40200     \n",
            "_________________________________________________________________\n",
            "dense_3 (Dense)              (None, 1)                 201       \n",
            "=================================================================\n",
            "Total params: 81,001\n",
            "Trainable params: 81,001\n",
            "Non-trainable params: 0\n",
            "_________________________________________________________________\n"
          ],
          "name": "stdout"
        }
      ]
    },
    {
      "cell_type": "code",
      "metadata": {
        "id": "O8-sCx_fqzh-",
        "colab": {
          "base_uri": "https://localhost:8080/"
        },
        "outputId": "923fa6a5-59e8-42f0-91cf-d79cc8bb9d38"
      },
      "source": [
        "history = model.fit(x_train, y_train, epochs=100, batch_size=32,validation_split=0.15,verbose=1)"
      ],
      "execution_count": 21,
      "outputs": [
        {
          "output_type": "stream",
          "text": [
            "Epoch 1/100\n",
            "47/47 [==============================] - 0s 4ms/step - loss: 14.7914 - mean_absolute_percentage_error: 2.1112 - val_loss: 15.4981 - val_mean_absolute_percentage_error: 2.1192\n",
            "Epoch 2/100\n",
            "47/47 [==============================] - 0s 3ms/step - loss: 15.1227 - mean_absolute_percentage_error: 2.0682 - val_loss: 22.4203 - val_mean_absolute_percentage_error: 3.0459\n",
            "Epoch 3/100\n",
            "47/47 [==============================] - 0s 3ms/step - loss: 15.7287 - mean_absolute_percentage_error: 2.1633 - val_loss: 11.3042 - val_mean_absolute_percentage_error: 1.9436\n",
            "Epoch 4/100\n",
            "47/47 [==============================] - 0s 3ms/step - loss: 15.5671 - mean_absolute_percentage_error: 2.0522 - val_loss: 30.8579 - val_mean_absolute_percentage_error: 3.1483\n",
            "Epoch 5/100\n",
            "47/47 [==============================] - 0s 3ms/step - loss: 16.3086 - mean_absolute_percentage_error: 2.1649 - val_loss: 19.9671 - val_mean_absolute_percentage_error: 2.4542\n",
            "Epoch 6/100\n",
            "47/47 [==============================] - 0s 3ms/step - loss: 14.7922 - mean_absolute_percentage_error: 2.0543 - val_loss: 9.9841 - val_mean_absolute_percentage_error: 1.7060\n",
            "Epoch 7/100\n",
            "47/47 [==============================] - 0s 3ms/step - loss: 17.2988 - mean_absolute_percentage_error: 2.1806 - val_loss: 11.8817 - val_mean_absolute_percentage_error: 1.8282\n",
            "Epoch 8/100\n",
            "47/47 [==============================] - 0s 3ms/step - loss: 14.8887 - mean_absolute_percentage_error: 2.0982 - val_loss: 18.7342 - val_mean_absolute_percentage_error: 2.3662\n",
            "Epoch 9/100\n",
            "47/47 [==============================] - 0s 3ms/step - loss: 16.0468 - mean_absolute_percentage_error: 2.0847 - val_loss: 10.4146 - val_mean_absolute_percentage_error: 1.8154\n",
            "Epoch 10/100\n",
            "47/47 [==============================] - 0s 3ms/step - loss: 16.7768 - mean_absolute_percentage_error: 2.1802 - val_loss: 12.1009 - val_mean_absolute_percentage_error: 2.0381\n",
            "Epoch 11/100\n",
            "47/47 [==============================] - 0s 3ms/step - loss: 14.6070 - mean_absolute_percentage_error: 2.0309 - val_loss: 12.4054 - val_mean_absolute_percentage_error: 1.8722\n",
            "Epoch 12/100\n",
            "47/47 [==============================] - 0s 3ms/step - loss: 14.4074 - mean_absolute_percentage_error: 2.0444 - val_loss: 15.7241 - val_mean_absolute_percentage_error: 2.1377\n",
            "Epoch 13/100\n",
            "47/47 [==============================] - 0s 3ms/step - loss: 16.1653 - mean_absolute_percentage_error: 2.1292 - val_loss: 11.1021 - val_mean_absolute_percentage_error: 1.7612\n",
            "Epoch 14/100\n",
            "47/47 [==============================] - 0s 3ms/step - loss: 15.9527 - mean_absolute_percentage_error: 2.0989 - val_loss: 9.9677 - val_mean_absolute_percentage_error: 1.7088\n",
            "Epoch 15/100\n",
            "47/47 [==============================] - 0s 3ms/step - loss: 16.3827 - mean_absolute_percentage_error: 2.2315 - val_loss: 41.7140 - val_mean_absolute_percentage_error: 3.7562\n",
            "Epoch 16/100\n",
            "47/47 [==============================] - 0s 3ms/step - loss: 15.9584 - mean_absolute_percentage_error: 2.1407 - val_loss: 27.7419 - val_mean_absolute_percentage_error: 2.9655\n",
            "Epoch 17/100\n",
            "47/47 [==============================] - 0s 3ms/step - loss: 16.6122 - mean_absolute_percentage_error: 2.0989 - val_loss: 9.9777 - val_mean_absolute_percentage_error: 1.7063\n",
            "Epoch 18/100\n",
            "47/47 [==============================] - 0s 3ms/step - loss: 16.7987 - mean_absolute_percentage_error: 2.1038 - val_loss: 9.9694 - val_mean_absolute_percentage_error: 1.7119\n",
            "Epoch 19/100\n",
            "47/47 [==============================] - 0s 3ms/step - loss: 15.8798 - mean_absolute_percentage_error: 2.0882 - val_loss: 13.5721 - val_mean_absolute_percentage_error: 1.9652\n",
            "Epoch 20/100\n",
            "47/47 [==============================] - 0s 3ms/step - loss: 14.7490 - mean_absolute_percentage_error: 2.1300 - val_loss: 9.9818 - val_mean_absolute_percentage_error: 1.7230\n",
            "Epoch 21/100\n",
            "47/47 [==============================] - 0s 3ms/step - loss: 15.5059 - mean_absolute_percentage_error: 2.1402 - val_loss: 16.9227 - val_mean_absolute_percentage_error: 2.2314\n",
            "Epoch 22/100\n",
            "47/47 [==============================] - 0s 3ms/step - loss: 16.1789 - mean_absolute_percentage_error: 2.1488 - val_loss: 14.7728 - val_mean_absolute_percentage_error: 2.0613\n",
            "Epoch 23/100\n",
            "47/47 [==============================] - 0s 3ms/step - loss: 16.1512 - mean_absolute_percentage_error: 2.0738 - val_loss: 9.9671 - val_mean_absolute_percentage_error: 1.7153\n",
            "Epoch 24/100\n",
            "47/47 [==============================] - 0s 3ms/step - loss: 16.4108 - mean_absolute_percentage_error: 2.1042 - val_loss: 41.2720 - val_mean_absolute_percentage_error: 4.2724\n",
            "Epoch 25/100\n",
            "47/47 [==============================] - 0s 3ms/step - loss: 14.5771 - mean_absolute_percentage_error: 2.1097 - val_loss: 12.8014 - val_mean_absolute_percentage_error: 2.1287\n",
            "Epoch 26/100\n",
            "47/47 [==============================] - 0s 3ms/step - loss: 14.9314 - mean_absolute_percentage_error: 2.0949 - val_loss: 19.6124 - val_mean_absolute_percentage_error: 2.4287\n",
            "Epoch 27/100\n",
            "47/47 [==============================] - 0s 3ms/step - loss: 17.3982 - mean_absolute_percentage_error: 2.1792 - val_loss: 10.8951 - val_mean_absolute_percentage_error: 1.8904\n",
            "Epoch 28/100\n",
            "47/47 [==============================] - 0s 3ms/step - loss: 15.5678 - mean_absolute_percentage_error: 2.0682 - val_loss: 10.9906 - val_mean_absolute_percentage_error: 1.9046\n",
            "Epoch 29/100\n",
            "47/47 [==============================] - 0s 3ms/step - loss: 14.0752 - mean_absolute_percentage_error: 2.0469 - val_loss: 19.2808 - val_mean_absolute_percentage_error: 2.4062\n",
            "Epoch 30/100\n",
            "47/47 [==============================] - 0s 3ms/step - loss: 15.3074 - mean_absolute_percentage_error: 2.0655 - val_loss: 49.1552 - val_mean_absolute_percentage_error: 4.1321\n",
            "Epoch 31/100\n",
            "47/47 [==============================] - 0s 3ms/step - loss: 16.0127 - mean_absolute_percentage_error: 2.0972 - val_loss: 10.2133 - val_mean_absolute_percentage_error: 1.7809\n",
            "Epoch 32/100\n",
            "47/47 [==============================] - 0s 3ms/step - loss: 16.3320 - mean_absolute_percentage_error: 2.1299 - val_loss: 12.6194 - val_mean_absolute_percentage_error: 2.1037\n",
            "Epoch 33/100\n",
            "47/47 [==============================] - 0s 3ms/step - loss: 15.6200 - mean_absolute_percentage_error: 2.1074 - val_loss: 12.3442 - val_mean_absolute_percentage_error: 1.8675\n",
            "Epoch 34/100\n",
            "47/47 [==============================] - 0s 3ms/step - loss: 15.4916 - mean_absolute_percentage_error: 2.1192 - val_loss: 18.8878 - val_mean_absolute_percentage_error: 2.7550\n",
            "Epoch 35/100\n",
            "47/47 [==============================] - 0s 3ms/step - loss: 16.2589 - mean_absolute_percentage_error: 2.2143 - val_loss: 11.3747 - val_mean_absolute_percentage_error: 1.9594\n",
            "Epoch 36/100\n",
            "47/47 [==============================] - 0s 3ms/step - loss: 15.8275 - mean_absolute_percentage_error: 2.1586 - val_loss: 11.7984 - val_mean_absolute_percentage_error: 2.0087\n",
            "Epoch 37/100\n",
            "47/47 [==============================] - 0s 3ms/step - loss: 15.9694 - mean_absolute_percentage_error: 2.2148 - val_loss: 10.1483 - val_mean_absolute_percentage_error: 1.7712\n",
            "Epoch 38/100\n",
            "47/47 [==============================] - 0s 3ms/step - loss: 14.8921 - mean_absolute_percentage_error: 2.0930 - val_loss: 10.0452 - val_mean_absolute_percentage_error: 1.7446\n",
            "Epoch 39/100\n",
            "47/47 [==============================] - 0s 3ms/step - loss: 15.0350 - mean_absolute_percentage_error: 2.0427 - val_loss: 9.9676 - val_mean_absolute_percentage_error: 1.7147\n",
            "Epoch 40/100\n",
            "47/47 [==============================] - 0s 3ms/step - loss: 15.7169 - mean_absolute_percentage_error: 2.1076 - val_loss: 9.9762 - val_mean_absolute_percentage_error: 1.7225\n",
            "Epoch 41/100\n",
            "47/47 [==============================] - 0s 3ms/step - loss: 14.8650 - mean_absolute_percentage_error: 2.1205 - val_loss: 10.8412 - val_mean_absolute_percentage_error: 1.7423\n",
            "Epoch 42/100\n",
            "47/47 [==============================] - 0s 3ms/step - loss: 15.6116 - mean_absolute_percentage_error: 2.0600 - val_loss: 38.1104 - val_mean_absolute_percentage_error: 3.5537\n",
            "Epoch 43/100\n",
            "47/47 [==============================] - 0s 3ms/step - loss: 16.6566 - mean_absolute_percentage_error: 2.1456 - val_loss: 10.0410 - val_mean_absolute_percentage_error: 1.7445\n",
            "Epoch 44/100\n",
            "47/47 [==============================] - 0s 4ms/step - loss: 15.9958 - mean_absolute_percentage_error: 2.1409 - val_loss: 10.7185 - val_mean_absolute_percentage_error: 1.8631\n",
            "Epoch 45/100\n",
            "47/47 [==============================] - 0s 3ms/step - loss: 15.5944 - mean_absolute_percentage_error: 2.0934 - val_loss: 17.9291 - val_mean_absolute_percentage_error: 2.6670\n",
            "Epoch 46/100\n",
            "47/47 [==============================] - 0s 3ms/step - loss: 15.4865 - mean_absolute_percentage_error: 2.1170 - val_loss: 10.2243 - val_mean_absolute_percentage_error: 1.7854\n",
            "Epoch 47/100\n",
            "47/47 [==============================] - 0s 3ms/step - loss: 14.8366 - mean_absolute_percentage_error: 2.0619 - val_loss: 10.4664 - val_mean_absolute_percentage_error: 1.7134\n",
            "Epoch 48/100\n",
            "47/47 [==============================] - 0s 3ms/step - loss: 16.1861 - mean_absolute_percentage_error: 2.1387 - val_loss: 19.2744 - val_mean_absolute_percentage_error: 2.4072\n",
            "Epoch 49/100\n",
            "47/47 [==============================] - 0s 3ms/step - loss: 15.6171 - mean_absolute_percentage_error: 2.1269 - val_loss: 15.4976 - val_mean_absolute_percentage_error: 2.4213\n",
            "Epoch 50/100\n",
            "47/47 [==============================] - 0s 3ms/step - loss: 15.9193 - mean_absolute_percentage_error: 2.1053 - val_loss: 10.0074 - val_mean_absolute_percentage_error: 1.7026\n",
            "Epoch 51/100\n",
            "47/47 [==============================] - 0s 3ms/step - loss: 16.3237 - mean_absolute_percentage_error: 2.0566 - val_loss: 10.0269 - val_mean_absolute_percentage_error: 1.7007\n",
            "Epoch 52/100\n",
            "47/47 [==============================] - 0s 3ms/step - loss: 15.3913 - mean_absolute_percentage_error: 2.0702 - val_loss: 10.1856 - val_mean_absolute_percentage_error: 1.7000\n",
            "Epoch 53/100\n",
            "47/47 [==============================] - 0s 3ms/step - loss: 14.9633 - mean_absolute_percentage_error: 2.0063 - val_loss: 12.8648 - val_mean_absolute_percentage_error: 1.9091\n",
            "Epoch 54/100\n",
            "47/47 [==============================] - 0s 3ms/step - loss: 15.5485 - mean_absolute_percentage_error: 2.1885 - val_loss: 13.3670 - val_mean_absolute_percentage_error: 1.9487\n",
            "Epoch 55/100\n",
            "47/47 [==============================] - 0s 3ms/step - loss: 16.3402 - mean_absolute_percentage_error: 2.1695 - val_loss: 11.5474 - val_mean_absolute_percentage_error: 1.9713\n",
            "Epoch 56/100\n",
            "47/47 [==============================] - 0s 3ms/step - loss: 15.7320 - mean_absolute_percentage_error: 2.0923 - val_loss: 9.9725 - val_mean_absolute_percentage_error: 1.7071\n",
            "Epoch 57/100\n",
            "47/47 [==============================] - 0s 3ms/step - loss: 15.3736 - mean_absolute_percentage_error: 2.0222 - val_loss: 11.1497 - val_mean_absolute_percentage_error: 1.7646\n",
            "Epoch 58/100\n",
            "47/47 [==============================] - 0s 3ms/step - loss: 16.1215 - mean_absolute_percentage_error: 2.0767 - val_loss: 17.1929 - val_mean_absolute_percentage_error: 2.5828\n",
            "Epoch 59/100\n",
            "47/47 [==============================] - 0s 3ms/step - loss: 15.6165 - mean_absolute_percentage_error: 2.0668 - val_loss: 13.8763 - val_mean_absolute_percentage_error: 2.2436\n",
            "Epoch 60/100\n",
            "47/47 [==============================] - 0s 3ms/step - loss: 16.9872 - mean_absolute_percentage_error: 2.1649 - val_loss: 18.1404 - val_mean_absolute_percentage_error: 2.3276\n",
            "Epoch 61/100\n",
            "47/47 [==============================] - 0s 3ms/step - loss: 14.9236 - mean_absolute_percentage_error: 2.0266 - val_loss: 13.2603 - val_mean_absolute_percentage_error: 2.1640\n",
            "Epoch 62/100\n",
            "47/47 [==============================] - 0s 3ms/step - loss: 15.8877 - mean_absolute_percentage_error: 2.1282 - val_loss: 10.0651 - val_mean_absolute_percentage_error: 1.7432\n",
            "Epoch 63/100\n",
            "47/47 [==============================] - 0s 3ms/step - loss: 15.7975 - mean_absolute_percentage_error: 2.1037 - val_loss: 9.9701 - val_mean_absolute_percentage_error: 1.7024\n",
            "Epoch 64/100\n",
            "47/47 [==============================] - 0s 3ms/step - loss: 15.2530 - mean_absolute_percentage_error: 2.0004 - val_loss: 10.1078 - val_mean_absolute_percentage_error: 1.7527\n",
            "Epoch 65/100\n",
            "47/47 [==============================] - 0s 3ms/step - loss: 15.4959 - mean_absolute_percentage_error: 2.0329 - val_loss: 22.2154 - val_mean_absolute_percentage_error: 2.6205\n",
            "Epoch 66/100\n",
            "47/47 [==============================] - 0s 4ms/step - loss: 15.6316 - mean_absolute_percentage_error: 2.1300 - val_loss: 13.0474 - val_mean_absolute_percentage_error: 1.9225\n",
            "Epoch 67/100\n",
            "47/47 [==============================] - 0s 3ms/step - loss: 15.6528 - mean_absolute_percentage_error: 2.1239 - val_loss: 10.1634 - val_mean_absolute_percentage_error: 1.7653\n",
            "Epoch 68/100\n",
            "47/47 [==============================] - 0s 3ms/step - loss: 14.4105 - mean_absolute_percentage_error: 1.9854 - val_loss: 16.4016 - val_mean_absolute_percentage_error: 2.1940\n",
            "Epoch 69/100\n",
            "47/47 [==============================] - 0s 3ms/step - loss: 15.0265 - mean_absolute_percentage_error: 2.0593 - val_loss: 9.9819 - val_mean_absolute_percentage_error: 1.7211\n",
            "Epoch 70/100\n",
            "47/47 [==============================] - 0s 3ms/step - loss: 15.8473 - mean_absolute_percentage_error: 2.1172 - val_loss: 28.6147 - val_mean_absolute_percentage_error: 3.4808\n",
            "Epoch 71/100\n",
            "47/47 [==============================] - 0s 3ms/step - loss: 15.5436 - mean_absolute_percentage_error: 2.0804 - val_loss: 13.2872 - val_mean_absolute_percentage_error: 1.9423\n",
            "Epoch 72/100\n",
            "47/47 [==============================] - 0s 3ms/step - loss: 14.8930 - mean_absolute_percentage_error: 2.1267 - val_loss: 11.3271 - val_mean_absolute_percentage_error: 1.9327\n",
            "Epoch 73/100\n",
            "47/47 [==============================] - 0s 3ms/step - loss: 15.2071 - mean_absolute_percentage_error: 2.0737 - val_loss: 10.2016 - val_mean_absolute_percentage_error: 1.6952\n",
            "Epoch 74/100\n",
            "47/47 [==============================] - 0s 3ms/step - loss: 16.0582 - mean_absolute_percentage_error: 2.0978 - val_loss: 25.9920 - val_mean_absolute_percentage_error: 2.8643\n",
            "Epoch 75/100\n",
            "47/47 [==============================] - 0s 3ms/step - loss: 14.0491 - mean_absolute_percentage_error: 2.0195 - val_loss: 9.9886 - val_mean_absolute_percentage_error: 1.7019\n",
            "Epoch 76/100\n",
            "47/47 [==============================] - 0s 3ms/step - loss: 15.1479 - mean_absolute_percentage_error: 2.1224 - val_loss: 23.5253 - val_mean_absolute_percentage_error: 2.7007\n",
            "Epoch 77/100\n",
            "47/47 [==============================] - 0s 3ms/step - loss: 15.2527 - mean_absolute_percentage_error: 2.0594 - val_loss: 10.0039 - val_mean_absolute_percentage_error: 1.7324\n",
            "Epoch 78/100\n",
            "47/47 [==============================] - 0s 3ms/step - loss: 14.2663 - mean_absolute_percentage_error: 1.9305 - val_loss: 10.6915 - val_mean_absolute_percentage_error: 1.8576\n",
            "Epoch 79/100\n",
            "47/47 [==============================] - 0s 3ms/step - loss: 15.5484 - mean_absolute_percentage_error: 2.1043 - val_loss: 10.8668 - val_mean_absolute_percentage_error: 1.8835\n",
            "Epoch 80/100\n",
            "47/47 [==============================] - 0s 3ms/step - loss: 15.6944 - mean_absolute_percentage_error: 2.0469 - val_loss: 27.5364 - val_mean_absolute_percentage_error: 2.9558\n",
            "Epoch 81/100\n",
            "47/47 [==============================] - 0s 3ms/step - loss: 15.4143 - mean_absolute_percentage_error: 2.1482 - val_loss: 16.5002 - val_mean_absolute_percentage_error: 2.5176\n",
            "Epoch 82/100\n",
            "47/47 [==============================] - 0s 3ms/step - loss: 16.0623 - mean_absolute_percentage_error: 2.0426 - val_loss: 13.2242 - val_mean_absolute_percentage_error: 2.1683\n",
            "Epoch 83/100\n",
            "47/47 [==============================] - 0s 3ms/step - loss: 15.8140 - mean_absolute_percentage_error: 2.0981 - val_loss: 10.1575 - val_mean_absolute_percentage_error: 1.7674\n",
            "Epoch 84/100\n",
            "47/47 [==============================] - 0s 3ms/step - loss: 15.0876 - mean_absolute_percentage_error: 2.0201 - val_loss: 34.2058 - val_mean_absolute_percentage_error: 3.8490\n",
            "Epoch 85/100\n",
            "47/47 [==============================] - 0s 3ms/step - loss: 15.3072 - mean_absolute_percentage_error: 2.0525 - val_loss: 29.7666 - val_mean_absolute_percentage_error: 3.5634\n",
            "Epoch 86/100\n",
            "47/47 [==============================] - 0s 3ms/step - loss: 15.6054 - mean_absolute_percentage_error: 2.1291 - val_loss: 10.9016 - val_mean_absolute_percentage_error: 1.7451\n",
            "Epoch 87/100\n",
            "47/47 [==============================] - 0s 3ms/step - loss: 14.5680 - mean_absolute_percentage_error: 2.0024 - val_loss: 10.6187 - val_mean_absolute_percentage_error: 1.8444\n",
            "Epoch 88/100\n",
            "47/47 [==============================] - 0s 3ms/step - loss: 15.5423 - mean_absolute_percentage_error: 1.9966 - val_loss: 20.7485 - val_mean_absolute_percentage_error: 2.9029\n",
            "Epoch 89/100\n",
            "47/47 [==============================] - 0s 3ms/step - loss: 13.8855 - mean_absolute_percentage_error: 2.0229 - val_loss: 10.5593 - val_mean_absolute_percentage_error: 1.7190\n",
            "Epoch 90/100\n",
            "47/47 [==============================] - 0s 3ms/step - loss: 16.0391 - mean_absolute_percentage_error: 2.0318 - val_loss: 30.8960 - val_mean_absolute_percentage_error: 3.6419\n",
            "Epoch 91/100\n",
            "47/47 [==============================] - 0s 3ms/step - loss: 14.9508 - mean_absolute_percentage_error: 2.0894 - val_loss: 11.6092 - val_mean_absolute_percentage_error: 1.8035\n",
            "Epoch 92/100\n",
            "47/47 [==============================] - 0s 3ms/step - loss: 14.9167 - mean_absolute_percentage_error: 2.0653 - val_loss: 39.3877 - val_mean_absolute_percentage_error: 3.6302\n",
            "Epoch 93/100\n",
            "47/47 [==============================] - 0s 3ms/step - loss: 16.1714 - mean_absolute_percentage_error: 2.1039 - val_loss: 11.0763 - val_mean_absolute_percentage_error: 1.9146\n",
            "Epoch 94/100\n",
            "47/47 [==============================] - 0s 3ms/step - loss: 14.0667 - mean_absolute_percentage_error: 1.9987 - val_loss: 12.0901 - val_mean_absolute_percentage_error: 2.0368\n",
            "Epoch 95/100\n",
            "47/47 [==============================] - 0s 3ms/step - loss: 14.6410 - mean_absolute_percentage_error: 2.0748 - val_loss: 29.7201 - val_mean_absolute_percentage_error: 3.5710\n",
            "Epoch 96/100\n",
            "47/47 [==============================] - 0s 3ms/step - loss: 15.1385 - mean_absolute_percentage_error: 2.0495 - val_loss: 10.4451 - val_mean_absolute_percentage_error: 1.8217\n",
            "Epoch 97/100\n",
            "47/47 [==============================] - 0s 3ms/step - loss: 14.9887 - mean_absolute_percentage_error: 1.9986 - val_loss: 9.9689 - val_mean_absolute_percentage_error: 1.7087\n",
            "Epoch 98/100\n",
            "47/47 [==============================] - 0s 3ms/step - loss: 14.9190 - mean_absolute_percentage_error: 2.0457 - val_loss: 10.7349 - val_mean_absolute_percentage_error: 1.7334\n",
            "Epoch 99/100\n",
            "47/47 [==============================] - 0s 3ms/step - loss: 15.5772 - mean_absolute_percentage_error: 2.1077 - val_loss: 14.5886 - val_mean_absolute_percentage_error: 2.0454\n",
            "Epoch 100/100\n",
            "47/47 [==============================] - 0s 3ms/step - loss: 13.9946 - mean_absolute_percentage_error: 2.0379 - val_loss: 10.5552 - val_mean_absolute_percentage_error: 1.7197\n"
          ],
          "name": "stdout"
        }
      ]
    },
    {
      "cell_type": "code",
      "metadata": {
        "id": "vGpJlAnprhKj"
      },
      "source": [
        "keras.backend.clear_session()"
      ],
      "execution_count": 20,
      "outputs": []
    }
  ]
}