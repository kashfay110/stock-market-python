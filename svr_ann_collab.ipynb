{
  "nbformat": 4,
  "nbformat_minor": 0,
  "metadata": {
    "colab": {
      "name": "svr_ann_collab.ipynb",
      "provenance": [],
      "collapsed_sections": [],
      "authorship_tag": "ABX9TyMbZIfxUup8NK0fMLva/d2M",
      "include_colab_link": true
    },
    "kernelspec": {
      "name": "python3",
      "display_name": "Python 3"
    }
  },
  "cells": [
    {
      "cell_type": "markdown",
      "metadata": {
        "id": "view-in-github",
        "colab_type": "text"
      },
      "source": [
        "<a href=\"https://colab.research.google.com/github/kashfay110/stock-market-python/blob/main/svr_ann_collab.ipynb\" target=\"_parent\"><img src=\"https://colab.research.google.com/assets/colab-badge.svg\" alt=\"Open In Colab\"/></a>"
      ]
    },
    {
      "cell_type": "code",
      "metadata": {
        "id": "MQK3NVSPpP3d"
      },
      "source": [
        "pip install mplfinance"
      ],
      "execution_count": null,
      "outputs": []
    },
    {
      "cell_type": "code",
      "metadata": {
        "id": "8syOrDK7o9Ma"
      },
      "source": [
        "# import quandl\r\n",
        "import numpy as np\r\n",
        "from sklearn.linear_model import LinearRegression\r\n",
        "from sklearn.svm import SVR\r\n",
        "from sklearn.model_selection import train_test_split\r\n",
        "import pandas as pd\r\n",
        "# from sklearn.metrics import mean_squared_error, mean_absolute_error, mean_absolute_percentage_error\r\n",
        "import matplotlib.pyplot as plt\r\n",
        "plt.style.use('fivethirtyeight')\r\n",
        "import mplfinance as mpf\r\n",
        "import keras\r\n",
        "from keras.models import Sequential\r\n",
        "from keras.layers import Dense"
      ],
      "execution_count": 8,
      "outputs": []
    },
    {
      "cell_type": "code",
      "metadata": {
        "colab": {
          "resources": {
            "http://localhost:8080/nbextensions/google.colab/files.js": {
              "data": "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",
              "ok": true,
              "headers": [
                [
                  "content-type",
                  "application/javascript"
                ]
              ],
              "status": 200,
              "status_text": ""
            }
          },
          "base_uri": "https://localhost:8080/",
          "height": 72
        },
        "id": "1sEFBUZipBVm",
        "outputId": "efb941d5-03d6-46ad-c3f6-e6914cbe3026"
      },
      "source": [
        "# Get the stock data\r\n",
        "#df = quandl.get(\"WIKI/FB\")\r\n",
        "#df = pd.read_csv (r'dataset/FB.csv')\r\n",
        "# Take a look at data\r\n",
        "#print(df.head())\r\n",
        "\r\n",
        "from google.colab import files\r\n",
        "uploaded = files.upload()\r\n",
        "import io\r\n",
        "df = pd.read_csv(io.BytesIO(uploaded['FB.csv']))\r\n",
        "df.head()\r\n",
        "\r\n",
        "df2 = pd.read_csv(io.BytesIO(uploaded['FB.csv']))\r\n",
        "#print(df2.head())\r\n",
        "# Get the Adjusted Close\r\n",
        "df = df[['Adj Close']]\r\n",
        "# Take a look at new data\r\n",
        "#print(df.head())"
      ],
      "execution_count": 10,
      "outputs": [
        {
          "output_type": "display_data",
          "data": {
            "text/html": [
              "\n",
              "     <input type=\"file\" id=\"files-ef4d183c-9092-435c-971f-2a68550cbab5\" name=\"files[]\" multiple disabled\n",
              "        style=\"border:none\" />\n",
              "     <output id=\"result-ef4d183c-9092-435c-971f-2a68550cbab5\">\n",
              "      Upload widget is only available when the cell has been executed in the\n",
              "      current browser session. Please rerun this cell to enable.\n",
              "      </output>\n",
              "      <script src=\"/nbextensions/google.colab/files.js\"></script> "
            ],
            "text/plain": [
              "<IPython.core.display.HTML object>"
            ]
          },
          "metadata": {
            "tags": []
          }
        },
        {
          "output_type": "stream",
          "text": [
            "Saving FB.csv to FB.csv\n"
          ],
          "name": "stdout"
        }
      ]
    },
    {
      "cell_type": "code",
      "metadata": {
        "id": "hh2AGR1_qAZ8"
      },
      "source": [
        "# A variable for predicting 'forecast_out' days out in future\r\n",
        "forecast_out = 1"
      ],
      "execution_count": 11,
      "outputs": []
    },
    {
      "cell_type": "code",
      "metadata": {
        "id": "mVVK0AlfqC3_"
      },
      "source": [
        "# Create another column (dependent variable) shifted 'forecast_out' units up\r\n",
        "df['Prediction'] = df[[\"Adj Close\"]].shift(-forecast_out)\r\n",
        "#print(df.tail())"
      ],
      "execution_count": 12,
      "outputs": []
    },
    {
      "cell_type": "code",
      "metadata": {
        "id": "7QlKbQKNqGE5"
      },
      "source": [
        "# Create the independent dataset\r\n",
        "# Convert the dataframe to numpy array\r\n",
        "X = np.array(df.drop(['Prediction'],1))\r\n",
        "# Remove the last 'forecast_out' rows\r\n",
        "X = X[:-forecast_out]\r\n",
        "#print(X)"
      ],
      "execution_count": 13,
      "outputs": []
    },
    {
      "cell_type": "code",
      "metadata": {
        "id": "AEO7kFYtqIbV"
      },
      "source": [
        "# Create the dependent dataset\r\n",
        "# Convert the dataframe to numpy array (All of the values including the NaNs)\r\n",
        "y = np.array(df['Prediction'])\r\n",
        "# Get all of the y values except the last 'forecast_out' rows\r\n",
        "y = y[:-forecast_out]\r\n",
        "#print(y)"
      ],
      "execution_count": 14,
      "outputs": []
    },
    {
      "cell_type": "code",
      "metadata": {
        "colab": {
          "base_uri": "https://localhost:8080/"
        },
        "id": "EUuTkpvBqJm1",
        "outputId": "bb8e17c6-ef6d-4537-e4f3-6bef218361ac"
      },
      "source": [
        "z = np.array(df2)\r\n",
        "z = z[:-forecast_out]\r\n",
        "print(z)"
      ],
      "execution_count": 15,
      "outputs": [
        {
          "output_type": "stream",
          "text": [
            "[['2012-05-21' 36.529999 36.66 ... 34.029999 34.029999 168192700]\n",
            " ['2012-05-22' 32.610001000000004 33.59 ... 31.0 31.0 101786600]\n",
            " ['2012-05-23' 31.370001000000002 32.5 ... 32.0 32.0 73600000]\n",
            " ...\n",
            " ['2021-02-19' 269.859985 270.269989 ... 261.559998 261.559998 25549900]\n",
            " ['2021-02-22' 257.950012 263.070007 ... 260.329987 260.329987 17382300]\n",
            " ['2021-02-23' 259.5 267.459991 ... 265.859985 265.859985 21905400]]\n"
          ],
          "name": "stdout"
        }
      ]
    },
    {
      "cell_type": "code",
      "metadata": {
        "id": "Spa6ZNahqOR7"
      },
      "source": [
        "# Split the data into 80% training and 20% testing\r\n",
        "x_train, x_test, y_train, y_test = train_test_split(X, y, test_size=0.2)\r\n",
        "# print(x_train.shape, x_test.shape, y_train.shape, y_test.shape)\r\n",
        "# train_set = x_train + y_train\r\n",
        "# test_set = x_test + y_test"
      ],
      "execution_count": 16,
      "outputs": []
    },
    {
      "cell_type": "code",
      "metadata": {
        "colab": {
          "base_uri": "https://localhost:8080/"
        },
        "id": "GiQ4Oc8mqRLr",
        "outputId": "264427d5-7ab3-4614-d864-67604c27ed4e"
      },
      "source": [
        "# Create and train the Support Vector Machine (Regressor)\r\n",
        "svr_rbf = SVR(kernel='rbf', C=1e3, gamma=0.1)\r\n",
        "svr_rbf.fit(x_train, y_train)"
      ],
      "execution_count": 17,
      "outputs": [
        {
          "output_type": "execute_result",
          "data": {
            "text/plain": [
              "SVR(C=1000.0, cache_size=200, coef0=0.0, degree=3, epsilon=0.1, gamma=0.1,\n",
              "    kernel='rbf', max_iter=-1, shrinking=True, tol=0.001, verbose=False)"
            ]
          },
          "metadata": {
            "tags": []
          },
          "execution_count": 17
        }
      ]
    },
    {
      "cell_type": "code",
      "metadata": {
        "colab": {
          "base_uri": "https://localhost:8080/"
        },
        "id": "5bWGgk1AqUw1",
        "outputId": "064b87a2-5012-47ba-b243-8175d01abece"
      },
      "source": [
        "# Create and train the Linear Regression model\r\n",
        "lr = LinearRegression()\r\n",
        "# Train model\r\n",
        "lr.fit(x_train, y_train)"
      ],
      "execution_count": 18,
      "outputs": [
        {
          "output_type": "execute_result",
          "data": {
            "text/plain": [
              "LinearRegression(copy_X=True, fit_intercept=True, n_jobs=None, normalize=False)"
            ]
          },
          "metadata": {
            "tags": []
          },
          "execution_count": 18
        }
      ]
    },
    {
      "cell_type": "code",
      "metadata": {
        "id": "HS3hgjfvqVlP"
      },
      "source": [
        "#Set x_forecast equal to the last forecast_out rows of the original dat set from Adj. Close column\r\n",
        "x_forecast = np.array(df.drop(['Prediction'],1))[-forecast_out:]\r\n",
        "#print(x_forecast)"
      ],
      "execution_count": 19,
      "outputs": []
    },
    {
      "cell_type": "code",
      "metadata": {
        "colab": {
          "base_uri": "https://localhost:8080/"
        },
        "id": "qrSbK5bEqXm7",
        "outputId": "74d8bec7-c533-4a27-bca4-becbdca0d4dc"
      },
      "source": [
        "# Print the SVR prediction for the next forecast_out days\r\n",
        "svm_prediction = svr_rbf.predict(x_forecast)\r\n",
        "print(f'The next {forecast_out} days by the SVR model: \\n{svm_prediction}')\r\n",
        "\r\n",
        "# Print the Linear Regression prediction for the next forecast_out days\r\n",
        "lr_prediction = lr.predict(x_forecast)\r\n",
        "print(f'The next {forecast_out} days by the LR model: \\n{lr_prediction}')"
      ],
      "execution_count": 21,
      "outputs": [
        {
          "output_type": "stream",
          "text": [
            "The next 1 days by the SVR model: \n",
            "[261.34204277]\n",
            "The next 1 days by the LR model: \n",
            "[264.2119742]\n"
          ],
          "name": "stdout"
        }
      ]
    },
    {
      "cell_type": "code",
      "metadata": {
        "colab": {
          "base_uri": "https://localhost:8080/"
        },
        "id": "gHDx_uM-qevz",
        "outputId": "85de3890-6a0a-4660-e5e3-108f7874f39d"
      },
      "source": [
        "# Testing Model: Score returns the coefficient of determination R^2 of the prediction\r\n",
        "# Best possible score is 1.0\r\n",
        "svm_confidence = svr_rbf.score(x_test, y_test)\r\n",
        "print(\"svr confidence: \", svm_confidence)\r\n",
        "\r\n",
        "# Testing Model: Score returns the coefficient of determination R^2 of the prediction\r\n",
        "# It provides a measure of how well observed outcomes are replicated by the model, based on the proportion of total variation of outcomes explained by the model\r\n",
        "# Best possible score is 1.0\r\n",
        "lr_confidence = lr.score(x_test, y_test)\r\n",
        "print(\"lr confidence: \", lr_confidence)"
      ],
      "execution_count": 23,
      "outputs": [
        {
          "output_type": "stream",
          "text": [
            "svr confidence:  0.9980804302098264\n",
            "lr confidence:  0.9983345182462916\n"
          ],
          "name": "stdout"
        }
      ]
    },
    {
      "cell_type": "code",
      "metadata": {
        "id": "zFdQM9GZqkkw"
      },
      "source": [
        "## Creating predicted values for both models\r\n",
        "y_pred_svr = svr_rbf.predict(x_test)\r\n",
        "y_pred_lr = lr.predict(x_test)"
      ],
      "execution_count": 24,
      "outputs": []
    },
    {
      "cell_type": "code",
      "metadata": {
        "id": "ooukC4Lmqm9s"
      },
      "source": [
        "model = Sequential()\r\n",
        "model.add(Dense(200, input_dim=1, activation='relu'))\r\n",
        "model.add(Dense(200, input_dim=200, activation='relu'))\r\n",
        "model.add(Dense(200, input_dim=200, activation='relu'))\r\n",
        "model.add(Dense(1, activation='linear'))"
      ],
      "execution_count": 26,
      "outputs": []
    },
    {
      "cell_type": "code",
      "metadata": {
        "id": "uosVICCCqvYW"
      },
      "source": [
        "keras.optimizers.Adam(lr=0.0001, beta_1=0.9, beta_2=0.999, amsgrad=False)\r\n",
        "model.compile(loss='mean_squared_error', optimizer='RMSprop', metrics=['mean_absolute_percentage_error'])"
      ],
      "execution_count": 27,
      "outputs": []
    },
    {
      "cell_type": "code",
      "metadata": {
        "colab": {
          "base_uri": "https://localhost:8080/"
        },
        "id": "wkxxGMlYqyaE",
        "outputId": "d2c66d92-ef1a-4c86-9d0d-fd0d933c6ea0"
      },
      "source": [
        "model.summary()"
      ],
      "execution_count": 28,
      "outputs": [
        {
          "output_type": "stream",
          "text": [
            "Model: \"sequential\"\n",
            "_________________________________________________________________\n",
            "Layer (type)                 Output Shape              Param #   \n",
            "=================================================================\n",
            "dense (Dense)                (None, 200)               400       \n",
            "_________________________________________________________________\n",
            "dense_1 (Dense)              (None, 200)               40200     \n",
            "_________________________________________________________________\n",
            "dense_2 (Dense)              (None, 200)               40200     \n",
            "_________________________________________________________________\n",
            "dense_3 (Dense)              (None, 1)                 201       \n",
            "=================================================================\n",
            "Total params: 81,001\n",
            "Trainable params: 81,001\n",
            "Non-trainable params: 0\n",
            "_________________________________________________________________\n"
          ],
          "name": "stdout"
        }
      ]
    },
    {
      "cell_type": "code",
      "metadata": {
        "colab": {
          "base_uri": "https://localhost:8080/"
        },
        "id": "O8-sCx_fqzh-",
        "outputId": "a53e82d6-350d-48b3-f153-092c5701eb82"
      },
      "source": [
        "history = model.fit(x_train, y_train, epochs=20, batch_size=32,validation_split=0.15,validation_data=None,verbose=1)"
      ],
      "execution_count": 29,
      "outputs": [
        {
          "output_type": "stream",
          "text": [
            "Epoch 1/20\n",
            "47/47 [==============================] - 1s 8ms/step - loss: 3222.5361 - mean_absolute_percentage_error: 21.7295 - val_loss: 116.3266 - val_mean_absolute_percentage_error: 7.2839\n",
            "Epoch 2/20\n",
            "47/47 [==============================] - 0s 3ms/step - loss: 80.6102 - mean_absolute_percentage_error: 4.8945 - val_loss: 437.4271 - val_mean_absolute_percentage_error: 14.4233\n",
            "Epoch 3/20\n",
            "47/47 [==============================] - 0s 3ms/step - loss: 151.0964 - mean_absolute_percentage_error: 6.2920 - val_loss: 11.7606 - val_mean_absolute_percentage_error: 1.8416\n",
            "Epoch 4/20\n",
            "47/47 [==============================] - 0s 3ms/step - loss: 86.4597 - mean_absolute_percentage_error: 5.0407 - val_loss: 12.3172 - val_mean_absolute_percentage_error: 1.8946\n",
            "Epoch 5/20\n",
            "47/47 [==============================] - 0s 3ms/step - loss: 88.4008 - mean_absolute_percentage_error: 5.6841 - val_loss: 12.1753 - val_mean_absolute_percentage_error: 1.9077\n",
            "Epoch 6/20\n",
            "47/47 [==============================] - 0s 3ms/step - loss: 62.7024 - mean_absolute_percentage_error: 4.7673 - val_loss: 56.3176 - val_mean_absolute_percentage_error: 4.8799\n",
            "Epoch 7/20\n",
            "47/47 [==============================] - 0s 3ms/step - loss: 74.0076 - mean_absolute_percentage_error: 4.9730 - val_loss: 17.1361 - val_mean_absolute_percentage_error: 2.3627\n",
            "Epoch 8/20\n",
            "47/47 [==============================] - 0s 3ms/step - loss: 86.6720 - mean_absolute_percentage_error: 5.1038 - val_loss: 26.7350 - val_mean_absolute_percentage_error: 3.1742\n",
            "Epoch 9/20\n",
            "47/47 [==============================] - 0s 3ms/step - loss: 56.8347 - mean_absolute_percentage_error: 4.5551 - val_loss: 82.4234 - val_mean_absolute_percentage_error: 6.0323\n",
            "Epoch 10/20\n",
            "47/47 [==============================] - 0s 3ms/step - loss: 52.9534 - mean_absolute_percentage_error: 4.0458 - val_loss: 9.9723 - val_mean_absolute_percentage_error: 1.6337\n",
            "Epoch 11/20\n",
            "47/47 [==============================] - 0s 3ms/step - loss: 51.6696 - mean_absolute_percentage_error: 3.5057 - val_loss: 8.9192 - val_mean_absolute_percentage_error: 1.4985\n",
            "Epoch 12/20\n",
            "47/47 [==============================] - 0s 3ms/step - loss: 51.4670 - mean_absolute_percentage_error: 3.9936 - val_loss: 14.2627 - val_mean_absolute_percentage_error: 2.0863\n",
            "Epoch 13/20\n",
            "47/47 [==============================] - 0s 3ms/step - loss: 52.3296 - mean_absolute_percentage_error: 3.9660 - val_loss: 22.6437 - val_mean_absolute_percentage_error: 2.8210\n",
            "Epoch 14/20\n",
            "47/47 [==============================] - 0s 3ms/step - loss: 63.7081 - mean_absolute_percentage_error: 4.5806 - val_loss: 8.9243 - val_mean_absolute_percentage_error: 1.4951\n",
            "Epoch 15/20\n",
            "47/47 [==============================] - 0s 3ms/step - loss: 52.8494 - mean_absolute_percentage_error: 4.2259 - val_loss: 26.1219 - val_mean_absolute_percentage_error: 3.0972\n",
            "Epoch 16/20\n",
            "47/47 [==============================] - 0s 3ms/step - loss: 57.3388 - mean_absolute_percentage_error: 4.4994 - val_loss: 25.7468 - val_mean_absolute_percentage_error: 3.0703\n",
            "Epoch 17/20\n",
            "47/47 [==============================] - 0s 3ms/step - loss: 34.7954 - mean_absolute_percentage_error: 3.2075 - val_loss: 25.8162 - val_mean_absolute_percentage_error: 3.0767\n",
            "Epoch 18/20\n",
            "47/47 [==============================] - 0s 3ms/step - loss: 59.5752 - mean_absolute_percentage_error: 4.3204 - val_loss: 291.0413 - val_mean_absolute_percentage_error: 11.6703\n",
            "Epoch 19/20\n",
            "47/47 [==============================] - 0s 3ms/step - loss: 56.8129 - mean_absolute_percentage_error: 4.3507 - val_loss: 11.6632 - val_mean_absolute_percentage_error: 1.8401\n",
            "Epoch 20/20\n",
            "47/47 [==============================] - 0s 3ms/step - loss: 39.0021 - mean_absolute_percentage_error: 3.1168 - val_loss: 158.7843 - val_mean_absolute_percentage_error: 8.5986\n"
          ],
          "name": "stdout"
        }
      ]
    }
  ]
}